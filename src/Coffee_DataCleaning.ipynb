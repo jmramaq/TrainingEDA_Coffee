{
 "cells": [
  {
   "cell_type": "code",
   "execution_count": 1,
   "metadata": {},
   "outputs": [],
   "source": [
    "# Librerías\n",
    "import pandas as pd\n",
    "import numpy as np\n",
    "from pathlib import Path\n",
    "import os\n",
    "\n",
    "import matplotlib.pyplot as plt\n",
    "import seaborn as sns\n",
    "from scipy import stats\n",
    "\n",
    "import pickle"
   ]
  },
  {
   "cell_type": "code",
   "execution_count": 2,
   "metadata": {},
   "outputs": [],
   "source": [
    "sns.set_theme(style=\"darkgrid\")"
   ]
  },
  {
   "cell_type": "code",
   "execution_count": 3,
   "metadata": {},
   "outputs": [],
   "source": [
    "# Variables\n",
    "src_path = os.getcwd()\n",
    "data_path = \"/data/raw/\"\n",
    "p_data_path = \"/data/processed/\"\n",
    "data_file = \"merged_data.csv\"\n",
    "\n",
    "file_path= Path(os.path.dirname(src_path)+data_path+data_file)\n"
   ]
  },
  {
   "cell_type": "code",
   "execution_count": 4,
   "metadata": {},
   "outputs": [],
   "source": [
    "df_coffee = pd.read_csv(file_path)"
   ]
  },
  {
   "cell_type": "code",
   "execution_count": 5,
   "metadata": {},
   "outputs": [
    {
     "data": {
      "text/plain": [
       "(1339, 44)"
      ]
     },
     "execution_count": 5,
     "metadata": {},
     "output_type": "execute_result"
    }
   ],
   "source": [
    "df_coffee.shape"
   ]
  },
  {
   "cell_type": "code",
   "execution_count": 6,
   "metadata": {},
   "outputs": [
    {
     "name": "stdout",
     "output_type": "stream",
     "text": [
      "<class 'pandas.core.frame.DataFrame'>\n",
      "RangeIndex: 1339 entries, 0 to 1338\n",
      "Data columns (total 44 columns):\n",
      " #   Column                 Non-Null Count  Dtype  \n",
      "---  ------                 --------------  -----  \n",
      " 0   Unnamed: 0             1339 non-null   int64  \n",
      " 1   Species                1339 non-null   object \n",
      " 2   Owner                  1332 non-null   object \n",
      " 3   Country.of.Origin      1338 non-null   object \n",
      " 4   Farm.Name              980 non-null    object \n",
      " 5   Lot.Number             276 non-null    object \n",
      " 6   Mill                   1021 non-null   object \n",
      " 7   ICO.Number             1180 non-null   object \n",
      " 8   Company                1130 non-null   object \n",
      " 9   Altitude               1113 non-null   object \n",
      " 10  Region                 1280 non-null   object \n",
      " 11  Producer               1107 non-null   object \n",
      " 12  Number.of.Bags         1339 non-null   int64  \n",
      " 13  Bag.Weight             1339 non-null   object \n",
      " 14  In.Country.Partner     1339 non-null   object \n",
      " 15  Harvest.Year           1292 non-null   object \n",
      " 16  Grading.Date           1339 non-null   object \n",
      " 17  Owner.1                1332 non-null   object \n",
      " 18  Variety                1113 non-null   object \n",
      " 19  Processing.Method      1169 non-null   object \n",
      " 20  Aroma                  1339 non-null   float64\n",
      " 21  Flavor                 1339 non-null   float64\n",
      " 22  Aftertaste             1339 non-null   float64\n",
      " 23  Acidity                1339 non-null   float64\n",
      " 24  Body                   1339 non-null   float64\n",
      " 25  Balance                1339 non-null   float64\n",
      " 26  Uniformity             1339 non-null   float64\n",
      " 27  Clean.Cup              1339 non-null   float64\n",
      " 28  Sweetness              1339 non-null   float64\n",
      " 29  Cupper.Points          1339 non-null   float64\n",
      " 30  Total.Cup.Points       1339 non-null   float64\n",
      " 31  Moisture               1339 non-null   float64\n",
      " 32  Category.One.Defects   1339 non-null   int64  \n",
      " 33  Quakers                1338 non-null   float64\n",
      " 34  Color                  1069 non-null   object \n",
      " 35  Category.Two.Defects   1339 non-null   int64  \n",
      " 36  Expiration             1339 non-null   object \n",
      " 37  Certification.Body     1339 non-null   object \n",
      " 38  Certification.Address  1339 non-null   object \n",
      " 39  Certification.Contact  1339 non-null   object \n",
      " 40  unit_of_measurement    1339 non-null   object \n",
      " 41  altitude_low_meters    1109 non-null   float64\n",
      " 42  altitude_high_meters   1109 non-null   float64\n",
      " 43  altitude_mean_meters   1109 non-null   float64\n",
      "dtypes: float64(16), int64(4), object(24)\n",
      "memory usage: 460.4+ KB\n"
     ]
    }
   ],
   "source": [
    "df_coffee.info()"
   ]
  },
  {
   "attachments": {},
   "cell_type": "markdown",
   "metadata": {},
   "source": [
    "<h2 style=\"text-align: center;\">ANALIZANDO EL DATASET</h2>"
   ]
  },
  {
   "attachments": {},
   "cell_type": "markdown",
   "metadata": {},
   "source": [
    "El dataset consta de 1339 filas por 44 columnas y contiene la información relativa a diferentes variedades de café de tipo Arabica y Robusta calificadas por personal del CQI (Coffee Quality Institute).\n",
    "\n",
    "La información se divide en:\n",
    "\n",
    "Calidad de café (Cupping Score)\n",
    "- Aroma\n",
    "- Flavor\n",
    "- Aftertaste\n",
    "- Acidity\n",
    "- Body\n",
    "- Balance\n",
    "- Uniformity\n",
    "- Clean Cup\n",
    "- Sweetness\n",
    "\n",
    "\n",
    "Semilla (Bean)\n",
    "- Species (arabica / robusta)\n",
    "- Variety\n",
    "- Processing Method\n",
    "- Moisture\n",
    "- Color\n",
    "- Category.One.Defects\n",
    "- Category.Two.Defects\n",
    "- Quakers\n",
    "- Expiration\n",
    "\n",
    "\n",
    "Plantación (Farm)\n",
    "- Country.of.Origin\n",
    "- Harvest.Year\n",
    "- Farm.Name\n",
    "- Mill\n",
    "- Owner\n",
    "- Company\n",
    "- Altitude + unit_of_measurement\n",
    "- Region\n",
    "\n",
    "\n",
    "\n",
    "La columna \"Total Cup Points\" será nuestro medidor de calidad, siendo mejor el café cuanto más alta sea esta puntuación.\n",
    "\n",
    "Realizaremos un análisis univariante y multivariante de las información de la calidad y de la semilla junto con el país de origen, región, año de cosecha y altitud de la plantación con el objetivo final de encontrar un algoritmo que permita predecir qué café tendrá una mejor puntuación en función de todas sus características.\n",
    "\n",
    "Para la información de la altitud, nos quedaremos con la columna \"Altitude\" y \"altitude_mean_meters\" que representa la media entre el valor máximo y mínimo de la altitud a la que se cultiva esa variedad de café en esa plantación. Además, necesitamos la columna \"unit_of_measurement\" para saber si la medida está en metros o pies."
   ]
  },
  {
   "attachments": {},
   "cell_type": "markdown",
   "metadata": {},
   "source": [
    "<h2 style=\"text-align: center;\">LIMPIEZA DEL DATASET</h2>"
   ]
  },
  {
   "attachments": {},
   "cell_type": "markdown",
   "metadata": {},
   "source": [
    "Borramos las columnas que no nos serán necesarias para la realización del análisis."
   ]
  },
  {
   "cell_type": "code",
   "execution_count": 7,
   "metadata": {},
   "outputs": [],
   "source": [
    "df = df_coffee.drop(columns=[\"Unnamed: 0\", \"Lot.Number\", \"ICO.Number\", \"Producer\", \"Number.of.Bags\",\n",
    "                             \"Bag.Weight\", \"In.Country.Partner\", \"Grading.Date\", \"Cupper.Points\",\n",
    "                             \"Certification.Body\", \"Certification.Address\", \"Certification.Contact\",\n",
    "                             \"altitude_low_meters\", \"altitude_high_meters\", \"Owner.1\", \"Farm.Name\",\n",
    "                             \"Mill\", \"Company\", \"Owner\"])"
   ]
  },
  {
   "attachments": {},
   "cell_type": "markdown",
   "metadata": {},
   "source": [
    "<h3 style=\"text-align: center;\">Chequeo de duplicados</h3>"
   ]
  },
  {
   "cell_type": "code",
   "execution_count": 8,
   "metadata": {},
   "outputs": [
    {
     "data": {
      "text/plain": [
       "0"
      ]
     },
     "execution_count": 8,
     "metadata": {},
     "output_type": "execute_result"
    }
   ],
   "source": [
    "# Cantidad de duplicados\n",
    "df.duplicated().sum()"
   ]
  },
  {
   "attachments": {},
   "cell_type": "markdown",
   "metadata": {},
   "source": [
    "No hay registros duplicados."
   ]
  },
  {
   "attachments": {},
   "cell_type": "markdown",
   "metadata": {},
   "source": [
    "<h3 style=\"text-align: center;\">Chequeo de valores nulos</h3>"
   ]
  },
  {
   "cell_type": "code",
   "execution_count": 9,
   "metadata": {},
   "outputs": [
    {
     "data": {
      "text/plain": [
       "Color                   270\n",
       "altitude_mean_meters    230\n",
       "Altitude                226\n",
       "Variety                 226\n",
       "Processing.Method       170\n",
       "Region                   59\n",
       "Harvest.Year             47\n",
       "Country.of.Origin         1\n",
       "Quakers                   1\n",
       "dtype: int64"
      ]
     },
     "execution_count": 9,
     "metadata": {},
     "output_type": "execute_result"
    }
   ],
   "source": [
    "# Null / Missing values\n",
    "df[df.columns[df.isnull().any()]].isnull().sum().sort_values(ascending=False)"
   ]
  },
  {
   "attachments": {},
   "cell_type": "markdown",
   "metadata": {},
   "source": [
    "Hay bastante cantidad de valores nulos. Vamos a tratar de reducirlos todo lo posible."
   ]
  },
  {
   "attachments": {},
   "cell_type": "markdown",
   "metadata": {},
   "source": [
    "<h4 style=\"text-align: center;\"><ins>1 - Nulos en Region</ins></h4>"
   ]
  },
  {
   "attachments": {},
   "cell_type": "markdown",
   "metadata": {},
   "source": [
    "Saber la región en la que se cultiva un café puede ser importante para sus características."
   ]
  },
  {
   "attachments": {},
   "cell_type": "markdown",
   "metadata": {},
   "source": [
    "Comprobamos si podemos inferir a qué región pertenece un café en función de su país de origen y la altitud media a la que se encuentra la plantación. La idea es que si uno de los registros nulos comparte altura y pais de origen con otro que que tenga un valor, supondremos que se trata de la misma región."
   ]
  },
  {
   "cell_type": "code",
   "execution_count": 10,
   "metadata": {},
   "outputs": [
    {
     "data": {
      "text/html": [
       "<div>\n",
       "<style scoped>\n",
       "    .dataframe tbody tr th:only-of-type {\n",
       "        vertical-align: middle;\n",
       "    }\n",
       "\n",
       "    .dataframe tbody tr th {\n",
       "        vertical-align: top;\n",
       "    }\n",
       "\n",
       "    .dataframe thead th {\n",
       "        text-align: right;\n",
       "    }\n",
       "</style>\n",
       "<table border=\"1\" class=\"dataframe\">\n",
       "  <thead>\n",
       "    <tr style=\"text-align: right;\">\n",
       "      <th></th>\n",
       "      <th>Country.of.Origin</th>\n",
       "      <th>Region</th>\n",
       "      <th>altitude_mean_meters</th>\n",
       "    </tr>\n",
       "  </thead>\n",
       "  <tbody>\n",
       "    <tr>\n",
       "      <th>2</th>\n",
       "      <td>Guatemala</td>\n",
       "      <td>NaN</td>\n",
       "      <td>1700.0</td>\n",
       "    </tr>\n",
       "    <tr>\n",
       "      <th>5</th>\n",
       "      <td>Brazil</td>\n",
       "      <td>NaN</td>\n",
       "      <td>NaN</td>\n",
       "    </tr>\n",
       "    <tr>\n",
       "      <th>6</th>\n",
       "      <td>Peru</td>\n",
       "      <td>NaN</td>\n",
       "      <td>NaN</td>\n",
       "    </tr>\n",
       "    <tr>\n",
       "      <th>30</th>\n",
       "      <td>Nicaragua</td>\n",
       "      <td>NaN</td>\n",
       "      <td>NaN</td>\n",
       "    </tr>\n",
       "    <tr>\n",
       "      <th>31</th>\n",
       "      <td>Tanzania, United Republic Of</td>\n",
       "      <td>NaN</td>\n",
       "      <td>NaN</td>\n",
       "    </tr>\n",
       "    <tr>\n",
       "      <th>100</th>\n",
       "      <td>Kenya</td>\n",
       "      <td>NaN</td>\n",
       "      <td>1.0</td>\n",
       "    </tr>\n",
       "    <tr>\n",
       "      <th>114</th>\n",
       "      <td>Kenya</td>\n",
       "      <td>NaN</td>\n",
       "      <td>NaN</td>\n",
       "    </tr>\n",
       "    <tr>\n",
       "      <th>134</th>\n",
       "      <td>Costa Rica</td>\n",
       "      <td>NaN</td>\n",
       "      <td>NaN</td>\n",
       "    </tr>\n",
       "    <tr>\n",
       "      <th>152</th>\n",
       "      <td>Kenya</td>\n",
       "      <td>NaN</td>\n",
       "      <td>NaN</td>\n",
       "    </tr>\n",
       "    <tr>\n",
       "      <th>223</th>\n",
       "      <td>Guatemala</td>\n",
       "      <td>NaN</td>\n",
       "      <td>NaN</td>\n",
       "    </tr>\n",
       "    <tr>\n",
       "      <th>240</th>\n",
       "      <td>Costa Rica</td>\n",
       "      <td>NaN</td>\n",
       "      <td>NaN</td>\n",
       "    </tr>\n",
       "    <tr>\n",
       "      <th>257</th>\n",
       "      <td>Thailand</td>\n",
       "      <td>NaN</td>\n",
       "      <td>NaN</td>\n",
       "    </tr>\n",
       "    <tr>\n",
       "      <th>293</th>\n",
       "      <td>Thailand</td>\n",
       "      <td>NaN</td>\n",
       "      <td>NaN</td>\n",
       "    </tr>\n",
       "    <tr>\n",
       "      <th>334</th>\n",
       "      <td>United States (Hawaii)</td>\n",
       "      <td>NaN</td>\n",
       "      <td>NaN</td>\n",
       "    </tr>\n",
       "    <tr>\n",
       "      <th>352</th>\n",
       "      <td>Taiwan</td>\n",
       "      <td>NaN</td>\n",
       "      <td>NaN</td>\n",
       "    </tr>\n",
       "    <tr>\n",
       "      <th>373</th>\n",
       "      <td>United States (Hawaii)</td>\n",
       "      <td>NaN</td>\n",
       "      <td>NaN</td>\n",
       "    </tr>\n",
       "    <tr>\n",
       "      <th>379</th>\n",
       "      <td>Taiwan</td>\n",
       "      <td>NaN</td>\n",
       "      <td>NaN</td>\n",
       "    </tr>\n",
       "    <tr>\n",
       "      <th>394</th>\n",
       "      <td>Thailand</td>\n",
       "      <td>NaN</td>\n",
       "      <td>NaN</td>\n",
       "    </tr>\n",
       "    <tr>\n",
       "      <th>407</th>\n",
       "      <td>Peru</td>\n",
       "      <td>NaN</td>\n",
       "      <td>NaN</td>\n",
       "    </tr>\n",
       "    <tr>\n",
       "      <th>415</th>\n",
       "      <td>United States (Hawaii)</td>\n",
       "      <td>NaN</td>\n",
       "      <td>NaN</td>\n",
       "    </tr>\n",
       "    <tr>\n",
       "      <th>443</th>\n",
       "      <td>Peru</td>\n",
       "      <td>NaN</td>\n",
       "      <td>NaN</td>\n",
       "    </tr>\n",
       "    <tr>\n",
       "      <th>457</th>\n",
       "      <td>Colombia</td>\n",
       "      <td>NaN</td>\n",
       "      <td>NaN</td>\n",
       "    </tr>\n",
       "    <tr>\n",
       "      <th>495</th>\n",
       "      <td>Guatemala</td>\n",
       "      <td>NaN</td>\n",
       "      <td>NaN</td>\n",
       "    </tr>\n",
       "    <tr>\n",
       "      <th>521</th>\n",
       "      <td>Colombia</td>\n",
       "      <td>NaN</td>\n",
       "      <td>NaN</td>\n",
       "    </tr>\n",
       "    <tr>\n",
       "      <th>526</th>\n",
       "      <td>Thailand</td>\n",
       "      <td>NaN</td>\n",
       "      <td>NaN</td>\n",
       "    </tr>\n",
       "    <tr>\n",
       "      <th>528</th>\n",
       "      <td>United States (Hawaii)</td>\n",
       "      <td>NaN</td>\n",
       "      <td>NaN</td>\n",
       "    </tr>\n",
       "    <tr>\n",
       "      <th>529</th>\n",
       "      <td>United States (Hawaii)</td>\n",
       "      <td>NaN</td>\n",
       "      <td>NaN</td>\n",
       "    </tr>\n",
       "    <tr>\n",
       "      <th>532</th>\n",
       "      <td>Thailand</td>\n",
       "      <td>NaN</td>\n",
       "      <td>NaN</td>\n",
       "    </tr>\n",
       "    <tr>\n",
       "      <th>548</th>\n",
       "      <td>Guatemala</td>\n",
       "      <td>NaN</td>\n",
       "      <td>NaN</td>\n",
       "    </tr>\n",
       "    <tr>\n",
       "      <th>558</th>\n",
       "      <td>Thailand</td>\n",
       "      <td>NaN</td>\n",
       "      <td>NaN</td>\n",
       "    </tr>\n",
       "    <tr>\n",
       "      <th>623</th>\n",
       "      <td>El Salvador</td>\n",
       "      <td>NaN</td>\n",
       "      <td>NaN</td>\n",
       "    </tr>\n",
       "    <tr>\n",
       "      <th>626</th>\n",
       "      <td>Mexico</td>\n",
       "      <td>NaN</td>\n",
       "      <td>1100.0</td>\n",
       "    </tr>\n",
       "    <tr>\n",
       "      <th>632</th>\n",
       "      <td>Colombia</td>\n",
       "      <td>NaN</td>\n",
       "      <td>NaN</td>\n",
       "    </tr>\n",
       "    <tr>\n",
       "      <th>645</th>\n",
       "      <td>Guatemala</td>\n",
       "      <td>NaN</td>\n",
       "      <td>NaN</td>\n",
       "    </tr>\n",
       "    <tr>\n",
       "      <th>690</th>\n",
       "      <td>Honduras</td>\n",
       "      <td>NaN</td>\n",
       "      <td>NaN</td>\n",
       "    </tr>\n",
       "    <tr>\n",
       "      <th>735</th>\n",
       "      <td>Taiwan</td>\n",
       "      <td>NaN</td>\n",
       "      <td>NaN</td>\n",
       "    </tr>\n",
       "    <tr>\n",
       "      <th>749</th>\n",
       "      <td>El Salvador</td>\n",
       "      <td>NaN</td>\n",
       "      <td>NaN</td>\n",
       "    </tr>\n",
       "    <tr>\n",
       "      <th>754</th>\n",
       "      <td>Brazil</td>\n",
       "      <td>NaN</td>\n",
       "      <td>NaN</td>\n",
       "    </tr>\n",
       "    <tr>\n",
       "      <th>784</th>\n",
       "      <td>Colombia</td>\n",
       "      <td>NaN</td>\n",
       "      <td>NaN</td>\n",
       "    </tr>\n",
       "    <tr>\n",
       "      <th>822</th>\n",
       "      <td>Nicaragua</td>\n",
       "      <td>NaN</td>\n",
       "      <td>NaN</td>\n",
       "    </tr>\n",
       "    <tr>\n",
       "      <th>824</th>\n",
       "      <td>Honduras</td>\n",
       "      <td>NaN</td>\n",
       "      <td>NaN</td>\n",
       "    </tr>\n",
       "    <tr>\n",
       "      <th>862</th>\n",
       "      <td>Brazil</td>\n",
       "      <td>NaN</td>\n",
       "      <td>NaN</td>\n",
       "    </tr>\n",
       "    <tr>\n",
       "      <th>908</th>\n",
       "      <td>Thailand</td>\n",
       "      <td>NaN</td>\n",
       "      <td>NaN</td>\n",
       "    </tr>\n",
       "    <tr>\n",
       "      <th>997</th>\n",
       "      <td>United States (Hawaii)</td>\n",
       "      <td>NaN</td>\n",
       "      <td>NaN</td>\n",
       "    </tr>\n",
       "    <tr>\n",
       "      <th>1029</th>\n",
       "      <td>Thailand</td>\n",
       "      <td>NaN</td>\n",
       "      <td>NaN</td>\n",
       "    </tr>\n",
       "    <tr>\n",
       "      <th>1059</th>\n",
       "      <td>Colombia</td>\n",
       "      <td>NaN</td>\n",
       "      <td>NaN</td>\n",
       "    </tr>\n",
       "    <tr>\n",
       "      <th>1066</th>\n",
       "      <td>United States (Hawaii)</td>\n",
       "      <td>NaN</td>\n",
       "      <td>NaN</td>\n",
       "    </tr>\n",
       "    <tr>\n",
       "      <th>1067</th>\n",
       "      <td>Colombia</td>\n",
       "      <td>NaN</td>\n",
       "      <td>NaN</td>\n",
       "    </tr>\n",
       "    <tr>\n",
       "      <th>1101</th>\n",
       "      <td>Colombia</td>\n",
       "      <td>NaN</td>\n",
       "      <td>NaN</td>\n",
       "    </tr>\n",
       "    <tr>\n",
       "      <th>1116</th>\n",
       "      <td>Nicaragua</td>\n",
       "      <td>NaN</td>\n",
       "      <td>NaN</td>\n",
       "    </tr>\n",
       "    <tr>\n",
       "      <th>1164</th>\n",
       "      <td>Thailand</td>\n",
       "      <td>NaN</td>\n",
       "      <td>NaN</td>\n",
       "    </tr>\n",
       "    <tr>\n",
       "      <th>1215</th>\n",
       "      <td>Nicaragua</td>\n",
       "      <td>NaN</td>\n",
       "      <td>NaN</td>\n",
       "    </tr>\n",
       "    <tr>\n",
       "      <th>1242</th>\n",
       "      <td>Colombia</td>\n",
       "      <td>NaN</td>\n",
       "      <td>NaN</td>\n",
       "    </tr>\n",
       "    <tr>\n",
       "      <th>1247</th>\n",
       "      <td>Brazil</td>\n",
       "      <td>NaN</td>\n",
       "      <td>NaN</td>\n",
       "    </tr>\n",
       "    <tr>\n",
       "      <th>1278</th>\n",
       "      <td>Mexico</td>\n",
       "      <td>NaN</td>\n",
       "      <td>1100.0</td>\n",
       "    </tr>\n",
       "    <tr>\n",
       "      <th>1295</th>\n",
       "      <td>Colombia</td>\n",
       "      <td>NaN</td>\n",
       "      <td>NaN</td>\n",
       "    </tr>\n",
       "    <tr>\n",
       "      <th>1337</th>\n",
       "      <td>India</td>\n",
       "      <td>NaN</td>\n",
       "      <td>NaN</td>\n",
       "    </tr>\n",
       "    <tr>\n",
       "      <th>1338</th>\n",
       "      <td>Vietnam</td>\n",
       "      <td>NaN</td>\n",
       "      <td>NaN</td>\n",
       "    </tr>\n",
       "  </tbody>\n",
       "</table>\n",
       "</div>"
      ],
      "text/plain": [
       "                 Country.of.Origin Region  altitude_mean_meters\n",
       "2                        Guatemala    NaN                1700.0\n",
       "5                           Brazil    NaN                   NaN\n",
       "6                             Peru    NaN                   NaN\n",
       "30                       Nicaragua    NaN                   NaN\n",
       "31    Tanzania, United Republic Of    NaN                   NaN\n",
       "100                          Kenya    NaN                   1.0\n",
       "114                          Kenya    NaN                   NaN\n",
       "134                     Costa Rica    NaN                   NaN\n",
       "152                          Kenya    NaN                   NaN\n",
       "223                      Guatemala    NaN                   NaN\n",
       "240                     Costa Rica    NaN                   NaN\n",
       "257                       Thailand    NaN                   NaN\n",
       "293                       Thailand    NaN                   NaN\n",
       "334         United States (Hawaii)    NaN                   NaN\n",
       "352                         Taiwan    NaN                   NaN\n",
       "373         United States (Hawaii)    NaN                   NaN\n",
       "379                         Taiwan    NaN                   NaN\n",
       "394                       Thailand    NaN                   NaN\n",
       "407                           Peru    NaN                   NaN\n",
       "415         United States (Hawaii)    NaN                   NaN\n",
       "443                           Peru    NaN                   NaN\n",
       "457                       Colombia    NaN                   NaN\n",
       "495                      Guatemala    NaN                   NaN\n",
       "521                       Colombia    NaN                   NaN\n",
       "526                       Thailand    NaN                   NaN\n",
       "528         United States (Hawaii)    NaN                   NaN\n",
       "529         United States (Hawaii)    NaN                   NaN\n",
       "532                       Thailand    NaN                   NaN\n",
       "548                      Guatemala    NaN                   NaN\n",
       "558                       Thailand    NaN                   NaN\n",
       "623                    El Salvador    NaN                   NaN\n",
       "626                         Mexico    NaN                1100.0\n",
       "632                       Colombia    NaN                   NaN\n",
       "645                      Guatemala    NaN                   NaN\n",
       "690                       Honduras    NaN                   NaN\n",
       "735                         Taiwan    NaN                   NaN\n",
       "749                    El Salvador    NaN                   NaN\n",
       "754                         Brazil    NaN                   NaN\n",
       "784                       Colombia    NaN                   NaN\n",
       "822                      Nicaragua    NaN                   NaN\n",
       "824                       Honduras    NaN                   NaN\n",
       "862                         Brazil    NaN                   NaN\n",
       "908                       Thailand    NaN                   NaN\n",
       "997         United States (Hawaii)    NaN                   NaN\n",
       "1029                      Thailand    NaN                   NaN\n",
       "1059                      Colombia    NaN                   NaN\n",
       "1066        United States (Hawaii)    NaN                   NaN\n",
       "1067                      Colombia    NaN                   NaN\n",
       "1101                      Colombia    NaN                   NaN\n",
       "1116                     Nicaragua    NaN                   NaN\n",
       "1164                      Thailand    NaN                   NaN\n",
       "1215                     Nicaragua    NaN                   NaN\n",
       "1242                      Colombia    NaN                   NaN\n",
       "1247                        Brazil    NaN                   NaN\n",
       "1278                        Mexico    NaN                1100.0\n",
       "1295                      Colombia    NaN                   NaN\n",
       "1337                         India    NaN                   NaN\n",
       "1338                       Vietnam    NaN                   NaN"
      ]
     },
     "execution_count": 10,
     "metadata": {},
     "output_type": "execute_result"
    }
   ],
   "source": [
    "df.loc[(df[\"Region\"].isnull()) & (df[\"Country.of.Origin\"].notnull()), [\"Country.of.Origin\", \"Region\", 'altitude_mean_meters']]"
   ]
  },
  {
   "attachments": {},
   "cell_type": "markdown",
   "metadata": {},
   "source": [
    "La práctica totalidad de los registros con valor nulo en el campo de Región también presenta valor nulo para su altura media, con lo que es imposible imputar valores y por tanto decidimos eliminar estos registros."
   ]
  },
  {
   "cell_type": "code",
   "execution_count": 11,
   "metadata": {},
   "outputs": [],
   "source": [
    "df = df[df[\"Region\"].notna()]"
   ]
  },
  {
   "attachments": {},
   "cell_type": "markdown",
   "metadata": {},
   "source": [
    "<h4 style=\"text-align: center;\"><ins>2 - Nulos en altitud</ins></h4>\n",
    "\n",
    "\n",
    "Uno de los valores que hemos considerado importante en el análisis es la altitud a la que se cultiva el café, por lo que es el primer dato que vamos a analizar "
   ]
  },
  {
   "attachments": {},
   "cell_type": "markdown",
   "metadata": {},
   "source": [
    "1 - Comprobamos los valores de la columna \"Altitud\" que no son nulos junto con los de altitud media para tratar de imputar algún valor a esta última columna."
   ]
  },
  {
   "cell_type": "code",
   "execution_count": 12,
   "metadata": {},
   "outputs": [
    {
     "data": {
      "text/html": [
       "<div>\n",
       "<style scoped>\n",
       "    .dataframe tbody tr th:only-of-type {\n",
       "        vertical-align: middle;\n",
       "    }\n",
       "\n",
       "    .dataframe tbody tr th {\n",
       "        vertical-align: top;\n",
       "    }\n",
       "\n",
       "    .dataframe thead th {\n",
       "        text-align: right;\n",
       "    }\n",
       "</style>\n",
       "<table border=\"1\" class=\"dataframe\">\n",
       "  <thead>\n",
       "    <tr style=\"text-align: right;\">\n",
       "      <th></th>\n",
       "      <th>Altitude</th>\n",
       "      <th>altitude_mean_meters</th>\n",
       "    </tr>\n",
       "  </thead>\n",
       "  <tbody>\n",
       "    <tr>\n",
       "      <th>169</th>\n",
       "      <td>mmm</td>\n",
       "      <td>NaN</td>\n",
       "    </tr>\n",
       "    <tr>\n",
       "      <th>170</th>\n",
       "      <td>test</td>\n",
       "      <td>NaN</td>\n",
       "    </tr>\n",
       "    <tr>\n",
       "      <th>687</th>\n",
       "      <td>huanuco</td>\n",
       "      <td>NaN</td>\n",
       "    </tr>\n",
       "    <tr>\n",
       "      <th>986</th>\n",
       "      <td>0</td>\n",
       "      <td>NaN</td>\n",
       "    </tr>\n",
       "  </tbody>\n",
       "</table>\n",
       "</div>"
      ],
      "text/plain": [
       "    Altitude  altitude_mean_meters\n",
       "169      mmm                   NaN\n",
       "170     test                   NaN\n",
       "687  huanuco                   NaN\n",
       "986        0                   NaN"
      ]
     },
     "execution_count": 12,
     "metadata": {},
     "output_type": "execute_result"
    }
   ],
   "source": [
    "df.loc[(df[\"altitude_mean_meters\"].isnull()) & df[\"Altitude\"].notnull(), [\"Altitude\", \"altitude_mean_meters\"]]"
   ]
  },
  {
   "attachments": {},
   "cell_type": "markdown",
   "metadata": {},
   "source": [
    "Con esos valores no podemos realizar ningún cálculo.\n",
    "\n",
    "Antes de realizar las imputaciones debemos tener en cuenta la unidad de medida en que está la columna de altitud y asegurarnos que todos los valores están en metros."
   ]
  },
  {
   "cell_type": "code",
   "execution_count": 13,
   "metadata": {},
   "outputs": [],
   "source": [
    "df[\"altitude_recalc\"] = df.apply(lambda x: x[\"altitude_mean_meters\"] if x[\"unit_of_measurement\"]=='m' else x[\"altitude_mean_meters\"]*0.3048, axis=1)"
   ]
  },
  {
   "attachments": {},
   "cell_type": "markdown",
   "metadata": {},
   "source": [
    "Estudiamos los valores estadísticos de la columna, pues si vamos a realizar imputaciones a la media o a la moda debemos asegurarnos de que no existan valores fuera de rango que nos provoquen errores."
   ]
  },
  {
   "cell_type": "code",
   "execution_count": 14,
   "metadata": {},
   "outputs": [
    {
     "data": {
      "text/plain": [
       "count      1105.000000\n",
       "mean       1688.238037\n",
       "std        8692.930061\n",
       "min           1.000000\n",
       "25%         950.000000\n",
       "50%        1300.000000\n",
       "75%        1600.000000\n",
       "max      190164.000000\n",
       "Name: altitude_recalc, dtype: float64"
      ]
     },
     "execution_count": 14,
     "metadata": {},
     "output_type": "execute_result"
    }
   ],
   "source": [
    "df[\"altitude_recalc\"].describe()"
   ]
  },
  {
   "attachments": {},
   "cell_type": "markdown",
   "metadata": {},
   "source": [
    "Se observa un valor máximo demasiado elevado y un mínimo demasiado bajo, así como una desviación estándar alta. Cualquier valor por encima de los 3000m y por debajo de los 600m lo consideraremos un error y usaremos esos valores como extremos."
   ]
  },
  {
   "cell_type": "code",
   "execution_count": 15,
   "metadata": {},
   "outputs": [],
   "source": [
    "df.loc[df[\"altitude_recalc\"]>3000, \"altitude_recalc\"] = 3000\n",
    "df.loc[df[\"altitude_recalc\"]<600, \"altitude_recalc\"] = 600"
   ]
  },
  {
   "cell_type": "code",
   "execution_count": 16,
   "metadata": {},
   "outputs": [
    {
     "data": {
      "text/plain": [
       "count    1105.000000\n",
       "mean     1280.425339\n",
       "std       469.677888\n",
       "min       600.000000\n",
       "25%       950.000000\n",
       "50%      1300.000000\n",
       "75%      1600.000000\n",
       "max      3000.000000\n",
       "Name: altitude_recalc, dtype: float64"
      ]
     },
     "execution_count": 16,
     "metadata": {},
     "output_type": "execute_result"
    }
   ],
   "source": [
    "df[\"altitude_recalc\"].describe()"
   ]
  },
  {
   "attachments": {},
   "cell_type": "markdown",
   "metadata": {},
   "source": [
    "Con unos valores más ajustados a la realidad, podemos pasar a tratar los valores nulos"
   ]
  },
  {
   "attachments": {},
   "cell_type": "markdown",
   "metadata": {},
   "source": [
    "2 - Imputaremos los valores de altitud correspondientes a la media de la región a la que pertenecen."
   ]
  },
  {
   "cell_type": "code",
   "execution_count": 17,
   "metadata": {},
   "outputs": [
    {
     "name": "stdout",
     "output_type": "stream",
     "text": [
      "Quedan 22 valores nulos en la columna.\n"
     ]
    }
   ],
   "source": [
    "df[\"altitude_recalc\"].fillna(df.groupby([\"Region\"])[\"altitude_recalc\"].transform(\"mean\"), inplace=True)\n",
    "print(\"Quedan {} valores nulos en la columna.\". format(df[\"altitude_recalc\"].isnull().sum()))"
   ]
  },
  {
   "attachments": {},
   "cell_type": "markdown",
   "metadata": {},
   "source": [
    "3 - Dado que aún quedan valores nulos, vamos a repetir el proceso pero imputando la moda de la altura con respecto al país. Decidimos no usar la media porque puede ocurrir que en un mismo país haya grandes diferencias en la altura en que sitúan las plantaciones."
   ]
  },
  {
   "cell_type": "code",
   "execution_count": 18,
   "metadata": {},
   "outputs": [
    {
     "name": "stdout",
     "output_type": "stream",
     "text": [
      "Quedan 0 valores nulos en la columna.\n"
     ]
    }
   ],
   "source": [
    "df[\"altitude_recalc\"].fillna(df.groupby(['Country.of.Origin'])['altitude_recalc'].transform(lambda x: x.mode()[0]), inplace=True)\n",
    "print(\"Quedan {} valores nulos en la columna.\". format(df[\"altitude_recalc\"].isnull().sum()))"
   ]
  },
  {
   "attachments": {},
   "cell_type": "markdown",
   "metadata": {},
   "source": [
    "Hemos quitado todos los valores nulos de la altitud media, por lo que la columna Altitude se hace innecesaria en el conjunto de datos y procedemos a eliminarla."
   ]
  },
  {
   "cell_type": "code",
   "execution_count": 19,
   "metadata": {},
   "outputs": [],
   "source": [
    "df = df.drop(columns=[\"Altitude\"])"
   ]
  },
  {
   "attachments": {},
   "cell_type": "markdown",
   "metadata": {},
   "source": [
    "<h4 style=\"text-align: center;\"><ins>3 - Nulos en variedad</ins></h4>"
   ]
  },
  {
   "attachments": {},
   "cell_type": "markdown",
   "metadata": {},
   "source": [
    "Antes de estudiar los registros nulos comprobamos los diferentes tipos de variedad que hay en la tabla"
   ]
  },
  {
   "cell_type": "code",
   "execution_count": 20,
   "metadata": {},
   "outputs": [
    {
     "data": {
      "text/plain": [
       "array([nan, 'Other', 'Catimor', 'Ethiopian Yirgacheffe', 'Caturra',\n",
       "       'Bourbon', 'SL14', 'Sumatra', 'SL34', 'Hawaiian Kona',\n",
       "       'Yellow Bourbon', 'SL28', 'Gesha', 'Catuai', 'Pacamara', 'Typica',\n",
       "       'Sumatra Lintong', 'Mundo Novo', 'Java', 'Peaberry', 'Pacas',\n",
       "       'Mandheling', 'Ruiru 11', 'Ethiopian Heirlooms', 'Moka Peaberry',\n",
       "       'Arusha', 'Sulawesi', 'Blue Mountain', 'Marigojipe', 'Pache Comun'],\n",
       "      dtype=object)"
      ]
     },
     "execution_count": 20,
     "metadata": {},
     "output_type": "execute_result"
    }
   ],
   "source": [
    "df[\"Variety\"].unique()"
   ]
  },
  {
   "attachments": {},
   "cell_type": "markdown",
   "metadata": {},
   "source": [
    "Dado que ya existe un valor genérico establecido como \"Other\" decidimos imputarles a todos los nulos ese valor genérico."
   ]
  },
  {
   "cell_type": "code",
   "execution_count": 21,
   "metadata": {},
   "outputs": [
    {
     "name": "stdout",
     "output_type": "stream",
     "text": [
      "Quedan 0 valores nulos en la columna.\n"
     ]
    }
   ],
   "source": [
    "df[\"Variety\"].fillna(\"Other\", inplace = True)\n",
    "print(\"Quedan {} valores nulos en la columna.\". format(df[\"Variety\"].isnull().sum()))"
   ]
  },
  {
   "attachments": {},
   "cell_type": "markdown",
   "metadata": {},
   "source": [
    "<h4 style=\"text-align: center;\"><ins>4 - Nulos en Color</ins></h3>"
   ]
  },
  {
   "attachments": {},
   "cell_type": "markdown",
   "metadata": {},
   "source": [
    "Antes de estudiar los valores nulos, comprobamos los diferentes colores presentes en el dataset"
   ]
  },
  {
   "cell_type": "code",
   "execution_count": 22,
   "metadata": {},
   "outputs": [
    {
     "data": {
      "text/plain": [
       "array(['Green', nan, 'Bluish-Green', 'Blue-Green'], dtype=object)"
      ]
     },
     "execution_count": 22,
     "metadata": {},
     "output_type": "execute_result"
    }
   ],
   "source": [
    "df[\"Color\"].unique()"
   ]
  },
  {
   "attachments": {},
   "cell_type": "markdown",
   "metadata": {},
   "source": [
    "El color de las semillas de café, antes del tostado, suele depender de la región en la que se hayan cultivado, pero habitualmente son de color verde por lo que imputaremos a los valores nulos el color verde."
   ]
  },
  {
   "cell_type": "code",
   "execution_count": 23,
   "metadata": {},
   "outputs": [
    {
     "name": "stdout",
     "output_type": "stream",
     "text": [
      "Quedan 0 valores nulos en la columna.\n"
     ]
    }
   ],
   "source": [
    "df[\"Color\"].fillna(\"Green\", inplace=True)\n",
    "print(\"Quedan {} valores nulos en la columna.\". format(df[\"Color\"].isnull().sum()))"
   ]
  },
  {
   "attachments": {},
   "cell_type": "markdown",
   "metadata": {},
   "source": [
    "<h4 style=\"text-align: center;\"><ins>5 - Nulos en Método de procesado</ins></h3>"
   ]
  },
  {
   "attachments": {},
   "cell_type": "markdown",
   "metadata": {},
   "source": [
    "Como anteriormente, vamos a comprobar los tipos de métodos de procesado existentes en el dataframe."
   ]
  },
  {
   "cell_type": "code",
   "execution_count": 24,
   "metadata": {},
   "outputs": [
    {
     "data": {
      "text/plain": [
       "array(['Washed / Wet', 'Natural / Dry', nan, 'Pulped natural / honey',\n",
       "       'Semi-washed / Semi-pulped', 'Other'], dtype=object)"
      ]
     },
     "execution_count": 24,
     "metadata": {},
     "output_type": "execute_result"
    }
   ],
   "source": [
    "df[\"Processing.Method\"].unique()"
   ]
  },
  {
   "attachments": {},
   "cell_type": "markdown",
   "metadata": {},
   "source": [
    "Dado que el método de procesado es difícil de imputar pues no tiene por qué seguir una lógica en función de la región o el país, vamos a imputar a todos los nulos el valor genérico \"Other\" que ya existe."
   ]
  },
  {
   "cell_type": "code",
   "execution_count": 25,
   "metadata": {},
   "outputs": [
    {
     "name": "stdout",
     "output_type": "stream",
     "text": [
      "Quedan 0 valores nulos en la columna.\n"
     ]
    }
   ],
   "source": [
    "df[\"Processing.Method\"].fillna(\"Other\", inplace=True)\n",
    "print(\"Quedan {} valores nulos en la columna.\". format(df[\"Processing.Method\"].isnull().sum()))"
   ]
  },
  {
   "attachments": {},
   "cell_type": "markdown",
   "metadata": {},
   "source": [
    "<h4 style=\"text-align: center;\"><ins>6 - Nulos en Año de cosecha</ins></h3>"
   ]
  },
  {
   "cell_type": "code",
   "execution_count": 26,
   "metadata": {},
   "outputs": [
    {
     "data": {
      "text/plain": [
       "array(['2014', 'March 2010', 'Sept 2009 - April 2010', 'May-August',\n",
       "       '2009/2010', '2015', '2012', '2013', '2011', '2016', '2015/2016',\n",
       "       '2010', 'Fall 2009', '2017', '2009 / 2010', '2010-2011', nan,\n",
       "       '2009 - 2010', '2013/2014', '2017 / 2018', 'mmm', 'TEST',\n",
       "       'December 2009-March 2010', '2014/2015', '2011/2012',\n",
       "       'January 2011', '4T/10', '23 July 2010', 'January Through April',\n",
       "       '1T/2011', '4t/2010', '4T/2010', 'August to December',\n",
       "       'Mayo a Julio', '47/2010', 'Abril - Julio', '4t/2011', '2009-2010',\n",
       "       'Abril - Julio /2011', 'Spring 2011 in Colombia.', '2016 / 2017',\n",
       "       '3T/2011', '1t/2011', '2018', '4T72010', '08/09 crop'],\n",
       "      dtype=object)"
      ]
     },
     "execution_count": 26,
     "metadata": {},
     "output_type": "execute_result"
    }
   ],
   "source": [
    "df[\"Harvest.Year\"].unique()"
   ]
  },
  {
   "attachments": {},
   "cell_type": "markdown",
   "metadata": {},
   "source": [
    "Viendo la cantidad de variabilidad que hay en la columna, decidimos extraer la última aparición de una cifra de 4 dígitos y tomarlos como el año de la cosecha. Almacenaremos el resultado en una nueva columna."
   ]
  },
  {
   "cell_type": "code",
   "execution_count": 27,
   "metadata": {},
   "outputs": [],
   "source": [
    "df[\"HarvestYear_Calc\"] = df[\"Harvest.Year\"].str.extract('(\\d{4})(?!.*\\d)')"
   ]
  },
  {
   "attachments": {},
   "cell_type": "markdown",
   "metadata": {},
   "source": [
    "Examinamos de nuevo los valores obtenidos tras la imputación."
   ]
  },
  {
   "cell_type": "code",
   "execution_count": 28,
   "metadata": {},
   "outputs": [
    {
     "data": {
      "text/plain": [
       "array(['2014', '2010', nan, '2015', '2012', '2013', '2011', '2016',\n",
       "       '2009', '2017', '2018'], dtype=object)"
      ]
     },
     "execution_count": 28,
     "metadata": {},
     "output_type": "execute_result"
    }
   ],
   "source": [
    "df[\"HarvestYear_Calc\"].unique()"
   ]
  },
  {
   "attachments": {},
   "cell_type": "markdown",
   "metadata": {},
   "source": [
    "Nos quedan valores nulos, a los que imputaremos el valor genérico \"unknown\", pues para tratarlos deberíamos ir uno por uno."
   ]
  },
  {
   "cell_type": "code",
   "execution_count": 29,
   "metadata": {},
   "outputs": [
    {
     "name": "stdout",
     "output_type": "stream",
     "text": [
      "Quedan 0 valores nulos en la columna.\n"
     ]
    }
   ],
   "source": [
    "df[\"HarvestYear_Calc\"].fillna(\"UNKNOWN\", inplace=True)\n",
    "print(\"Quedan {} valores nulos en la columna.\". format(df[\"HarvestYear_Calc\"].isnull().sum()))"
   ]
  },
  {
   "attachments": {},
   "cell_type": "markdown",
   "metadata": {},
   "source": [
    "Ya no es necesaria la columna original del año de cosecha, por lo que podemos eliminarla"
   ]
  },
  {
   "cell_type": "code",
   "execution_count": 30,
   "metadata": {},
   "outputs": [],
   "source": [
    "df.drop(columns=[\"Harvest.Year\"], inplace=True)"
   ]
  },
  {
   "attachments": {},
   "cell_type": "markdown",
   "metadata": {},
   "source": [
    "<h4 style=\"text-align: center;\"><ins>7 - Nulos en Quakers</ins></h3>"
   ]
  },
  {
   "attachments": {},
   "cell_type": "markdown",
   "metadata": {},
   "source": [
    "Los \"Quakers\" son aquéllas semillas de café que, por no estar maduras y por tanto no tener suficientes azúcares, no se caramelizan con el tostado y si no se retiran pueden provocar un empeoramiento de la calidad del café.\n",
    "\n",
    "Esta columna indica el número de estas semillas encontradas en el saco de café."
   ]
  },
  {
   "cell_type": "code",
   "execution_count": 31,
   "metadata": {},
   "outputs": [
    {
     "data": {
      "text/html": [
       "<div>\n",
       "<style scoped>\n",
       "    .dataframe tbody tr th:only-of-type {\n",
       "        vertical-align: middle;\n",
       "    }\n",
       "\n",
       "    .dataframe tbody tr th {\n",
       "        vertical-align: top;\n",
       "    }\n",
       "\n",
       "    .dataframe thead th {\n",
       "        text-align: right;\n",
       "    }\n",
       "</style>\n",
       "<table border=\"1\" class=\"dataframe\">\n",
       "  <thead>\n",
       "    <tr style=\"text-align: right;\">\n",
       "      <th></th>\n",
       "      <th>Species</th>\n",
       "      <th>Country.of.Origin</th>\n",
       "      <th>Region</th>\n",
       "      <th>Variety</th>\n",
       "      <th>Processing.Method</th>\n",
       "      <th>Aroma</th>\n",
       "      <th>Flavor</th>\n",
       "      <th>Aftertaste</th>\n",
       "      <th>Acidity</th>\n",
       "      <th>Body</th>\n",
       "      <th>...</th>\n",
       "      <th>Moisture</th>\n",
       "      <th>Category.One.Defects</th>\n",
       "      <th>Quakers</th>\n",
       "      <th>Color</th>\n",
       "      <th>Category.Two.Defects</th>\n",
       "      <th>Expiration</th>\n",
       "      <th>unit_of_measurement</th>\n",
       "      <th>altitude_mean_meters</th>\n",
       "      <th>altitude_recalc</th>\n",
       "      <th>HarvestYear_Calc</th>\n",
       "    </tr>\n",
       "  </thead>\n",
       "  <tbody>\n",
       "    <tr>\n",
       "      <th>366</th>\n",
       "      <td>Arabica</td>\n",
       "      <td>Colombia</td>\n",
       "      <td>huila</td>\n",
       "      <td>Caturra</td>\n",
       "      <td>Washed / Wet</td>\n",
       "      <td>7.58</td>\n",
       "      <td>7.67</td>\n",
       "      <td>7.58</td>\n",
       "      <td>7.75</td>\n",
       "      <td>7.58</td>\n",
       "      <td>...</td>\n",
       "      <td>0.11</td>\n",
       "      <td>0</td>\n",
       "      <td>NaN</td>\n",
       "      <td>Green</td>\n",
       "      <td>2</td>\n",
       "      <td>May 24th, 2014</td>\n",
       "      <td>m</td>\n",
       "      <td>1750.0</td>\n",
       "      <td>1750.0</td>\n",
       "      <td>2013</td>\n",
       "    </tr>\n",
       "  </tbody>\n",
       "</table>\n",
       "<p>1 rows × 25 columns</p>\n",
       "</div>"
      ],
      "text/plain": [
       "     Species Country.of.Origin Region  Variety Processing.Method  Aroma  \\\n",
       "366  Arabica          Colombia  huila  Caturra      Washed / Wet   7.58   \n",
       "\n",
       "     Flavor  Aftertaste  Acidity  Body  ...  Moisture  Category.One.Defects  \\\n",
       "366    7.67        7.58     7.75  7.58  ...      0.11                     0   \n",
       "\n",
       "     Quakers  Color  Category.Two.Defects      Expiration  \\\n",
       "366      NaN  Green                     2  May 24th, 2014   \n",
       "\n",
       "     unit_of_measurement  altitude_mean_meters altitude_recalc  \\\n",
       "366                    m                1750.0          1750.0   \n",
       "\n",
       "     HarvestYear_Calc  \n",
       "366              2013  \n",
       "\n",
       "[1 rows x 25 columns]"
      ]
     },
     "execution_count": 31,
     "metadata": {},
     "output_type": "execute_result"
    }
   ],
   "source": [
    "df[df[\"Quakers\"].isnull()]"
   ]
  },
  {
   "attachments": {},
   "cell_type": "markdown",
   "metadata": {},
   "source": [
    "Como sólo tenemos un caso con un valor nulo y no podemos imputar ningún valor pues es una característica independiente a la región o al país, lo eliminaremos sin que afecte al desarrollo del análisis."
   ]
  },
  {
   "cell_type": "code",
   "execution_count": 32,
   "metadata": {},
   "outputs": [],
   "source": [
    "df = df[df[\"Quakers\"].notna()]"
   ]
  },
  {
   "attachments": {},
   "cell_type": "markdown",
   "metadata": {},
   "source": [
    "---"
   ]
  },
  {
   "attachments": {},
   "cell_type": "markdown",
   "metadata": {},
   "source": [
    "<h2 style=\"text-align: center;\">ANÁLISIS DE LOS DATOS</h2>"
   ]
  },
  {
   "attachments": {},
   "cell_type": "markdown",
   "metadata": {},
   "source": [
    "<h4 style=\"text-align: center;\"><ins>1 - País de Origen</ins></h4>"
   ]
  },
  {
   "attachments": {},
   "cell_type": "markdown",
   "metadata": {},
   "source": [
    "Examinamos los valores únicos de la columna, por si fuera necesario realizar alguna codificación o traducción en sus valores."
   ]
  },
  {
   "cell_type": "code",
   "execution_count": 33,
   "metadata": {},
   "outputs": [
    {
     "data": {
      "text/plain": [
       "array(['Ethiopia', 'United States', 'United States (Hawaii)', 'Indonesia',\n",
       "       'China', 'Costa Rica', 'Mexico', 'Brazil', 'Uganda', 'Honduras',\n",
       "       'Taiwan', 'Kenya', 'Thailand', 'Colombia', 'Guatemala', 'Panama',\n",
       "       'Peru', 'Papua New Guinea', 'El Salvador',\n",
       "       'Tanzania, United Republic Of', 'Nicaragua', 'Japan', 'Ecuador',\n",
       "       'United States (Puerto Rico)', 'Haiti', 'Burundi', 'Vietnam',\n",
       "       'Philippines', 'Rwanda', 'Malawi', 'Laos', 'Zambia', 'Myanmar',\n",
       "       'Mauritius', 'Cote d?Ivoire', 'India'], dtype=object)"
      ]
     },
     "execution_count": 33,
     "metadata": {},
     "output_type": "execute_result"
    }
   ],
   "source": [
    "df[\"Country.of.Origin\"].unique()"
   ]
  },
  {
   "attachments": {},
   "cell_type": "markdown",
   "metadata": {},
   "source": [
    "Los valores son relativamente pocos y no es necesario realizar ningún cambio."
   ]
  },
  {
   "attachments": {},
   "cell_type": "markdown",
   "metadata": {},
   "source": [
    "<h4 style=\"text-align: center;\"><ins>2 - Especie</ins></h4>"
   ]
  },
  {
   "attachments": {},
   "cell_type": "markdown",
   "metadata": {},
   "source": [
    "Examinanos las especies presentes en el dataset."
   ]
  },
  {
   "cell_type": "code",
   "execution_count": 34,
   "metadata": {},
   "outputs": [
    {
     "data": {
      "text/plain": [
       "array(['Arabica', 'Robusta'], dtype=object)"
      ]
     },
     "execution_count": 34,
     "metadata": {},
     "output_type": "execute_result"
    }
   ],
   "source": [
    "df[\"Species\"].unique()"
   ]
  },
  {
   "attachments": {},
   "cell_type": "markdown",
   "metadata": {},
   "source": [
    "Solamente hay dos especies y ningún registro carece de esta información."
   ]
  },
  {
   "attachments": {},
   "cell_type": "markdown",
   "metadata": {},
   "source": [
    "<h4 style=\"text-align: center;\"><ins>3 - Variedad</ins></h4>"
   ]
  },
  {
   "attachments": {},
   "cell_type": "markdown",
   "metadata": {},
   "source": [
    "Examinamos los tipos de variedad presentes en el conjunto de datos."
   ]
  },
  {
   "cell_type": "code",
   "execution_count": 35,
   "metadata": {},
   "outputs": [
    {
     "data": {
      "text/plain": [
       "array(['Other', 'Catimor', 'Ethiopian Yirgacheffe', 'Caturra', 'Bourbon',\n",
       "       'SL14', 'Sumatra', 'SL34', 'Hawaiian Kona', 'Yellow Bourbon',\n",
       "       'SL28', 'Gesha', 'Catuai', 'Pacamara', 'Typica', 'Sumatra Lintong',\n",
       "       'Mundo Novo', 'Java', 'Peaberry', 'Pacas', 'Mandheling',\n",
       "       'Ruiru 11', 'Ethiopian Heirlooms', 'Moka Peaberry', 'Arusha',\n",
       "       'Sulawesi', 'Blue Mountain', 'Marigojipe', 'Pache Comun'],\n",
       "      dtype=object)"
      ]
     },
     "execution_count": 35,
     "metadata": {},
     "output_type": "execute_result"
    }
   ],
   "source": [
    "df[\"Variety\"].unique()"
   ]
  },
  {
   "attachments": {},
   "cell_type": "markdown",
   "metadata": {},
   "source": [
    "Aunque son bastantes, no existe ningún valor extraño y todo aquéllo que no está definido tiene el valor genérico \"Other\""
   ]
  },
  {
   "attachments": {},
   "cell_type": "markdown",
   "metadata": {},
   "source": [
    "<h4 style=\"text-align: center;\"><ins>4 - Altitud</ins></h4>"
   ]
  },
  {
   "attachments": {},
   "cell_type": "markdown",
   "metadata": {},
   "source": [
    "Analizamos los valores de la columna relativa a la altitud media del cultivo. Dado que es un valor numérico, además del número de valores que presenta realizaremos un análisis de sus valores estadísticos."
   ]
  },
  {
   "cell_type": "code",
   "execution_count": 36,
   "metadata": {},
   "outputs": [
    {
     "data": {
      "text/plain": [
       "count    1279.000000\n",
       "mean     1243.125754\n",
       "std       472.959052\n",
       "min       600.000000\n",
       "25%       850.000000\n",
       "50%      1250.000000\n",
       "75%      1570.191489\n",
       "max      3000.000000\n",
       "Name: altitude_recalc, dtype: float64"
      ]
     },
     "execution_count": 36,
     "metadata": {},
     "output_type": "execute_result"
    }
   ],
   "source": [
    "df[\"altitude_recalc\"].describe()"
   ]
  },
  {
   "attachments": {},
   "cell_type": "markdown",
   "metadata": {},
   "source": [
    "Tener tanta variedad de alturas va a suponer un problema a la hora de analizar los datos y en el momento de las predicciones, por lo que se hace necesario realizar agrupamientos de valores a fin de simplificar esta categoría."
   ]
  },
  {
   "cell_type": "code",
   "execution_count": 37,
   "metadata": {},
   "outputs": [],
   "source": [
    "df[\"altitude_groups\"] = [\"Below 1000m\" if x<=1000 else (\"Between 1000 and 2000m\" if x>1000 and x<=2000 else \"Above 2000m\") for x in df[\"altitude_recalc\"]]"
   ]
  },
  {
   "attachments": {},
   "cell_type": "markdown",
   "metadata": {},
   "source": [
    "<h4 style=\"text-align: center;\"><ins>5 - Método de procesado</ins></h4>"
   ]
  },
  {
   "attachments": {},
   "cell_type": "markdown",
   "metadata": {},
   "source": [
    "Examinamos los valores existentes para el método de procesado."
   ]
  },
  {
   "cell_type": "code",
   "execution_count": 38,
   "metadata": {},
   "outputs": [
    {
     "data": {
      "text/plain": [
       "array(['Washed / Wet', 'Natural / Dry', 'Other', 'Pulped natural / honey',\n",
       "       'Semi-washed / Semi-pulped'], dtype=object)"
      ]
     },
     "execution_count": 38,
     "metadata": {},
     "output_type": "execute_result"
    }
   ],
   "source": [
    "df[\"Processing.Method\"].unique()"
   ]
  },
  {
   "attachments": {},
   "cell_type": "markdown",
   "metadata": {},
   "source": [
    "Todos los valores son correctos y existe un valor genérico."
   ]
  },
  {
   "attachments": {},
   "cell_type": "markdown",
   "metadata": {},
   "source": [
    "<h4 style=\"text-align: center;\"><ins>6 - Color</ins></h4>"
   ]
  },
  {
   "attachments": {},
   "cell_type": "markdown",
   "metadata": {},
   "source": [
    "Como en los casos anteriores, examinamos los valores del color que puede presentar la semilla del café."
   ]
  },
  {
   "cell_type": "code",
   "execution_count": 39,
   "metadata": {},
   "outputs": [
    {
     "data": {
      "text/plain": [
       "array(['Green', 'Bluish-Green', 'Blue-Green'], dtype=object)"
      ]
     },
     "execution_count": 39,
     "metadata": {},
     "output_type": "execute_result"
    }
   ],
   "source": [
    "df[\"Color\"].unique()"
   ]
  },
  {
   "attachments": {},
   "cell_type": "markdown",
   "metadata": {},
   "source": [
    "Al haber tratado con anterioridad los nulos, no es necesario realizar ninguna modificación adicional."
   ]
  },
  {
   "attachments": {},
   "cell_type": "markdown",
   "metadata": {},
   "source": [
    "<h4 style=\"text-align: center;\"><ins>7 - Quakers</ins></h4>"
   ]
  },
  {
   "attachments": {},
   "cell_type": "markdown",
   "metadata": {},
   "source": [
    "Listamos los valores que toma la columna \"quakers\""
   ]
  },
  {
   "cell_type": "code",
   "execution_count": 40,
   "metadata": {},
   "outputs": [
    {
     "data": {
      "text/plain": [
       "array([ 0.,  1.,  4.,  2.,  6.,  3., 11.,  7.,  5.,  9.,  8.])"
      ]
     },
     "execution_count": 40,
     "metadata": {},
     "output_type": "execute_result"
    }
   ],
   "source": [
    "df[\"Quakers\"].unique()"
   ]
  },
  {
   "attachments": {},
   "cell_type": "markdown",
   "metadata": {},
   "source": [
    "Examinaremos la cantidad de cada uno de los valores, por si fuera útil realizar agrupamientos."
   ]
  },
  {
   "cell_type": "code",
   "execution_count": 41,
   "metadata": {},
   "outputs": [
    {
     "data": {
      "text/plain": [
       "Quakers\n",
       "0.0     1188\n",
       "1.0       38\n",
       "2.0       29\n",
       "4.0        5\n",
       "3.0        5\n",
       "6.0        4\n",
       "5.0        4\n",
       "7.0        3\n",
       "11.0       1\n",
       "9.0        1\n",
       "8.0        1\n",
       "Name: count, dtype: int64"
      ]
     },
     "execution_count": 41,
     "metadata": {},
     "output_type": "execute_result"
    }
   ],
   "source": [
    "df[\"Quakers\"].value_counts()"
   ]
  },
  {
   "attachments": {},
   "cell_type": "markdown",
   "metadata": {},
   "source": [
    "Ante esos valores, decidimos realizar una división en 3 grupos."
   ]
  },
  {
   "cell_type": "code",
   "execution_count": 42,
   "metadata": {},
   "outputs": [],
   "source": [
    "df[\"quakers_groups\"] = [str(x) if x>=0 and x<=2 else (\"Between 3 and 5\" if x>=3 and x<=5 else \"More than 5\") for x in df[\"Quakers\"]]"
   ]
  },
  {
   "attachments": {},
   "cell_type": "markdown",
   "metadata": {},
   "source": [
    "<h4 style=\"text-align: center;\"><ins>8 - Año de cosecha</ins></h4>"
   ]
  },
  {
   "cell_type": "code",
   "execution_count": 43,
   "metadata": {},
   "outputs": [
    {
     "data": {
      "text/plain": [
       "array(['2014', '2010', 'UNKNOWN', '2015', '2012', '2013', '2011', '2016',\n",
       "       '2009', '2017', '2018'], dtype=object)"
      ]
     },
     "execution_count": 43,
     "metadata": {},
     "output_type": "execute_result"
    }
   ],
   "source": [
    "df[\"HarvestYear_Calc\"].unique()"
   ]
  },
  {
   "cell_type": "code",
   "execution_count": 44,
   "metadata": {},
   "outputs": [
    {
     "data": {
      "text/plain": [
       "HarvestYear_Calc\n",
       "2012       341\n",
       "2014       259\n",
       "2013       169\n",
       "2016       152\n",
       "2015       146\n",
       "2017        73\n",
       "UNKNOWN     45\n",
       "2010        37\n",
       "2011        36\n",
       "2018        20\n",
       "2009         1\n",
       "Name: count, dtype: int64"
      ]
     },
     "execution_count": 44,
     "metadata": {},
     "output_type": "execute_result"
    }
   ],
   "source": [
    "df[\"HarvestYear_Calc\"].value_counts()"
   ]
  },
  {
   "attachments": {},
   "cell_type": "markdown",
   "metadata": {},
   "source": [
    "<h4 style=\"text-align: center;\"><ins>9 - Variedad</ins></h4>"
   ]
  },
  {
   "cell_type": "code",
   "execution_count": 45,
   "metadata": {},
   "outputs": [
    {
     "data": {
      "text/plain": [
       "array(['Other', 'Catimor', 'Ethiopian Yirgacheffe', 'Caturra', 'Bourbon',\n",
       "       'SL14', 'Sumatra', 'SL34', 'Hawaiian Kona', 'Yellow Bourbon',\n",
       "       'SL28', 'Gesha', 'Catuai', 'Pacamara', 'Typica', 'Sumatra Lintong',\n",
       "       'Mundo Novo', 'Java', 'Peaberry', 'Pacas', 'Mandheling',\n",
       "       'Ruiru 11', 'Ethiopian Heirlooms', 'Moka Peaberry', 'Arusha',\n",
       "       'Sulawesi', 'Blue Mountain', 'Marigojipe', 'Pache Comun'],\n",
       "      dtype=object)"
      ]
     },
     "execution_count": 45,
     "metadata": {},
     "output_type": "execute_result"
    }
   ],
   "source": [
    "df[\"Variety\"].unique()"
   ]
  },
  {
   "attachments": {},
   "cell_type": "markdown",
   "metadata": {},
   "source": [
    "<h4 style=\"text-align: center;\"><ins>10 - Aroma</ins></h4>"
   ]
  },
  {
   "cell_type": "code",
   "execution_count": 46,
   "metadata": {},
   "outputs": [
    {
     "data": {
      "text/plain": [
       "array([8.67, 8.75, 8.17, 8.25, 8.08, 8.33, 8.  , 8.42, 8.5 , 7.83, 7.92,\n",
       "       7.67, 7.75, 7.58, 7.5 , 7.42, 7.81, 7.33, 7.25, 7.17, 7.08, 5.08,\n",
       "       6.92, 7.  , 6.83, 6.75, 6.67, 6.42, 6.17, 6.5 , 6.33, 0.  ])"
      ]
     },
     "execution_count": 46,
     "metadata": {},
     "output_type": "execute_result"
    }
   ],
   "source": [
    "df[\"Aroma\"].unique()"
   ]
  },
  {
   "cell_type": "code",
   "execution_count": 47,
   "metadata": {},
   "outputs": [
    {
     "data": {
      "text/plain": [
       "count    1279.000000\n",
       "mean        7.566239\n",
       "std         0.377272\n",
       "min         0.000000\n",
       "25%         7.420000\n",
       "50%         7.580000\n",
       "75%         7.750000\n",
       "max         8.750000\n",
       "Name: Aroma, dtype: float64"
      ]
     },
     "execution_count": 47,
     "metadata": {},
     "output_type": "execute_result"
    }
   ],
   "source": [
    "df[\"Aroma\"].describe()"
   ]
  },
  {
   "attachments": {},
   "cell_type": "markdown",
   "metadata": {},
   "source": [
    "Los valores estadísticos de la puntuación de Aroma están dentro de los valores esperados, pero resulta difícil creer que exista una puntuación 0 para un valor, por lo que puede ser un error y debemos estudiarlo."
   ]
  },
  {
   "cell_type": "code",
   "execution_count": 48,
   "metadata": {},
   "outputs": [
    {
     "data": {
      "text/html": [
       "<div>\n",
       "<style scoped>\n",
       "    .dataframe tbody tr th:only-of-type {\n",
       "        vertical-align: middle;\n",
       "    }\n",
       "\n",
       "    .dataframe tbody tr th {\n",
       "        vertical-align: top;\n",
       "    }\n",
       "\n",
       "    .dataframe thead th {\n",
       "        text-align: right;\n",
       "    }\n",
       "</style>\n",
       "<table border=\"1\" class=\"dataframe\">\n",
       "  <thead>\n",
       "    <tr style=\"text-align: right;\">\n",
       "      <th></th>\n",
       "      <th>Species</th>\n",
       "      <th>Country.of.Origin</th>\n",
       "      <th>Region</th>\n",
       "      <th>Variety</th>\n",
       "      <th>Processing.Method</th>\n",
       "      <th>Aroma</th>\n",
       "      <th>Flavor</th>\n",
       "      <th>Aftertaste</th>\n",
       "      <th>Acidity</th>\n",
       "      <th>Body</th>\n",
       "      <th>...</th>\n",
       "      <th>Quakers</th>\n",
       "      <th>Color</th>\n",
       "      <th>Category.Two.Defects</th>\n",
       "      <th>Expiration</th>\n",
       "      <th>unit_of_measurement</th>\n",
       "      <th>altitude_mean_meters</th>\n",
       "      <th>altitude_recalc</th>\n",
       "      <th>HarvestYear_Calc</th>\n",
       "      <th>altitude_groups</th>\n",
       "      <th>quakers_groups</th>\n",
       "    </tr>\n",
       "  </thead>\n",
       "  <tbody>\n",
       "    <tr>\n",
       "      <th>1310</th>\n",
       "      <td>Arabica</td>\n",
       "      <td>Honduras</td>\n",
       "      <td>comayagua</td>\n",
       "      <td>Caturra</td>\n",
       "      <td>Other</td>\n",
       "      <td>0.0</td>\n",
       "      <td>0.0</td>\n",
       "      <td>0.0</td>\n",
       "      <td>0.0</td>\n",
       "      <td>0.0</td>\n",
       "      <td>...</td>\n",
       "      <td>0.0</td>\n",
       "      <td>Green</td>\n",
       "      <td>2</td>\n",
       "      <td>April 28th, 2018</td>\n",
       "      <td>m</td>\n",
       "      <td>1400.0</td>\n",
       "      <td>1400.0</td>\n",
       "      <td>2017</td>\n",
       "      <td>Between 1000 and 2000m</td>\n",
       "      <td>0.0</td>\n",
       "    </tr>\n",
       "  </tbody>\n",
       "</table>\n",
       "<p>1 rows × 27 columns</p>\n",
       "</div>"
      ],
      "text/plain": [
       "      Species Country.of.Origin     Region  Variety Processing.Method  Aroma  \\\n",
       "1310  Arabica          Honduras  comayagua  Caturra             Other    0.0   \n",
       "\n",
       "      Flavor  Aftertaste  Acidity  Body  ...  Quakers  Color  \\\n",
       "1310     0.0         0.0      0.0   0.0  ...      0.0  Green   \n",
       "\n",
       "      Category.Two.Defects        Expiration  unit_of_measurement  \\\n",
       "1310                     2  April 28th, 2018                    m   \n",
       "\n",
       "      altitude_mean_meters  altitude_recalc  HarvestYear_Calc  \\\n",
       "1310                1400.0           1400.0              2017   \n",
       "\n",
       "             altitude_groups  quakers_groups  \n",
       "1310  Between 1000 and 2000m             0.0  \n",
       "\n",
       "[1 rows x 27 columns]"
      ]
     },
     "execution_count": 48,
     "metadata": {},
     "output_type": "execute_result"
    }
   ],
   "source": [
    "df.loc[df[\"Aroma\"]==0]"
   ]
  },
  {
   "attachments": {},
   "cell_type": "markdown",
   "metadata": {},
   "source": [
    "Puede observarse que tiene todos sus valores de calidad a 0 por lo que entendemos que es un error, ya sea porque esta variedad no se analizó o porque los registros de las puntuaciones no han sido almacenados.\n",
    "\n",
    "En cualquier caso, vamos a eliminarlo pues no es de ninguna utilidad."
   ]
  },
  {
   "cell_type": "code",
   "execution_count": 49,
   "metadata": {},
   "outputs": [],
   "source": [
    "df = df[df[\"Aroma\"]>0]"
   ]
  },
  {
   "attachments": {},
   "cell_type": "markdown",
   "metadata": {},
   "source": [
    "<h4 style=\"text-align: center;\"><ins>11 - Sabor</ins></h4>"
   ]
  },
  {
   "cell_type": "code",
   "execution_count": 50,
   "metadata": {},
   "outputs": [
    {
     "data": {
      "text/plain": [
       "array([8.83, 8.67, 8.58, 8.5 , 8.33, 8.42, 8.25, 8.17, 8.08, 8.  , 7.83,\n",
       "       7.75, 7.92, 7.58, 7.67, 7.81, 7.5 , 7.88, 7.42, 7.33, 7.25, 7.  ,\n",
       "       7.08, 7.17, 6.92, 6.67, 6.83, 6.5 , 6.75, 6.08, 6.17, 6.33, 6.58,\n",
       "       6.42])"
      ]
     },
     "execution_count": 50,
     "metadata": {},
     "output_type": "execute_result"
    }
   ],
   "source": [
    "df[\"Flavor\"].unique()"
   ]
  },
  {
   "cell_type": "code",
   "execution_count": 51,
   "metadata": {},
   "outputs": [
    {
     "data": {
      "text/plain": [
       "count    1278.000000\n",
       "mean        7.524867\n",
       "std         0.338562\n",
       "min         6.080000\n",
       "25%         7.330000\n",
       "50%         7.580000\n",
       "75%         7.750000\n",
       "max         8.830000\n",
       "Name: Flavor, dtype: float64"
      ]
     },
     "execution_count": 51,
     "metadata": {},
     "output_type": "execute_result"
    }
   ],
   "source": [
    "df[\"Flavor\"].describe()"
   ]
  },
  {
   "attachments": {},
   "cell_type": "markdown",
   "metadata": {},
   "source": [
    "Todos los valores estadísticos para la variable Flavor están dentro de los esperados y no parece haber ninguno fuera de rango."
   ]
  },
  {
   "attachments": {},
   "cell_type": "markdown",
   "metadata": {},
   "source": [
    "<h4 style=\"text-align: center;\"><ins>12 - Regusto</ins></h4>"
   ]
  },
  {
   "cell_type": "code",
   "execution_count": 52,
   "metadata": {},
   "outputs": [
    {
     "data": {
      "text/plain": [
       "array([8.67, 8.5 , 8.42, 8.25, 8.58, 8.17, 8.33, 8.08, 7.83, 8.  , 7.92,\n",
       "       7.75, 7.67, 7.58, 7.42, 7.5 , 7.88, 7.33, 7.56, 7.25, 7.38, 7.17,\n",
       "       7.08, 7.  , 6.83, 6.92, 6.75, 6.33, 6.58, 6.67, 6.5 , 6.17, 6.42,\n",
       "       6.25])"
      ]
     },
     "execution_count": 52,
     "metadata": {},
     "output_type": "execute_result"
    }
   ],
   "source": [
    "df[\"Aftertaste\"].unique()"
   ]
  },
  {
   "cell_type": "code",
   "execution_count": 53,
   "metadata": {},
   "outputs": [
    {
     "data": {
      "text/plain": [
       "count    1278.000000\n",
       "mean        7.405532\n",
       "std         0.346649\n",
       "min         6.170000\n",
       "25%         7.250000\n",
       "50%         7.420000\n",
       "75%         7.580000\n",
       "max         8.670000\n",
       "Name: Aftertaste, dtype: float64"
      ]
     },
     "execution_count": 53,
     "metadata": {},
     "output_type": "execute_result"
    }
   ],
   "source": [
    "df[\"Aftertaste\"].describe()"
   ]
  },
  {
   "attachments": {},
   "cell_type": "markdown",
   "metadata": {},
   "source": [
    "Todos los valores estadísticos para la variable Aftertaste están dentro de los esperados y no parece haber ninguno fuera de rango."
   ]
  },
  {
   "attachments": {},
   "cell_type": "markdown",
   "metadata": {},
   "source": [
    "<h4 style=\"text-align: center;\"><ins>13 - Cuerpo</ins></h4>"
   ]
  },
  {
   "cell_type": "code",
   "execution_count": 54,
   "metadata": {},
   "outputs": [
    {
     "data": {
      "text/plain": [
       "array([8.5 , 8.42, 8.33, 7.67, 7.75, 8.08, 8.  , 8.25, 8.58, 8.17, 7.92,\n",
       "       7.83, 7.58, 7.5 , 7.42, 7.38, 7.63, 7.33, 7.25, 7.17, 7.08, 7.  ,\n",
       "       5.25, 6.75, 6.83, 6.92, 6.67, 6.33, 6.5 , 6.42, 5.08, 5.17])"
      ]
     },
     "execution_count": 54,
     "metadata": {},
     "output_type": "execute_result"
    }
   ],
   "source": [
    "df[\"Body\"].unique()"
   ]
  },
  {
   "cell_type": "code",
   "execution_count": 55,
   "metadata": {},
   "outputs": [
    {
     "data": {
      "text/plain": [
       "count    1278.000000\n",
       "mean        7.520219\n",
       "std         0.305739\n",
       "min         5.080000\n",
       "25%         7.330000\n",
       "50%         7.500000\n",
       "75%         7.670000\n",
       "max         8.580000\n",
       "Name: Body, dtype: float64"
      ]
     },
     "execution_count": 55,
     "metadata": {},
     "output_type": "execute_result"
    }
   ],
   "source": [
    "df[\"Body\"].describe()"
   ]
  },
  {
   "attachments": {},
   "cell_type": "markdown",
   "metadata": {},
   "source": [
    "Todos los valores estadísticos para la variable Body están dentro de los esperados y no parece haber ninguno fuera de rango."
   ]
  },
  {
   "attachments": {},
   "cell_type": "markdown",
   "metadata": {},
   "source": [
    "<h4 style=\"text-align: center;\"><ins>14 - Dulzor</ins></h4>"
   ]
  },
  {
   "cell_type": "code",
   "execution_count": 56,
   "metadata": {},
   "outputs": [
    {
     "data": {
      "text/plain": [
       "array([10.  ,  9.33,  8.67,  6.67,  8.  ,  6.  ,  1.33,  7.83,  7.75,\n",
       "        7.58,  7.92,  7.67,  7.5 ,  7.42,  8.42])"
      ]
     },
     "execution_count": 56,
     "metadata": {},
     "output_type": "execute_result"
    }
   ],
   "source": [
    "df[\"Sweetness\"].unique()"
   ]
  },
  {
   "cell_type": "code",
   "execution_count": 57,
   "metadata": {},
   "outputs": [
    {
     "data": {
      "text/plain": [
       "count    1278.000000\n",
       "mean        9.869358\n",
       "std         0.544353\n",
       "min         1.330000\n",
       "25%        10.000000\n",
       "50%        10.000000\n",
       "75%        10.000000\n",
       "max        10.000000\n",
       "Name: Sweetness, dtype: float64"
      ]
     },
     "execution_count": 57,
     "metadata": {},
     "output_type": "execute_result"
    }
   ],
   "source": [
    "df[\"Sweetness\"].describe()"
   ]
  },
  {
   "attachments": {},
   "cell_type": "markdown",
   "metadata": {},
   "source": [
    "La variable dulzor presenta unos valores muy altos dentro del rango esperado; pero llama la atención la puntuación mínima de 1 y debemos estudiarla en profundidad. Vamos a extender el estudio a los valores por debajo de 5."
   ]
  },
  {
   "cell_type": "code",
   "execution_count": 58,
   "metadata": {},
   "outputs": [
    {
     "data": {
      "text/html": [
       "<div>\n",
       "<style scoped>\n",
       "    .dataframe tbody tr th:only-of-type {\n",
       "        vertical-align: middle;\n",
       "    }\n",
       "\n",
       "    .dataframe tbody tr th {\n",
       "        vertical-align: top;\n",
       "    }\n",
       "\n",
       "    .dataframe thead th {\n",
       "        text-align: right;\n",
       "    }\n",
       "</style>\n",
       "<table border=\"1\" class=\"dataframe\">\n",
       "  <thead>\n",
       "    <tr style=\"text-align: right;\">\n",
       "      <th></th>\n",
       "      <th>Species</th>\n",
       "      <th>Country.of.Origin</th>\n",
       "      <th>Region</th>\n",
       "      <th>Variety</th>\n",
       "      <th>Processing.Method</th>\n",
       "      <th>Sweetness</th>\n",
       "      <th>Aroma</th>\n",
       "      <th>Flavor</th>\n",
       "      <th>Aftertaste</th>\n",
       "      <th>Acidity</th>\n",
       "      <th>Body</th>\n",
       "      <th>Quakers</th>\n",
       "      <th>Clean.Cup</th>\n",
       "    </tr>\n",
       "  </thead>\n",
       "  <tbody>\n",
       "    <tr>\n",
       "      <th>1309</th>\n",
       "      <td>Arabica</td>\n",
       "      <td>Guatemala</td>\n",
       "      <td>nuevo oriente</td>\n",
       "      <td>Catuai</td>\n",
       "      <td>Washed / Wet</td>\n",
       "      <td>1.33</td>\n",
       "      <td>7.5</td>\n",
       "      <td>6.67</td>\n",
       "      <td>6.67</td>\n",
       "      <td>7.67</td>\n",
       "      <td>7.33</td>\n",
       "      <td>0.0</td>\n",
       "      <td>1.33</td>\n",
       "    </tr>\n",
       "  </tbody>\n",
       "</table>\n",
       "</div>"
      ],
      "text/plain": [
       "      Species Country.of.Origin         Region Variety Processing.Method  \\\n",
       "1309  Arabica         Guatemala  nuevo oriente  Catuai      Washed / Wet   \n",
       "\n",
       "      Sweetness  Aroma  Flavor  Aftertaste  Acidity  Body  Quakers  Clean.Cup  \n",
       "1309       1.33    7.5    6.67        6.67     7.67  7.33      0.0       1.33  "
      ]
     },
     "execution_count": 58,
     "metadata": {},
     "output_type": "execute_result"
    }
   ],
   "source": [
    "df.loc[df[\"Sweetness\"]<5, [\"Species\",\"Country.of.Origin\",\"Region\",\t\"Variety\",\t\"Processing.Method\", \"Sweetness\",\t\"Aroma\",\t\"Flavor\",\t\"Aftertaste\",\t\"Acidity\",\t\"Body\",\t\"Quakers\", \"Clean.Cup\"]]"
   ]
  },
  {
   "attachments": {},
   "cell_type": "markdown",
   "metadata": {},
   "source": [
    "Todo parece indicar que se trata de un error a la hora de capturar el dato, por lo que decidimos sustituir ese dato por la media de la puntuación de la variable Sweetness que presenta el país de origen."
   ]
  },
  {
   "cell_type": "code",
   "execution_count": 59,
   "metadata": {},
   "outputs": [
    {
     "data": {
      "text/plain": [
       "9.867215909090909"
      ]
     },
     "execution_count": 59,
     "metadata": {},
     "output_type": "execute_result"
    }
   ],
   "source": [
    "df.loc[(df[\"Country.of.Origin\"]==\"Guatemala\"), \"Sweetness\"].mean()"
   ]
  },
  {
   "attachments": {},
   "cell_type": "markdown",
   "metadata": {},
   "source": [
    "Que la media de la variable sweetness del país sea tan grande nos refuerza la idea de que el valor 1.33 ha debido ser un error en la captura de datos."
   ]
  },
  {
   "cell_type": "code",
   "execution_count": 60,
   "metadata": {},
   "outputs": [],
   "source": [
    "df.loc[df[\"Sweetness\"]<2, \"Sweetness\"] = df.loc[(df[\"Country.of.Origin\"]==\"Guatemala\"), \"Sweetness\"].mean()"
   ]
  },
  {
   "cell_type": "code",
   "execution_count": 61,
   "metadata": {},
   "outputs": [
    {
     "data": {
      "text/plain": [
       "count    1278.000000\n",
       "mean        9.876039\n",
       "std         0.489053\n",
       "min         6.000000\n",
       "25%        10.000000\n",
       "50%        10.000000\n",
       "75%        10.000000\n",
       "max        10.000000\n",
       "Name: Sweetness, dtype: float64"
      ]
     },
     "execution_count": 61,
     "metadata": {},
     "output_type": "execute_result"
    }
   ],
   "source": [
    "df[\"Sweetness\"].describe()"
   ]
  },
  {
   "attachments": {},
   "cell_type": "markdown",
   "metadata": {},
   "source": [
    "Los valores ahora, pese a ser muy elevados, son más coherentes, sin valores extremos que podiéramos considerar como fuera de rango."
   ]
  },
  {
   "attachments": {},
   "cell_type": "markdown",
   "metadata": {},
   "source": [
    "<h4 style=\"text-align: center;\"><ins>15 - Acidez</ins></h4>"
   ]
  },
  {
   "cell_type": "code",
   "execution_count": 62,
   "metadata": {},
   "outputs": [
    {
     "data": {
      "text/plain": [
       "array([8.75, 8.58, 8.42, 8.5 , 8.33, 8.25, 8.17, 7.75, 8.  , 8.08, 7.92,\n",
       "       7.83, 7.67, 7.58, 7.42, 7.17, 7.5 , 7.25, 7.33, 7.63, 7.08, 6.92,\n",
       "       7.  , 5.25, 6.83, 6.75, 6.67, 6.08, 6.5 , 6.25])"
      ]
     },
     "execution_count": 62,
     "metadata": {},
     "output_type": "execute_result"
    }
   ],
   "source": [
    "df[\"Acidity\"].unique()"
   ]
  },
  {
   "cell_type": "code",
   "execution_count": 63,
   "metadata": {},
   "outputs": [
    {
     "data": {
      "text/plain": [
       "count    1278.000000\n",
       "mean        7.541933\n",
       "std         0.313628\n",
       "min         5.250000\n",
       "25%         7.330000\n",
       "50%         7.580000\n",
       "75%         7.750000\n",
       "max         8.750000\n",
       "Name: Acidity, dtype: float64"
      ]
     },
     "execution_count": 63,
     "metadata": {},
     "output_type": "execute_result"
    }
   ],
   "source": [
    "df[\"Acidity\"].describe()"
   ]
  },
  {
   "attachments": {},
   "cell_type": "markdown",
   "metadata": {},
   "source": [
    "De nuevo tenemos una característica con los valores dentro de lo esperado, sin que se aprecie ninguno fuera de rango."
   ]
  },
  {
   "attachments": {},
   "cell_type": "markdown",
   "metadata": {},
   "source": [
    "<h4 style=\"text-align: center;\"><ins>16 - Equilibrio</ins></h4>"
   ]
  },
  {
   "cell_type": "code",
   "execution_count": 64,
   "metadata": {},
   "outputs": [
    {
     "data": {
      "text/plain": [
       "array([8.42, 8.25, 8.33, 8.5 , 8.17, 8.08, 8.  , 8.75, 7.92, 7.83, 7.75,\n",
       "       8.58, 7.67, 7.58, 7.5 , 7.33, 7.42, 7.17, 7.25, 7.  , 6.83, 7.08,\n",
       "       6.92, 6.58, 6.75, 6.33, 6.67, 6.42, 6.5 , 6.17, 6.08, 5.25])"
      ]
     },
     "execution_count": 64,
     "metadata": {},
     "output_type": "execute_result"
    }
   ],
   "source": [
    "df[\"Balance\"].unique()"
   ]
  },
  {
   "cell_type": "code",
   "execution_count": 65,
   "metadata": {},
   "outputs": [
    {
     "data": {
      "text/plain": [
       "count    1278.000000\n",
       "mean        7.521823\n",
       "std         0.352534\n",
       "min         5.250000\n",
       "25%         7.330000\n",
       "50%         7.500000\n",
       "75%         7.750000\n",
       "max         8.750000\n",
       "Name: Balance, dtype: float64"
      ]
     },
     "execution_count": 65,
     "metadata": {},
     "output_type": "execute_result"
    }
   ],
   "source": [
    "df[\"Balance\"].describe()"
   ]
  },
  {
   "attachments": {},
   "cell_type": "markdown",
   "metadata": {},
   "source": [
    "Los valores para la variable Balance están dentro de lo esperado, sin que se aprecie ninguno fuera de rango."
   ]
  },
  {
   "attachments": {},
   "cell_type": "markdown",
   "metadata": {},
   "source": [
    "<h4 style=\"text-align: center;\"><ins>17 - Uniformidad</ins></h4>"
   ]
  },
  {
   "cell_type": "code",
   "execution_count": 66,
   "metadata": {},
   "outputs": [
    {
     "data": {
      "text/plain": [
       "array([10.  ,  9.33,  9.5 ,  8.67,  9.  ,  6.67,  8.  ,  7.33,  6.  ])"
      ]
     },
     "execution_count": 66,
     "metadata": {},
     "output_type": "execute_result"
    }
   ],
   "source": [
    "df[\"Uniformity\"].unique()"
   ]
  },
  {
   "cell_type": "code",
   "execution_count": 67,
   "metadata": {},
   "outputs": [
    {
     "data": {
      "text/plain": [
       "count    1278.000000\n",
       "mean        9.843693\n",
       "std         0.482850\n",
       "min         6.000000\n",
       "25%        10.000000\n",
       "50%        10.000000\n",
       "75%        10.000000\n",
       "max        10.000000\n",
       "Name: Uniformity, dtype: float64"
      ]
     },
     "execution_count": 67,
     "metadata": {},
     "output_type": "execute_result"
    }
   ],
   "source": [
    "df[\"Uniformity\"].describe()"
   ]
  },
  {
   "attachments": {},
   "cell_type": "markdown",
   "metadata": {},
   "source": [
    "En los valores de la variable Uniformidad, pese a ser muy elevados, no se aprecian valores que podiéramos considerar como fuera de rango, aunque dado el valor de los percentiles parece que se agrupan casi todos en el máximo, lo que nos dará, presumiblemente, una distribución alejada de la normal."
   ]
  },
  {
   "attachments": {},
   "cell_type": "markdown",
   "metadata": {},
   "source": [
    "<h4 style=\"text-align: center;\"><ins>18 - Clean Cup</ins></h4>"
   ]
  },
  {
   "cell_type": "code",
   "execution_count": 68,
   "metadata": {},
   "outputs": [
    {
     "data": {
      "text/plain": [
       "array([10.  ,  9.33,  8.67,  6.67,  8.  ,  5.33,  7.33,  6.  ,  2.67,\n",
       "        0.  ,  1.33])"
      ]
     },
     "execution_count": 68,
     "metadata": {},
     "output_type": "execute_result"
    }
   ],
   "source": [
    "df[\"Clean.Cup\"].unique()"
   ]
  },
  {
   "cell_type": "code",
   "execution_count": 69,
   "metadata": {},
   "outputs": [
    {
     "data": {
      "text/plain": [
       "count    1278.000000\n",
       "mean        9.844977\n",
       "std         0.718155\n",
       "min         0.000000\n",
       "25%        10.000000\n",
       "50%        10.000000\n",
       "75%        10.000000\n",
       "max        10.000000\n",
       "Name: Clean.Cup, dtype: float64"
      ]
     },
     "execution_count": 69,
     "metadata": {},
     "output_type": "execute_result"
    }
   ],
   "source": [
    "df[\"Clean.Cup\"].describe()"
   ]
  },
  {
   "attachments": {},
   "cell_type": "markdown",
   "metadata": {},
   "source": [
    "En los valores de la variable Clean Cup encontramos al menos un valor mínimo de 0, que choca bastante con el resto de valores, por lo que puede que se deba a un error en la toma de datos.\n",
    "\n",
    "Vamos a estudiar los casos que estén por debajo de la puntuación 5."
   ]
  },
  {
   "cell_type": "code",
   "execution_count": 70,
   "metadata": {},
   "outputs": [
    {
     "data": {
      "text/html": [
       "<div>\n",
       "<style scoped>\n",
       "    .dataframe tbody tr th:only-of-type {\n",
       "        vertical-align: middle;\n",
       "    }\n",
       "\n",
       "    .dataframe tbody tr th {\n",
       "        vertical-align: top;\n",
       "    }\n",
       "\n",
       "    .dataframe thead th {\n",
       "        text-align: right;\n",
       "    }\n",
       "</style>\n",
       "<table border=\"1\" class=\"dataframe\">\n",
       "  <thead>\n",
       "    <tr style=\"text-align: right;\">\n",
       "      <th></th>\n",
       "      <th>Species</th>\n",
       "      <th>Country.of.Origin</th>\n",
       "      <th>Region</th>\n",
       "      <th>Variety</th>\n",
       "      <th>Processing.Method</th>\n",
       "      <th>Sweetness</th>\n",
       "      <th>Aroma</th>\n",
       "      <th>Flavor</th>\n",
       "      <th>Aftertaste</th>\n",
       "      <th>Acidity</th>\n",
       "      <th>Body</th>\n",
       "      <th>Quakers</th>\n",
       "      <th>Clean.Cup</th>\n",
       "    </tr>\n",
       "  </thead>\n",
       "  <tbody>\n",
       "    <tr>\n",
       "      <th>1290</th>\n",
       "      <td>Arabica</td>\n",
       "      <td>Mexico</td>\n",
       "      <td>coatepec</td>\n",
       "      <td>Typica</td>\n",
       "      <td>Washed / Wet</td>\n",
       "      <td>10.000000</td>\n",
       "      <td>7.67</td>\n",
       "      <td>7.00</td>\n",
       "      <td>7.17</td>\n",
       "      <td>7.58</td>\n",
       "      <td>7.33</td>\n",
       "      <td>0.0</td>\n",
       "      <td>2.67</td>\n",
       "    </tr>\n",
       "    <tr>\n",
       "      <th>1299</th>\n",
       "      <td>Arabica</td>\n",
       "      <td>Mexico</td>\n",
       "      <td>tlatlauquitepec</td>\n",
       "      <td>Mundo Novo</td>\n",
       "      <td>Washed / Wet</td>\n",
       "      <td>10.000000</td>\n",
       "      <td>6.92</td>\n",
       "      <td>6.92</td>\n",
       "      <td>6.92</td>\n",
       "      <td>6.92</td>\n",
       "      <td>7.17</td>\n",
       "      <td>0.0</td>\n",
       "      <td>2.67</td>\n",
       "    </tr>\n",
       "    <tr>\n",
       "      <th>1306</th>\n",
       "      <td>Arabica</td>\n",
       "      <td>Mexico</td>\n",
       "      <td>juchique de ferrer</td>\n",
       "      <td>Bourbon</td>\n",
       "      <td>Washed / Wet</td>\n",
       "      <td>10.000000</td>\n",
       "      <td>7.08</td>\n",
       "      <td>6.83</td>\n",
       "      <td>6.25</td>\n",
       "      <td>7.42</td>\n",
       "      <td>7.25</td>\n",
       "      <td>0.0</td>\n",
       "      <td>0.00</td>\n",
       "    </tr>\n",
       "    <tr>\n",
       "      <th>1309</th>\n",
       "      <td>Arabica</td>\n",
       "      <td>Guatemala</td>\n",
       "      <td>nuevo oriente</td>\n",
       "      <td>Catuai</td>\n",
       "      <td>Washed / Wet</td>\n",
       "      <td>9.867216</td>\n",
       "      <td>7.50</td>\n",
       "      <td>6.67</td>\n",
       "      <td>6.67</td>\n",
       "      <td>7.67</td>\n",
       "      <td>7.33</td>\n",
       "      <td>0.0</td>\n",
       "      <td>1.33</td>\n",
       "    </tr>\n",
       "  </tbody>\n",
       "</table>\n",
       "</div>"
      ],
      "text/plain": [
       "      Species Country.of.Origin              Region     Variety  \\\n",
       "1290  Arabica            Mexico            coatepec      Typica   \n",
       "1299  Arabica            Mexico     tlatlauquitepec  Mundo Novo   \n",
       "1306  Arabica            Mexico  juchique de ferrer     Bourbon   \n",
       "1309  Arabica         Guatemala       nuevo oriente      Catuai   \n",
       "\n",
       "     Processing.Method  Sweetness  Aroma  Flavor  Aftertaste  Acidity  Body  \\\n",
       "1290      Washed / Wet  10.000000   7.67    7.00        7.17     7.58  7.33   \n",
       "1299      Washed / Wet  10.000000   6.92    6.92        6.92     6.92  7.17   \n",
       "1306      Washed / Wet  10.000000   7.08    6.83        6.25     7.42  7.25   \n",
       "1309      Washed / Wet   9.867216   7.50    6.67        6.67     7.67  7.33   \n",
       "\n",
       "      Quakers  Clean.Cup  \n",
       "1290      0.0       2.67  \n",
       "1299      0.0       2.67  \n",
       "1306      0.0       0.00  \n",
       "1309      0.0       1.33  "
      ]
     },
     "execution_count": 70,
     "metadata": {},
     "output_type": "execute_result"
    }
   ],
   "source": [
    "df.loc[df[\"Clean.Cup\"]<5, [\"Species\",\"Country.of.Origin\",\"Region\",\t\"Variety\",\t\"Processing.Method\", \"Sweetness\",\t\"Aroma\",\t\"Flavor\",\t\"Aftertaste\",\t\"Acidity\",\t\"Body\",\t\"Quakers\", \"Clean.Cup\"]]"
   ]
  },
  {
   "attachments": {},
   "cell_type": "markdown",
   "metadata": {},
   "source": [
    "Hay otros valores bajos, pero en ninguno de esos casos podemos suponer que sean errores pues la característica \"Clean Cup\" hace referencia a la existencia de sabores fuera de lugar en el café y es posible que haya sucedido en esas variedades.\n",
    "\n",
    "No podemos eliminarlos ni deberíamos imputarles ningún valor pues puede que al hacerlo estemos variando información correcta."
   ]
  },
  {
   "attachments": {},
   "cell_type": "markdown",
   "metadata": {},
   "source": [
    "<h4 style=\"text-align: center;\"><ins>19 - Humedad</ins></h4>"
   ]
  },
  {
   "cell_type": "code",
   "execution_count": 71,
   "metadata": {},
   "outputs": [
    {
     "data": {
      "text/plain": [
       "array([0.12, 0.11, 0.03, 0.1 , 0.  , 0.05, 0.13, 0.08, 0.01, 0.09, 0.04,\n",
       "       0.15, 0.18, 0.2 , 0.02, 0.06, 0.07, 0.14, 0.16, 0.22, 0.17])"
      ]
     },
     "execution_count": 71,
     "metadata": {},
     "output_type": "execute_result"
    }
   ],
   "source": [
    "df[\"Moisture\"].unique()"
   ]
  },
  {
   "cell_type": "code",
   "execution_count": 72,
   "metadata": {},
   "outputs": [
    {
     "data": {
      "text/plain": [
       "count    1278.000000\n",
       "mean        0.088983\n",
       "std         0.047426\n",
       "min         0.000000\n",
       "25%         0.090000\n",
       "50%         0.110000\n",
       "75%         0.120000\n",
       "max         0.220000\n",
       "Name: Moisture, dtype: float64"
      ]
     },
     "execution_count": 72,
     "metadata": {},
     "output_type": "execute_result"
    }
   ],
   "source": [
    "df[\"Moisture\"].describe()"
   ]
  },
  {
   "attachments": {},
   "cell_type": "markdown",
   "metadata": {},
   "source": [
    "Los valores estadísticos de la variable humedad parecen ser coherentes, sin valores extremos o fuera de rango; aunque consideramos poco realista la existencia de un valor de cero absoluto para una característica como la humedad de las semillas, por lo que vamos a revisarlo."
   ]
  },
  {
   "cell_type": "code",
   "execution_count": 73,
   "metadata": {},
   "outputs": [
    {
     "data": {
      "text/plain": [
       "(246, 27)"
      ]
     },
     "execution_count": 73,
     "metadata": {},
     "output_type": "execute_result"
    }
   ],
   "source": [
    "df[df[\"Moisture\"]==0].shape"
   ]
  },
  {
   "attachments": {},
   "cell_type": "markdown",
   "metadata": {},
   "source": [
    "Hay muchos registros con un valor de 0 en el campo Moisture, por lo que vamos a considerarlo un valor correcto y posible."
   ]
  },
  {
   "attachments": {},
   "cell_type": "markdown",
   "metadata": {},
   "source": [
    "<h4 style=\"text-align: center;\"><ins>20 - Defectos Tipo 1</ins></h4>"
   ]
  },
  {
   "cell_type": "code",
   "execution_count": 74,
   "metadata": {},
   "outputs": [
    {
     "data": {
      "text/plain": [
       "array([ 0,  1,  2,  4,  3,  6, 10,  5, 31, 11, 12,  7, 23, 15,  9,  8],\n",
       "      dtype=int64)"
      ]
     },
     "execution_count": 74,
     "metadata": {},
     "output_type": "execute_result"
    }
   ],
   "source": [
    "df[\"Category.One.Defects\"].unique()"
   ]
  },
  {
   "cell_type": "code",
   "execution_count": 75,
   "metadata": {},
   "outputs": [
    {
     "data": {
      "text/plain": [
       "Category.One.Defects\n",
       "0     1089\n",
       "1       93\n",
       "2       37\n",
       "3       17\n",
       "4       16\n",
       "5        9\n",
       "6        3\n",
       "10       3\n",
       "7        3\n",
       "31       2\n",
       "11       1\n",
       "12       1\n",
       "23       1\n",
       "15       1\n",
       "9        1\n",
       "8        1\n",
       "Name: count, dtype: int64"
      ]
     },
     "execution_count": 75,
     "metadata": {},
     "output_type": "execute_result"
    }
   ],
   "source": [
    "df[\"Category.One.Defects\"].value_counts()"
   ]
  },
  {
   "attachments": {},
   "cell_type": "markdown",
   "metadata": {},
   "source": [
    "La mayor parte de los valores son de 0 defectos, aunque existe una gran cantidad de valores posibles. Decidimos crear agrupamientos para poder realizar mejor el análisis de esta característica."
   ]
  },
  {
   "cell_type": "code",
   "execution_count": 76,
   "metadata": {},
   "outputs": [],
   "source": [
    "df[\"Cat_One_Defects_Groups\"] = [str(x) if x>=0 and x<=2 else (\"Between 3 and 5\" if x>=3 and x<=5 else \"More than 5\") for x in df[\"Category.One.Defects\"]]"
   ]
  },
  {
   "attachments": {},
   "cell_type": "markdown",
   "metadata": {},
   "source": [
    "<h4 style=\"text-align: center;\"><ins>21 - Defectos Tipo 2</ins></h4>"
   ]
  },
  {
   "cell_type": "code",
   "execution_count": 77,
   "metadata": {},
   "outputs": [
    {
     "data": {
      "text/plain": [
       "array([ 0,  1,  2,  4,  8,  3,  9,  7,  6, 18,  5, 15, 29, 10, 16, 40, 26,\n",
       "       32, 13, 11, 21, 14, 12, 20, 17, 23, 22, 19, 30, 34, 45, 38, 47, 31,\n",
       "       28, 27, 24, 55], dtype=int64)"
      ]
     },
     "execution_count": 77,
     "metadata": {},
     "output_type": "execute_result"
    }
   ],
   "source": [
    "df[\"Category.Two.Defects\"].unique()"
   ]
  },
  {
   "cell_type": "code",
   "execution_count": 78,
   "metadata": {},
   "outputs": [
    {
     "data": {
      "text/plain": [
       "Category.Two.Defects\n",
       "0     347\n",
       "1     199\n",
       "2     173\n",
       "3     131\n",
       "4     113\n",
       "5      71\n",
       "6      44\n",
       "7      40\n",
       "8      28\n",
       "9      21\n",
       "10     20\n",
       "12     13\n",
       "14      9\n",
       "13      8\n",
       "20      8\n",
       "11      8\n",
       "17      6\n",
       "16      6\n",
       "15      5\n",
       "26      3\n",
       "19      3\n",
       "29      2\n",
       "18      2\n",
       "23      2\n",
       "30      2\n",
       "21      2\n",
       "47      1\n",
       "24      1\n",
       "27      1\n",
       "28      1\n",
       "31      1\n",
       "34      1\n",
       "38      1\n",
       "45      1\n",
       "32      1\n",
       "22      1\n",
       "40      1\n",
       "55      1\n",
       "Name: count, dtype: int64"
      ]
     },
     "execution_count": 78,
     "metadata": {},
     "output_type": "execute_result"
    }
   ],
   "source": [
    "df[\"Category.Two.Defects\"].value_counts()"
   ]
  },
  {
   "attachments": {},
   "cell_type": "markdown",
   "metadata": {},
   "source": [
    "Hay bastantes registros con un valor de 0 defectos, pero hay una gran cantidad de valores posibles y también decidimos crear agrupamientos para poder realizar mejor el análisis de esta característica."
   ]
  },
  {
   "cell_type": "code",
   "execution_count": 79,
   "metadata": {},
   "outputs": [],
   "source": [
    "df[\"Cat_Two_Defects_Groups\"] = [str(x) if x>=0 and x<=2 else (\"Between 3 and 5\" if x>=3 and x<=5 else \"More than 5\") for x in df[\"Category.Two.Defects\"]]"
   ]
  },
  {
   "attachments": {},
   "cell_type": "markdown",
   "metadata": {},
   "source": [
    "<h4 style=\"text-align: center;\"><ins>22 - Total de puntos</ins></h4>"
   ]
  },
  {
   "cell_type": "code",
   "execution_count": 80,
   "metadata": {},
   "outputs": [
    {
     "data": {
      "text/plain": [
       "array([90.58, 89.92, 89.  , 88.83, 88.67, 88.42, 88.25, 88.08, 87.92,\n",
       "       87.83, 87.58, 87.42, 87.33, 87.25, 87.17, 87.08, 86.92, 86.83,\n",
       "       86.67, 86.58, 86.42, 86.33, 86.25, 86.17, 86.08, 86.  , 85.92,\n",
       "       85.83, 85.75, 85.58, 85.5 , 85.42, 85.33, 85.25, 85.17, 85.08,\n",
       "       85.  , 84.92, 84.83, 84.75, 84.67, 84.58, 84.5 , 84.42, 84.33,\n",
       "       84.25, 84.17, 84.13, 84.08, 84.  , 83.92, 83.83, 83.75, 83.67,\n",
       "       83.58, 83.5 , 83.42, 83.38, 83.33, 83.25, 83.17, 83.08, 83.  ,\n",
       "       82.92, 82.83, 82.75, 82.67, 82.58, 82.5 , 82.42, 82.33, 82.25,\n",
       "       82.17, 82.08, 82.  , 81.92, 81.83, 81.75, 81.67, 81.58, 81.5 ,\n",
       "       81.42, 81.33, 81.25, 81.17, 81.08, 81.  , 80.92, 80.83, 80.75,\n",
       "       80.67, 80.58, 80.5 , 80.42, 80.33, 80.25, 80.17, 80.08, 80.  ,\n",
       "       79.92, 79.83, 79.75, 79.67, 79.58, 79.5 , 79.42, 79.33, 79.25,\n",
       "       79.17, 79.08, 79.  , 78.92, 78.83, 78.75, 78.67, 78.58, 78.5 ,\n",
       "       78.42, 78.33, 78.25, 78.17, 78.08, 78.  , 77.92, 77.83, 77.67,\n",
       "       77.58, 77.5 , 77.42, 77.33, 77.25, 77.17, 77.  , 76.83, 76.75,\n",
       "       76.5 , 76.42, 76.33, 76.25, 76.17, 76.08, 76.  , 75.83, 75.67,\n",
       "       75.58, 75.5 , 75.17, 75.  , 74.92, 74.83, 74.75, 74.67, 74.42,\n",
       "       74.33, 74.  , 73.83, 73.67, 73.5 , 73.42, 72.92, 72.58, 72.33,\n",
       "       71.75, 71.08, 71.  , 70.75, 70.67, 69.33, 69.17, 68.33, 67.92,\n",
       "       63.08, 59.83])"
      ]
     },
     "execution_count": 80,
     "metadata": {},
     "output_type": "execute_result"
    }
   ],
   "source": [
    "df[\"Total.Cup.Points\"].unique()"
   ]
  },
  {
   "cell_type": "code",
   "execution_count": 81,
   "metadata": {},
   "outputs": [
    {
     "data": {
      "text/plain": [
       "count    1278.000000\n",
       "mean       82.145258\n",
       "std         2.664268\n",
       "min        59.830000\n",
       "25%        81.170000\n",
       "50%        82.500000\n",
       "75%        83.670000\n",
       "max        90.580000\n",
       "Name: Total.Cup.Points, dtype: float64"
      ]
     },
     "execution_count": 81,
     "metadata": {},
     "output_type": "execute_result"
    }
   ],
   "source": [
    "df[\"Total.Cup.Points\"].describe()"
   ]
  },
  {
   "attachments": {},
   "cell_type": "markdown",
   "metadata": {},
   "source": [
    "Entre los valores estadísticos de la variable Total Cup points no parece haber valores extremos o fuera de rango."
   ]
  },
  {
   "attachments": {},
   "cell_type": "markdown",
   "metadata": {},
   "source": [
    "\n",
    "---"
   ]
  },
  {
   "attachments": {},
   "cell_type": "markdown",
   "metadata": {},
   "source": [
    "Creamos un archivo pickle para pasar a realizar el análisis univariante sobre estos datos ya tratados."
   ]
  },
  {
   "cell_type": "code",
   "execution_count": 82,
   "metadata": {},
   "outputs": [],
   "source": [
    "p_data_file = Path(os.path.dirname(src_path)+p_data_path+'coffe_clean.pkl')\n",
    "\n",
    "with open(p_data_file, 'wb') as handle:\n",
    "    pickle.dump(df, handle)\n"
   ]
  },
  {
   "attachments": {},
   "cell_type": "markdown",
   "metadata": {},
   "source": [
    "---"
   ]
  }
 ],
 "metadata": {
  "kernelspec": {
   "display_name": "Python 3",
   "language": "python",
   "name": "python3"
  },
  "language_info": {
   "codemirror_mode": {
    "name": "ipython",
    "version": 3
   },
   "file_extension": ".py",
   "mimetype": "text/x-python",
   "name": "python",
   "nbconvert_exporter": "python",
   "pygments_lexer": "ipython3",
   "version": "3.11.2"
  },
  "orig_nbformat": 4
 },
 "nbformat": 4,
 "nbformat_minor": 2
}
