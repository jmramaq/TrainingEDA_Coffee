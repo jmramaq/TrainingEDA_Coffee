{
 "cells": [
  {
   "attachments": {},
   "cell_type": "markdown",
   "metadata": {},
   "source": []
  },
  {
   "cell_type": "code",
   "execution_count": 2,
   "metadata": {},
   "outputs": [],
   "source": [
    "# Librerías\n",
    "import pandas as pd\n",
    "import numpy as np\n",
    "from pathlib import Path\n",
    "import os\n",
    "\n",
    "import matplotlib.pyplot as plt\n",
    "import seaborn as sns\n",
    "\n",
    "from scipy import stats"
   ]
  },
  {
   "cell_type": "code",
   "execution_count": 3,
   "metadata": {},
   "outputs": [],
   "source": [
    "sns.set_theme(style=\"darkgrid\")"
   ]
  },
  {
   "cell_type": "code",
   "execution_count": 4,
   "metadata": {},
   "outputs": [],
   "source": [
    "# Variables\n",
    "src_path = os.getcwd()\n",
    "data_path = \"/data/raw/\"\n",
    "data_file = \"merged_data.csv\"\n",
    "\n",
    "file_path= Path(os.path.dirname(src_path)+data_path+data_file)"
   ]
  },
  {
   "cell_type": "code",
   "execution_count": 5,
   "metadata": {},
   "outputs": [],
   "source": [
    "df_coffee = pd.read_csv(file_path)"
   ]
  },
  {
   "cell_type": "code",
   "execution_count": 6,
   "metadata": {},
   "outputs": [
    {
     "data": {
      "text/plain": [
       "(1339, 44)"
      ]
     },
     "execution_count": 6,
     "metadata": {},
     "output_type": "execute_result"
    }
   ],
   "source": [
    "df_coffee.shape"
   ]
  },
  {
   "cell_type": "code",
   "execution_count": 7,
   "metadata": {},
   "outputs": [
    {
     "name": "stdout",
     "output_type": "stream",
     "text": [
      "<class 'pandas.core.frame.DataFrame'>\n",
      "RangeIndex: 1339 entries, 0 to 1338\n",
      "Data columns (total 44 columns):\n",
      " #   Column                 Non-Null Count  Dtype  \n",
      "---  ------                 --------------  -----  \n",
      " 0   Unnamed: 0             1339 non-null   int64  \n",
      " 1   Species                1339 non-null   object \n",
      " 2   Owner                  1332 non-null   object \n",
      " 3   Country.of.Origin      1338 non-null   object \n",
      " 4   Farm.Name              980 non-null    object \n",
      " 5   Lot.Number             276 non-null    object \n",
      " 6   Mill                   1021 non-null   object \n",
      " 7   ICO.Number             1180 non-null   object \n",
      " 8   Company                1130 non-null   object \n",
      " 9   Altitude               1113 non-null   object \n",
      " 10  Region                 1280 non-null   object \n",
      " 11  Producer               1107 non-null   object \n",
      " 12  Number.of.Bags         1339 non-null   int64  \n",
      " 13  Bag.Weight             1339 non-null   object \n",
      " 14  In.Country.Partner     1339 non-null   object \n",
      " 15  Harvest.Year           1292 non-null   object \n",
      " 16  Grading.Date           1339 non-null   object \n",
      " 17  Owner.1                1332 non-null   object \n",
      " 18  Variety                1113 non-null   object \n",
      " 19  Processing.Method      1169 non-null   object \n",
      " 20  Aroma                  1339 non-null   float64\n",
      " 21  Flavor                 1339 non-null   float64\n",
      " 22  Aftertaste             1339 non-null   float64\n",
      " 23  Acidity                1339 non-null   float64\n",
      " 24  Body                   1339 non-null   float64\n",
      " 25  Balance                1339 non-null   float64\n",
      " 26  Uniformity             1339 non-null   float64\n",
      " 27  Clean.Cup              1339 non-null   float64\n",
      " 28  Sweetness              1339 non-null   float64\n",
      " 29  Cupper.Points          1339 non-null   float64\n",
      " 30  Total.Cup.Points       1339 non-null   float64\n",
      " 31  Moisture               1339 non-null   float64\n",
      " 32  Category.One.Defects   1339 non-null   int64  \n",
      " 33  Quakers                1338 non-null   float64\n",
      " 34  Color                  1069 non-null   object \n",
      " 35  Category.Two.Defects   1339 non-null   int64  \n",
      " 36  Expiration             1339 non-null   object \n",
      " 37  Certification.Body     1339 non-null   object \n",
      " 38  Certification.Address  1339 non-null   object \n",
      " 39  Certification.Contact  1339 non-null   object \n",
      " 40  unit_of_measurement    1339 non-null   object \n",
      " 41  altitude_low_meters    1109 non-null   float64\n",
      " 42  altitude_high_meters   1109 non-null   float64\n",
      " 43  altitude_mean_meters   1109 non-null   float64\n",
      "dtypes: float64(16), int64(4), object(24)\n",
      "memory usage: 460.4+ KB\n"
     ]
    }
   ],
   "source": [
    "df_coffee.info()"
   ]
  },
  {
   "attachments": {},
   "cell_type": "markdown",
   "metadata": {},
   "source": [
    "<h2 style=\"text-align: center;\">ANALIZANDO EL DATASET</h2>"
   ]
  },
  {
   "attachments": {},
   "cell_type": "markdown",
   "metadata": {},
   "source": [
    "El dataset consta de 1339 filas por 44 columnas y contiene la información relativa a diferentes variedades de café de tipo Arabica y Robusta calificadas por personal del CQI (Coffee Quality Institute).\n",
    "\n",
    "La información se divide en:\n",
    "\n",
    "Calidad de café (Cupping Score)\n",
    "- Aroma\n",
    "- Flavor\n",
    "- Aftertaste\n",
    "- Acidity\n",
    "- Body\n",
    "- Balance\n",
    "- Uniformity\n",
    "- Clean Cup\n",
    "- Sweetness\n",
    "\n",
    "\n",
    "Semilla (Bean)\n",
    "- Species (arabica / robusta)\n",
    "- Variety\n",
    "- Processing Method\n",
    "- Moisture\n",
    "- Color\n",
    "- Category.One.Defects\n",
    "- Category.Two.Defects\n",
    "- Quakers\n",
    "- Expiration\n",
    "\n",
    "\n",
    "Plantación (Farm)\n",
    "- Country.of.Origin\n",
    "- Harvest.Year\n",
    "- Farm.Name\n",
    "- Mill\n",
    "- Owner\n",
    "- Company\n",
    "- Altitude + unit_of_measurement\n",
    "- Region\n",
    "\n",
    "\n",
    "\n",
    "La columna \"Total Cup Points\" será nuestro medidor de calidad, siendo mejor el café cuanto más alta sea esta puntuación.\n",
    "\n",
    "Realizaremos un análisis univariante y multivariante de las información de la calidad y de la semilla junto con el país de origen, región, año de cosecha y altitud de la plantación con el objetivo final de encontrar un algoritmo que permita predecir qué café tendrá una mejor puntuación en función de todas sus características.\n",
    "\n",
    "Para la información de la altitud, nos quedaremos con la columna \"Altitude\" y \"altitude_mean_meters\" que representa la media entre el valor máximo y mínimo de la altitud a la que se cultiva esa variedad de café en esa plantación. Además, necesitamos la columna \"unit_of_measurement\" para saber si la medida está en metros o pies."
   ]
  },
  {
   "attachments": {},
   "cell_type": "markdown",
   "metadata": {},
   "source": [
    "<h2 style=\"text-align: center;\">LIMPIEZA DEL DATASET</h2>"
   ]
  },
  {
   "attachments": {},
   "cell_type": "markdown",
   "metadata": {},
   "source": [
    "Borramos las columnas que no nos serán necesarias para la realización del análisis."
   ]
  },
  {
   "cell_type": "code",
   "execution_count": 8,
   "metadata": {},
   "outputs": [],
   "source": [
    "df = df_coffee.drop(columns=[\"Unnamed: 0\", \"Lot.Number\", \"ICO.Number\", \"Producer\", \"Number.of.Bags\",\n",
    "                             \"Bag.Weight\", \"In.Country.Partner\", \"Grading.Date\", \"Cupper.Points\",\n",
    "                             \"Certification.Body\", \"Certification.Address\", \"Certification.Contact\",\n",
    "                             \"altitude_low_meters\", \"altitude_high_meters\", \"Owner.1\", \"Farm.Name\",\n",
    "                             \"Mill\", \"Company\", \"Owner\"])"
   ]
  },
  {
   "attachments": {},
   "cell_type": "markdown",
   "metadata": {},
   "source": [
    "<h3 style=\"text-align: center;\">Chequeo de duplicados</h3>"
   ]
  },
  {
   "cell_type": "code",
   "execution_count": 9,
   "metadata": {},
   "outputs": [
    {
     "data": {
      "text/plain": [
       "0"
      ]
     },
     "execution_count": 9,
     "metadata": {},
     "output_type": "execute_result"
    }
   ],
   "source": [
    "# Cantidad de duplicados\n",
    "df.duplicated().sum()"
   ]
  },
  {
   "attachments": {},
   "cell_type": "markdown",
   "metadata": {},
   "source": [
    "No hay registros duplicados."
   ]
  },
  {
   "attachments": {},
   "cell_type": "markdown",
   "metadata": {},
   "source": [
    "<h3 style=\"text-align: center;\">Chequeo de valores nulos</h3>"
   ]
  },
  {
   "cell_type": "code",
   "execution_count": 10,
   "metadata": {},
   "outputs": [
    {
     "data": {
      "text/plain": [
       "Color                   270\n",
       "altitude_mean_meters    230\n",
       "Altitude                226\n",
       "Variety                 226\n",
       "Processing.Method       170\n",
       "Region                   59\n",
       "Harvest.Year             47\n",
       "Country.of.Origin         1\n",
       "Quakers                   1\n",
       "dtype: int64"
      ]
     },
     "execution_count": 10,
     "metadata": {},
     "output_type": "execute_result"
    }
   ],
   "source": [
    "# Null / Missing values\n",
    "df[df.columns[df.isnull().any()]].isnull().sum().sort_values(ascending=False)"
   ]
  },
  {
   "attachments": {},
   "cell_type": "markdown",
   "metadata": {},
   "source": [
    "Hay bastante cantidad de valores nulos. Vamos a tratar de reducirlos todo lo posible."
   ]
  },
  {
   "attachments": {},
   "cell_type": "markdown",
   "metadata": {},
   "source": [
    "<h4 style=\"text-align: center;\"><ins>1 - Nulos en Region</ins></h4>"
   ]
  },
  {
   "attachments": {},
   "cell_type": "markdown",
   "metadata": {},
   "source": [
    "Saber la región en la que se cultiva un café puede ser importante para sus características."
   ]
  },
  {
   "attachments": {},
   "cell_type": "markdown",
   "metadata": {},
   "source": [
    "Comprobamos si podemos inferir a qué región pertenece un café en función de su país de origen y la altitud media a la que se encuentra la plantación. La idea es que si uno de los registros nulos comparte altura y pais de origen con otro que que tenga un valor, supondremos que se trata de la misma región."
   ]
  },
  {
   "cell_type": "code",
   "execution_count": 11,
   "metadata": {},
   "outputs": [
    {
     "data": {
      "text/html": [
       "<div>\n",
       "<style scoped>\n",
       "    .dataframe tbody tr th:only-of-type {\n",
       "        vertical-align: middle;\n",
       "    }\n",
       "\n",
       "    .dataframe tbody tr th {\n",
       "        vertical-align: top;\n",
       "    }\n",
       "\n",
       "    .dataframe thead th {\n",
       "        text-align: right;\n",
       "    }\n",
       "</style>\n",
       "<table border=\"1\" class=\"dataframe\">\n",
       "  <thead>\n",
       "    <tr style=\"text-align: right;\">\n",
       "      <th></th>\n",
       "      <th>Country.of.Origin</th>\n",
       "      <th>Region</th>\n",
       "      <th>altitude_mean_meters</th>\n",
       "    </tr>\n",
       "  </thead>\n",
       "  <tbody>\n",
       "    <tr>\n",
       "      <th>2</th>\n",
       "      <td>Guatemala</td>\n",
       "      <td>NaN</td>\n",
       "      <td>1700.0</td>\n",
       "    </tr>\n",
       "    <tr>\n",
       "      <th>5</th>\n",
       "      <td>Brazil</td>\n",
       "      <td>NaN</td>\n",
       "      <td>NaN</td>\n",
       "    </tr>\n",
       "    <tr>\n",
       "      <th>6</th>\n",
       "      <td>Peru</td>\n",
       "      <td>NaN</td>\n",
       "      <td>NaN</td>\n",
       "    </tr>\n",
       "    <tr>\n",
       "      <th>30</th>\n",
       "      <td>Nicaragua</td>\n",
       "      <td>NaN</td>\n",
       "      <td>NaN</td>\n",
       "    </tr>\n",
       "    <tr>\n",
       "      <th>31</th>\n",
       "      <td>Tanzania, United Republic Of</td>\n",
       "      <td>NaN</td>\n",
       "      <td>NaN</td>\n",
       "    </tr>\n",
       "    <tr>\n",
       "      <th>100</th>\n",
       "      <td>Kenya</td>\n",
       "      <td>NaN</td>\n",
       "      <td>1.0</td>\n",
       "    </tr>\n",
       "    <tr>\n",
       "      <th>114</th>\n",
       "      <td>Kenya</td>\n",
       "      <td>NaN</td>\n",
       "      <td>NaN</td>\n",
       "    </tr>\n",
       "    <tr>\n",
       "      <th>134</th>\n",
       "      <td>Costa Rica</td>\n",
       "      <td>NaN</td>\n",
       "      <td>NaN</td>\n",
       "    </tr>\n",
       "    <tr>\n",
       "      <th>152</th>\n",
       "      <td>Kenya</td>\n",
       "      <td>NaN</td>\n",
       "      <td>NaN</td>\n",
       "    </tr>\n",
       "    <tr>\n",
       "      <th>223</th>\n",
       "      <td>Guatemala</td>\n",
       "      <td>NaN</td>\n",
       "      <td>NaN</td>\n",
       "    </tr>\n",
       "    <tr>\n",
       "      <th>240</th>\n",
       "      <td>Costa Rica</td>\n",
       "      <td>NaN</td>\n",
       "      <td>NaN</td>\n",
       "    </tr>\n",
       "    <tr>\n",
       "      <th>257</th>\n",
       "      <td>Thailand</td>\n",
       "      <td>NaN</td>\n",
       "      <td>NaN</td>\n",
       "    </tr>\n",
       "    <tr>\n",
       "      <th>293</th>\n",
       "      <td>Thailand</td>\n",
       "      <td>NaN</td>\n",
       "      <td>NaN</td>\n",
       "    </tr>\n",
       "    <tr>\n",
       "      <th>334</th>\n",
       "      <td>United States (Hawaii)</td>\n",
       "      <td>NaN</td>\n",
       "      <td>NaN</td>\n",
       "    </tr>\n",
       "    <tr>\n",
       "      <th>352</th>\n",
       "      <td>Taiwan</td>\n",
       "      <td>NaN</td>\n",
       "      <td>NaN</td>\n",
       "    </tr>\n",
       "    <tr>\n",
       "      <th>373</th>\n",
       "      <td>United States (Hawaii)</td>\n",
       "      <td>NaN</td>\n",
       "      <td>NaN</td>\n",
       "    </tr>\n",
       "    <tr>\n",
       "      <th>379</th>\n",
       "      <td>Taiwan</td>\n",
       "      <td>NaN</td>\n",
       "      <td>NaN</td>\n",
       "    </tr>\n",
       "    <tr>\n",
       "      <th>394</th>\n",
       "      <td>Thailand</td>\n",
       "      <td>NaN</td>\n",
       "      <td>NaN</td>\n",
       "    </tr>\n",
       "    <tr>\n",
       "      <th>407</th>\n",
       "      <td>Peru</td>\n",
       "      <td>NaN</td>\n",
       "      <td>NaN</td>\n",
       "    </tr>\n",
       "    <tr>\n",
       "      <th>415</th>\n",
       "      <td>United States (Hawaii)</td>\n",
       "      <td>NaN</td>\n",
       "      <td>NaN</td>\n",
       "    </tr>\n",
       "    <tr>\n",
       "      <th>443</th>\n",
       "      <td>Peru</td>\n",
       "      <td>NaN</td>\n",
       "      <td>NaN</td>\n",
       "    </tr>\n",
       "    <tr>\n",
       "      <th>457</th>\n",
       "      <td>Colombia</td>\n",
       "      <td>NaN</td>\n",
       "      <td>NaN</td>\n",
       "    </tr>\n",
       "    <tr>\n",
       "      <th>495</th>\n",
       "      <td>Guatemala</td>\n",
       "      <td>NaN</td>\n",
       "      <td>NaN</td>\n",
       "    </tr>\n",
       "    <tr>\n",
       "      <th>521</th>\n",
       "      <td>Colombia</td>\n",
       "      <td>NaN</td>\n",
       "      <td>NaN</td>\n",
       "    </tr>\n",
       "    <tr>\n",
       "      <th>526</th>\n",
       "      <td>Thailand</td>\n",
       "      <td>NaN</td>\n",
       "      <td>NaN</td>\n",
       "    </tr>\n",
       "    <tr>\n",
       "      <th>528</th>\n",
       "      <td>United States (Hawaii)</td>\n",
       "      <td>NaN</td>\n",
       "      <td>NaN</td>\n",
       "    </tr>\n",
       "    <tr>\n",
       "      <th>529</th>\n",
       "      <td>United States (Hawaii)</td>\n",
       "      <td>NaN</td>\n",
       "      <td>NaN</td>\n",
       "    </tr>\n",
       "    <tr>\n",
       "      <th>532</th>\n",
       "      <td>Thailand</td>\n",
       "      <td>NaN</td>\n",
       "      <td>NaN</td>\n",
       "    </tr>\n",
       "    <tr>\n",
       "      <th>548</th>\n",
       "      <td>Guatemala</td>\n",
       "      <td>NaN</td>\n",
       "      <td>NaN</td>\n",
       "    </tr>\n",
       "    <tr>\n",
       "      <th>558</th>\n",
       "      <td>Thailand</td>\n",
       "      <td>NaN</td>\n",
       "      <td>NaN</td>\n",
       "    </tr>\n",
       "    <tr>\n",
       "      <th>623</th>\n",
       "      <td>El Salvador</td>\n",
       "      <td>NaN</td>\n",
       "      <td>NaN</td>\n",
       "    </tr>\n",
       "    <tr>\n",
       "      <th>626</th>\n",
       "      <td>Mexico</td>\n",
       "      <td>NaN</td>\n",
       "      <td>1100.0</td>\n",
       "    </tr>\n",
       "    <tr>\n",
       "      <th>632</th>\n",
       "      <td>Colombia</td>\n",
       "      <td>NaN</td>\n",
       "      <td>NaN</td>\n",
       "    </tr>\n",
       "    <tr>\n",
       "      <th>645</th>\n",
       "      <td>Guatemala</td>\n",
       "      <td>NaN</td>\n",
       "      <td>NaN</td>\n",
       "    </tr>\n",
       "    <tr>\n",
       "      <th>690</th>\n",
       "      <td>Honduras</td>\n",
       "      <td>NaN</td>\n",
       "      <td>NaN</td>\n",
       "    </tr>\n",
       "    <tr>\n",
       "      <th>735</th>\n",
       "      <td>Taiwan</td>\n",
       "      <td>NaN</td>\n",
       "      <td>NaN</td>\n",
       "    </tr>\n",
       "    <tr>\n",
       "      <th>749</th>\n",
       "      <td>El Salvador</td>\n",
       "      <td>NaN</td>\n",
       "      <td>NaN</td>\n",
       "    </tr>\n",
       "    <tr>\n",
       "      <th>754</th>\n",
       "      <td>Brazil</td>\n",
       "      <td>NaN</td>\n",
       "      <td>NaN</td>\n",
       "    </tr>\n",
       "    <tr>\n",
       "      <th>784</th>\n",
       "      <td>Colombia</td>\n",
       "      <td>NaN</td>\n",
       "      <td>NaN</td>\n",
       "    </tr>\n",
       "    <tr>\n",
       "      <th>822</th>\n",
       "      <td>Nicaragua</td>\n",
       "      <td>NaN</td>\n",
       "      <td>NaN</td>\n",
       "    </tr>\n",
       "    <tr>\n",
       "      <th>824</th>\n",
       "      <td>Honduras</td>\n",
       "      <td>NaN</td>\n",
       "      <td>NaN</td>\n",
       "    </tr>\n",
       "    <tr>\n",
       "      <th>862</th>\n",
       "      <td>Brazil</td>\n",
       "      <td>NaN</td>\n",
       "      <td>NaN</td>\n",
       "    </tr>\n",
       "    <tr>\n",
       "      <th>908</th>\n",
       "      <td>Thailand</td>\n",
       "      <td>NaN</td>\n",
       "      <td>NaN</td>\n",
       "    </tr>\n",
       "    <tr>\n",
       "      <th>997</th>\n",
       "      <td>United States (Hawaii)</td>\n",
       "      <td>NaN</td>\n",
       "      <td>NaN</td>\n",
       "    </tr>\n",
       "    <tr>\n",
       "      <th>1029</th>\n",
       "      <td>Thailand</td>\n",
       "      <td>NaN</td>\n",
       "      <td>NaN</td>\n",
       "    </tr>\n",
       "    <tr>\n",
       "      <th>1059</th>\n",
       "      <td>Colombia</td>\n",
       "      <td>NaN</td>\n",
       "      <td>NaN</td>\n",
       "    </tr>\n",
       "    <tr>\n",
       "      <th>1066</th>\n",
       "      <td>United States (Hawaii)</td>\n",
       "      <td>NaN</td>\n",
       "      <td>NaN</td>\n",
       "    </tr>\n",
       "    <tr>\n",
       "      <th>1067</th>\n",
       "      <td>Colombia</td>\n",
       "      <td>NaN</td>\n",
       "      <td>NaN</td>\n",
       "    </tr>\n",
       "    <tr>\n",
       "      <th>1101</th>\n",
       "      <td>Colombia</td>\n",
       "      <td>NaN</td>\n",
       "      <td>NaN</td>\n",
       "    </tr>\n",
       "    <tr>\n",
       "      <th>1116</th>\n",
       "      <td>Nicaragua</td>\n",
       "      <td>NaN</td>\n",
       "      <td>NaN</td>\n",
       "    </tr>\n",
       "    <tr>\n",
       "      <th>1164</th>\n",
       "      <td>Thailand</td>\n",
       "      <td>NaN</td>\n",
       "      <td>NaN</td>\n",
       "    </tr>\n",
       "    <tr>\n",
       "      <th>1215</th>\n",
       "      <td>Nicaragua</td>\n",
       "      <td>NaN</td>\n",
       "      <td>NaN</td>\n",
       "    </tr>\n",
       "    <tr>\n",
       "      <th>1242</th>\n",
       "      <td>Colombia</td>\n",
       "      <td>NaN</td>\n",
       "      <td>NaN</td>\n",
       "    </tr>\n",
       "    <tr>\n",
       "      <th>1247</th>\n",
       "      <td>Brazil</td>\n",
       "      <td>NaN</td>\n",
       "      <td>NaN</td>\n",
       "    </tr>\n",
       "    <tr>\n",
       "      <th>1278</th>\n",
       "      <td>Mexico</td>\n",
       "      <td>NaN</td>\n",
       "      <td>1100.0</td>\n",
       "    </tr>\n",
       "    <tr>\n",
       "      <th>1295</th>\n",
       "      <td>Colombia</td>\n",
       "      <td>NaN</td>\n",
       "      <td>NaN</td>\n",
       "    </tr>\n",
       "    <tr>\n",
       "      <th>1337</th>\n",
       "      <td>India</td>\n",
       "      <td>NaN</td>\n",
       "      <td>NaN</td>\n",
       "    </tr>\n",
       "    <tr>\n",
       "      <th>1338</th>\n",
       "      <td>Vietnam</td>\n",
       "      <td>NaN</td>\n",
       "      <td>NaN</td>\n",
       "    </tr>\n",
       "  </tbody>\n",
       "</table>\n",
       "</div>"
      ],
      "text/plain": [
       "                 Country.of.Origin Region  altitude_mean_meters\n",
       "2                        Guatemala    NaN                1700.0\n",
       "5                           Brazil    NaN                   NaN\n",
       "6                             Peru    NaN                   NaN\n",
       "30                       Nicaragua    NaN                   NaN\n",
       "31    Tanzania, United Republic Of    NaN                   NaN\n",
       "100                          Kenya    NaN                   1.0\n",
       "114                          Kenya    NaN                   NaN\n",
       "134                     Costa Rica    NaN                   NaN\n",
       "152                          Kenya    NaN                   NaN\n",
       "223                      Guatemala    NaN                   NaN\n",
       "240                     Costa Rica    NaN                   NaN\n",
       "257                       Thailand    NaN                   NaN\n",
       "293                       Thailand    NaN                   NaN\n",
       "334         United States (Hawaii)    NaN                   NaN\n",
       "352                         Taiwan    NaN                   NaN\n",
       "373         United States (Hawaii)    NaN                   NaN\n",
       "379                         Taiwan    NaN                   NaN\n",
       "394                       Thailand    NaN                   NaN\n",
       "407                           Peru    NaN                   NaN\n",
       "415         United States (Hawaii)    NaN                   NaN\n",
       "443                           Peru    NaN                   NaN\n",
       "457                       Colombia    NaN                   NaN\n",
       "495                      Guatemala    NaN                   NaN\n",
       "521                       Colombia    NaN                   NaN\n",
       "526                       Thailand    NaN                   NaN\n",
       "528         United States (Hawaii)    NaN                   NaN\n",
       "529         United States (Hawaii)    NaN                   NaN\n",
       "532                       Thailand    NaN                   NaN\n",
       "548                      Guatemala    NaN                   NaN\n",
       "558                       Thailand    NaN                   NaN\n",
       "623                    El Salvador    NaN                   NaN\n",
       "626                         Mexico    NaN                1100.0\n",
       "632                       Colombia    NaN                   NaN\n",
       "645                      Guatemala    NaN                   NaN\n",
       "690                       Honduras    NaN                   NaN\n",
       "735                         Taiwan    NaN                   NaN\n",
       "749                    El Salvador    NaN                   NaN\n",
       "754                         Brazil    NaN                   NaN\n",
       "784                       Colombia    NaN                   NaN\n",
       "822                      Nicaragua    NaN                   NaN\n",
       "824                       Honduras    NaN                   NaN\n",
       "862                         Brazil    NaN                   NaN\n",
       "908                       Thailand    NaN                   NaN\n",
       "997         United States (Hawaii)    NaN                   NaN\n",
       "1029                      Thailand    NaN                   NaN\n",
       "1059                      Colombia    NaN                   NaN\n",
       "1066        United States (Hawaii)    NaN                   NaN\n",
       "1067                      Colombia    NaN                   NaN\n",
       "1101                      Colombia    NaN                   NaN\n",
       "1116                     Nicaragua    NaN                   NaN\n",
       "1164                      Thailand    NaN                   NaN\n",
       "1215                     Nicaragua    NaN                   NaN\n",
       "1242                      Colombia    NaN                   NaN\n",
       "1247                        Brazil    NaN                   NaN\n",
       "1278                        Mexico    NaN                1100.0\n",
       "1295                      Colombia    NaN                   NaN\n",
       "1337                         India    NaN                   NaN\n",
       "1338                       Vietnam    NaN                   NaN"
      ]
     },
     "execution_count": 11,
     "metadata": {},
     "output_type": "execute_result"
    }
   ],
   "source": [
    "df.loc[(df[\"Region\"].isnull()) & (df[\"Country.of.Origin\"].notnull()), [\"Country.of.Origin\", \"Region\", 'altitude_mean_meters']]"
   ]
  },
  {
   "attachments": {},
   "cell_type": "markdown",
   "metadata": {},
   "source": [
    "La práctica totalidad de los registros con valor nulo en el campo de Región también presenta valor nulo para su altura media, con lo que es imposible imputar valores y por tanto decidimos eliminar estos registros."
   ]
  },
  {
   "cell_type": "code",
   "execution_count": 12,
   "metadata": {},
   "outputs": [],
   "source": [
    "df = df[df[\"Region\"].notna()]"
   ]
  },
  {
   "attachments": {},
   "cell_type": "markdown",
   "metadata": {},
   "source": [
    "<h4 style=\"text-align: center;\"><ins>2 - Nulos en altitud</ins></h4>\n",
    "\n",
    "\n",
    "Uno de los valores que hemos considerado importante en el análisis es la altitud a la que se cultiva el café, por lo que es el primer dato que vamos a analizar "
   ]
  },
  {
   "attachments": {},
   "cell_type": "markdown",
   "metadata": {},
   "source": [
    "1 - Comprobamos los valores de la columna \"Altitud\" que no son nulos junto con los de altitud media para tratar de imputar algún valor a esta última columna."
   ]
  },
  {
   "cell_type": "code",
   "execution_count": 13,
   "metadata": {},
   "outputs": [
    {
     "data": {
      "text/html": [
       "<div>\n",
       "<style scoped>\n",
       "    .dataframe tbody tr th:only-of-type {\n",
       "        vertical-align: middle;\n",
       "    }\n",
       "\n",
       "    .dataframe tbody tr th {\n",
       "        vertical-align: top;\n",
       "    }\n",
       "\n",
       "    .dataframe thead th {\n",
       "        text-align: right;\n",
       "    }\n",
       "</style>\n",
       "<table border=\"1\" class=\"dataframe\">\n",
       "  <thead>\n",
       "    <tr style=\"text-align: right;\">\n",
       "      <th></th>\n",
       "      <th>Altitude</th>\n",
       "      <th>altitude_mean_meters</th>\n",
       "    </tr>\n",
       "  </thead>\n",
       "  <tbody>\n",
       "    <tr>\n",
       "      <th>169</th>\n",
       "      <td>mmm</td>\n",
       "      <td>NaN</td>\n",
       "    </tr>\n",
       "    <tr>\n",
       "      <th>170</th>\n",
       "      <td>test</td>\n",
       "      <td>NaN</td>\n",
       "    </tr>\n",
       "    <tr>\n",
       "      <th>687</th>\n",
       "      <td>huanuco</td>\n",
       "      <td>NaN</td>\n",
       "    </tr>\n",
       "    <tr>\n",
       "      <th>986</th>\n",
       "      <td>0</td>\n",
       "      <td>NaN</td>\n",
       "    </tr>\n",
       "  </tbody>\n",
       "</table>\n",
       "</div>"
      ],
      "text/plain": [
       "    Altitude  altitude_mean_meters\n",
       "169      mmm                   NaN\n",
       "170     test                   NaN\n",
       "687  huanuco                   NaN\n",
       "986        0                   NaN"
      ]
     },
     "execution_count": 13,
     "metadata": {},
     "output_type": "execute_result"
    }
   ],
   "source": [
    "df.loc[(df[\"altitude_mean_meters\"].isnull()) & df[\"Altitude\"].notnull(), [\"Altitude\", \"altitude_mean_meters\"]]"
   ]
  },
  {
   "attachments": {},
   "cell_type": "markdown",
   "metadata": {},
   "source": [
    "Con esos valores no podemos realizar ningún cálculo.\n",
    "\n",
    "2 - Imputaremos los valores de altitud correspondientes a la media de la región a la que pertenecen."
   ]
  },
  {
   "cell_type": "code",
   "execution_count": 14,
   "metadata": {},
   "outputs": [
    {
     "name": "stdout",
     "output_type": "stream",
     "text": [
      "Quedan 22 valores nulos en la columna.\n"
     ]
    }
   ],
   "source": [
    "df[\"altitude_mean_meters\"].fillna(df.groupby(['Region'])['altitude_mean_meters'].transform('mean'), inplace=True)\n",
    "print(\"Quedan {} valores nulos en la columna.\". format(df[\"altitude_mean_meters\"].isnull().sum()))"
   ]
  },
  {
   "attachments": {},
   "cell_type": "markdown",
   "metadata": {},
   "source": [
    "3 - Dado que aún quedan valores nulos, vamos a repetir el proceso pero imputando la moda de la altura con respecto al país. Decidimos no usar la media porque puede ocurrir que en un mismo país haya grandes diferencias en la altura en que sitúan las plantaciones y sería un valor que no coincide con los ya existentes."
   ]
  },
  {
   "cell_type": "code",
   "execution_count": 15,
   "metadata": {},
   "outputs": [
    {
     "name": "stdout",
     "output_type": "stream",
     "text": [
      "Quedan 0 valores nulos en la columna.\n"
     ]
    }
   ],
   "source": [
    "df[\"altitude_mean_meters\"].fillna(df.groupby(['Country.of.Origin'])['altitude_mean_meters'].transform(lambda x: x.mode()[0]), inplace=True)\n",
    "print(\"Quedan {} valores nulos en la columna.\". format(df[\"altitude_mean_meters\"].isnull().sum()))"
   ]
  },
  {
   "attachments": {},
   "cell_type": "markdown",
   "metadata": {},
   "source": [
    "Hemos quitado todos los valores nulos de la altitud media, por lo que la columna Altitude se hace innecesaria en el conjunto de datos y procedemos a eliminarla."
   ]
  },
  {
   "cell_type": "code",
   "execution_count": 16,
   "metadata": {},
   "outputs": [],
   "source": [
    "df = df.drop(columns=[\"Altitude\"])"
   ]
  },
  {
   "attachments": {},
   "cell_type": "markdown",
   "metadata": {},
   "source": [
    "<h4 style=\"text-align: center;\"><ins>3 - Nulos en variedad</ins></h4>"
   ]
  },
  {
   "attachments": {},
   "cell_type": "markdown",
   "metadata": {},
   "source": [
    "Antes de estudiar los registros nulos comprobamos los diferentes tipos de variedad que hay en la tabla"
   ]
  },
  {
   "cell_type": "code",
   "execution_count": 17,
   "metadata": {},
   "outputs": [
    {
     "data": {
      "text/plain": [
       "array([nan, 'Other', 'Catimor', 'Ethiopian Yirgacheffe', 'Caturra',\n",
       "       'Bourbon', 'SL14', 'Sumatra', 'SL34', 'Hawaiian Kona',\n",
       "       'Yellow Bourbon', 'SL28', 'Gesha', 'Catuai', 'Pacamara', 'Typica',\n",
       "       'Sumatra Lintong', 'Mundo Novo', 'Java', 'Peaberry', 'Pacas',\n",
       "       'Mandheling', 'Ruiru 11', 'Ethiopian Heirlooms', 'Moka Peaberry',\n",
       "       'Arusha', 'Sulawesi', 'Blue Mountain', 'Marigojipe', 'Pache Comun'],\n",
       "      dtype=object)"
      ]
     },
     "execution_count": 17,
     "metadata": {},
     "output_type": "execute_result"
    }
   ],
   "source": [
    "df[\"Variety\"].unique()"
   ]
  },
  {
   "attachments": {},
   "cell_type": "markdown",
   "metadata": {},
   "source": [
    "Dado que ya existe un valor genérico establecido como \"Other\" decidimos imputarles a todos los nulos ese valor genérico."
   ]
  },
  {
   "cell_type": "code",
   "execution_count": 18,
   "metadata": {},
   "outputs": [
    {
     "name": "stdout",
     "output_type": "stream",
     "text": [
      "Quedan 0 valores nulos en la columna.\n"
     ]
    }
   ],
   "source": [
    "df[\"Variety\"].fillna(\"Other\", inplace = True)\n",
    "print(\"Quedan {} valores nulos en la columna.\". format(df[\"Variety\"].isnull().sum()))"
   ]
  },
  {
   "attachments": {},
   "cell_type": "markdown",
   "metadata": {},
   "source": [
    "<h4 style=\"text-align: center;\"><ins>4 - Nulos en Color</ins></h3>"
   ]
  },
  {
   "attachments": {},
   "cell_type": "markdown",
   "metadata": {},
   "source": [
    "Antes de estudiar los valores nulos, comprobamos los diferentes colores presentes en el dataset"
   ]
  },
  {
   "cell_type": "code",
   "execution_count": 19,
   "metadata": {},
   "outputs": [
    {
     "data": {
      "text/plain": [
       "array(['Green', nan, 'Bluish-Green', 'Blue-Green'], dtype=object)"
      ]
     },
     "execution_count": 19,
     "metadata": {},
     "output_type": "execute_result"
    }
   ],
   "source": [
    "df[\"Color\"].unique()"
   ]
  },
  {
   "attachments": {},
   "cell_type": "markdown",
   "metadata": {},
   "source": [
    "El color de las semillas de café, antes del tostado, suele depender de la región en la que se hayan cultivado, por lo que en una primera fase imputaremos a los valores nulos el color más habitual en la región en la que son cultivados."
   ]
  },
  {
   "cell_type": "code",
   "execution_count": 20,
   "metadata": {},
   "outputs": [
    {
     "name": "stderr",
     "output_type": "stream",
     "text": [
      "C:\\Users\\Sistemas\\AppData\\Local\\Temp\\ipykernel_21092\\1264843671.py:1: UserWarning: Unable to sort modes: '<' not supported between instances of 'str' and 'float'\n",
      "  df[\"Color\"].fillna(df.groupby([\"Region\"])[\"Color\"].transform(lambda x: x.mode(dropna=False)[0]), inplace = True)\n",
      "C:\\Users\\Sistemas\\AppData\\Local\\Temp\\ipykernel_21092\\1264843671.py:1: UserWarning: Unable to sort modes: '<' not supported between instances of 'float' and 'str'\n",
      "  df[\"Color\"].fillna(df.groupby([\"Region\"])[\"Color\"].transform(lambda x: x.mode(dropna=False)[0]), inplace = True)\n"
     ]
    },
    {
     "name": "stdout",
     "output_type": "stream",
     "text": [
      "Quedan 157 valores nulos en la columna.\n"
     ]
    }
   ],
   "source": [
    "df[\"Color\"].fillna(df.groupby([\"Region\"])[\"Color\"].transform(lambda x: x.mode(dropna=False)[0]), inplace = True)\n",
    "print(\"Quedan {} valores nulos en la columna.\". format(df[\"Color\"].isnull().sum()))"
   ]
  },
  {
   "attachments": {},
   "cell_type": "markdown",
   "metadata": {},
   "source": [
    "La imputación al color habitual de la región no ha sido de gran ayuda, por lo que repetiremos el proceso pero con la moda del color del país."
   ]
  },
  {
   "cell_type": "code",
   "execution_count": 21,
   "metadata": {},
   "outputs": [
    {
     "name": "stdout",
     "output_type": "stream",
     "text": [
      "Quedan 62 valores nulos en la columna.\n"
     ]
    },
    {
     "name": "stderr",
     "output_type": "stream",
     "text": [
      "C:\\Users\\Sistemas\\AppData\\Local\\Temp\\ipykernel_21092\\180732704.py:1: UserWarning: Unable to sort modes: '<' not supported between instances of 'str' and 'float'\n",
      "  df[\"Color\"].fillna(df.groupby(['Country.of.Origin'])['Color'].transform(lambda x: x.mode(dropna=False)[0]), inplace = True)\n"
     ]
    }
   ],
   "source": [
    "df[\"Color\"].fillna(df.groupby(['Country.of.Origin'])['Color'].transform(lambda x: x.mode(dropna=False)[0]), inplace = True)\n",
    "print(\"Quedan {} valores nulos en la columna.\". format(df[\"Color\"].isnull().sum()))"
   ]
  },
  {
   "attachments": {},
   "cell_type": "markdown",
   "metadata": {},
   "source": [
    "Dado que aún nos restan valores nulos y que existe una categoría que es \"None\" imputaremos a ese valor todos los nulos restantes"
   ]
  },
  {
   "cell_type": "code",
   "execution_count": 22,
   "metadata": {},
   "outputs": [
    {
     "name": "stdout",
     "output_type": "stream",
     "text": [
      "Quedan 0 valores nulos en la columna.\n"
     ]
    }
   ],
   "source": [
    "df[\"Color\"].fillna(\"None\", inplace=True)\n",
    "print(\"Quedan {} valores nulos en la columna.\". format(df[\"Color\"].isnull().sum()))"
   ]
  },
  {
   "attachments": {},
   "cell_type": "markdown",
   "metadata": {},
   "source": [
    "<h4 style=\"text-align: center;\"><ins>5 - Nulos en Método de procesado</ins></h3>"
   ]
  },
  {
   "attachments": {},
   "cell_type": "markdown",
   "metadata": {},
   "source": [
    "Como anteriormente, vamos a comprobar los tipos de métodos de procesado existentes en el dataframe."
   ]
  },
  {
   "cell_type": "code",
   "execution_count": 23,
   "metadata": {},
   "outputs": [
    {
     "data": {
      "text/plain": [
       "array(['Washed / Wet', 'Natural / Dry', nan, 'Pulped natural / honey',\n",
       "       'Semi-washed / Semi-pulped', 'Other'], dtype=object)"
      ]
     },
     "execution_count": 23,
     "metadata": {},
     "output_type": "execute_result"
    }
   ],
   "source": [
    "df[\"Processing.Method\"].unique()"
   ]
  },
  {
   "attachments": {},
   "cell_type": "markdown",
   "metadata": {},
   "source": [
    "Dado que el método de procesado es difícil de imputar pues no tiene por qué seguir una lógica en función de la región o el país, vamos a imputar a todos los nulos el valor genérico \"Other\" que ya existe."
   ]
  },
  {
   "cell_type": "code",
   "execution_count": 24,
   "metadata": {},
   "outputs": [
    {
     "name": "stdout",
     "output_type": "stream",
     "text": [
      "Quedan 0 valores nulos en la columna.\n"
     ]
    }
   ],
   "source": [
    "df[\"Processing.Method\"].fillna(\"Other\", inplace=True)\n",
    "print(\"Quedan {} valores nulos en la columna.\". format(df[\"Processing.Method\"].isnull().sum()))"
   ]
  },
  {
   "attachments": {},
   "cell_type": "markdown",
   "metadata": {},
   "source": [
    "<h4 style=\"text-align: center;\"><ins>6 - Nulos en Año de cosecha</ins></h3>"
   ]
  },
  {
   "cell_type": "code",
   "execution_count": 25,
   "metadata": {},
   "outputs": [
    {
     "data": {
      "text/plain": [
       "array(['2014', 'March 2010', 'Sept 2009 - April 2010', 'May-August',\n",
       "       '2009/2010', '2015', '2012', '2013', '2011', '2016', '2015/2016',\n",
       "       '2010', 'Fall 2009', '2017', '2009 / 2010', '2010-2011', nan,\n",
       "       '2009 - 2010', '2013/2014', '2017 / 2018', 'mmm', 'TEST',\n",
       "       'December 2009-March 2010', '2014/2015', '2011/2012',\n",
       "       'January 2011', '4T/10', '23 July 2010', 'January Through April',\n",
       "       '1T/2011', '4t/2010', '4T/2010', 'August to December',\n",
       "       'Mayo a Julio', '47/2010', 'Abril - Julio', '4t/2011', '2009-2010',\n",
       "       'Abril - Julio /2011', 'Spring 2011 in Colombia.', '2016 / 2017',\n",
       "       '3T/2011', '1t/2011', '2018', '4T72010', '08/09 crop'],\n",
       "      dtype=object)"
      ]
     },
     "execution_count": 25,
     "metadata": {},
     "output_type": "execute_result"
    }
   ],
   "source": [
    "df[\"Harvest.Year\"].unique()"
   ]
  },
  {
   "attachments": {},
   "cell_type": "markdown",
   "metadata": {},
   "source": [
    "Viendo la cantidad de variabilidad que hay en la columna, decidimos extraer la última aparición de una cifra de 4 dígitos y tomarlos como el año de la cosecha. Almacenaremos el resultado en una nueva columna."
   ]
  },
  {
   "cell_type": "code",
   "execution_count": 26,
   "metadata": {},
   "outputs": [],
   "source": [
    "df[\"HarvestYear_Calc\"] = df[\"Harvest.Year\"].str.extract('(\\d{4})(?!.*\\d)')"
   ]
  },
  {
   "attachments": {},
   "cell_type": "markdown",
   "metadata": {},
   "source": [
    "Examinamos de nuevo los valores obtenidos tras la imputación."
   ]
  },
  {
   "cell_type": "code",
   "execution_count": 27,
   "metadata": {},
   "outputs": [
    {
     "data": {
      "text/plain": [
       "array(['2014', '2010', nan, '2015', '2012', '2013', '2011', '2016',\n",
       "       '2009', '2017', '2018'], dtype=object)"
      ]
     },
     "execution_count": 27,
     "metadata": {},
     "output_type": "execute_result"
    }
   ],
   "source": [
    "df[\"HarvestYear_Calc\"].unique()"
   ]
  },
  {
   "attachments": {},
   "cell_type": "markdown",
   "metadata": {},
   "source": [
    "Nos quedan valores nulos, a los que imputaremos el valor genérico \"unknown\", pues para tratarlos deberíamos ir uno por uno."
   ]
  },
  {
   "cell_type": "code",
   "execution_count": 28,
   "metadata": {},
   "outputs": [
    {
     "name": "stdout",
     "output_type": "stream",
     "text": [
      "Quedan 0 valores nulos en la columna.\n"
     ]
    }
   ],
   "source": [
    "df[\"HarvestYear_Calc\"].fillna(\"UNKNOWN\", inplace=True)\n",
    "print(\"Quedan {} valores nulos en la columna.\". format(df[\"HarvestYear_Calc\"].isnull().sum()))"
   ]
  },
  {
   "attachments": {},
   "cell_type": "markdown",
   "metadata": {},
   "source": [
    "Ya no es necesaria la columna original del año de cosecha, por lo que podemos eliminarla"
   ]
  },
  {
   "cell_type": "code",
   "execution_count": 29,
   "metadata": {},
   "outputs": [],
   "source": [
    "df.drop(columns=[\"Harvest.Year\"], inplace=True)"
   ]
  },
  {
   "attachments": {},
   "cell_type": "markdown",
   "metadata": {},
   "source": [
    "<h4 style=\"text-align: center;\"><ins>7 - Nulos en Quakers</ins></h3>"
   ]
  },
  {
   "attachments": {},
   "cell_type": "markdown",
   "metadata": {},
   "source": [
    "Los \"Quakers\" son aquéllas semillas de café que, por no estar maduras y por tanto no tener suficientes azúcares, no se caramelizan con el tostado y si no se retiran pueden provocar un empeoramiento de la calidad del café.\n",
    "\n",
    "Esta columna indica el número de estas semillas encontradas en el saco de café."
   ]
  },
  {
   "cell_type": "code",
   "execution_count": 30,
   "metadata": {},
   "outputs": [
    {
     "data": {
      "text/html": [
       "<div>\n",
       "<style scoped>\n",
       "    .dataframe tbody tr th:only-of-type {\n",
       "        vertical-align: middle;\n",
       "    }\n",
       "\n",
       "    .dataframe tbody tr th {\n",
       "        vertical-align: top;\n",
       "    }\n",
       "\n",
       "    .dataframe thead th {\n",
       "        text-align: right;\n",
       "    }\n",
       "</style>\n",
       "<table border=\"1\" class=\"dataframe\">\n",
       "  <thead>\n",
       "    <tr style=\"text-align: right;\">\n",
       "      <th></th>\n",
       "      <th>Species</th>\n",
       "      <th>Country.of.Origin</th>\n",
       "      <th>Region</th>\n",
       "      <th>Variety</th>\n",
       "      <th>Processing.Method</th>\n",
       "      <th>Aroma</th>\n",
       "      <th>Flavor</th>\n",
       "      <th>Aftertaste</th>\n",
       "      <th>Acidity</th>\n",
       "      <th>Body</th>\n",
       "      <th>...</th>\n",
       "      <th>Total.Cup.Points</th>\n",
       "      <th>Moisture</th>\n",
       "      <th>Category.One.Defects</th>\n",
       "      <th>Quakers</th>\n",
       "      <th>Color</th>\n",
       "      <th>Category.Two.Defects</th>\n",
       "      <th>Expiration</th>\n",
       "      <th>unit_of_measurement</th>\n",
       "      <th>altitude_mean_meters</th>\n",
       "      <th>HarvestYear_Calc</th>\n",
       "    </tr>\n",
       "  </thead>\n",
       "  <tbody>\n",
       "    <tr>\n",
       "      <th>366</th>\n",
       "      <td>Arabica</td>\n",
       "      <td>Colombia</td>\n",
       "      <td>huila</td>\n",
       "      <td>Caturra</td>\n",
       "      <td>Washed / Wet</td>\n",
       "      <td>7.58</td>\n",
       "      <td>7.67</td>\n",
       "      <td>7.58</td>\n",
       "      <td>7.75</td>\n",
       "      <td>7.58</td>\n",
       "      <td>...</td>\n",
       "      <td>83.5</td>\n",
       "      <td>0.11</td>\n",
       "      <td>0</td>\n",
       "      <td>NaN</td>\n",
       "      <td>Green</td>\n",
       "      <td>2</td>\n",
       "      <td>May 24th, 2014</td>\n",
       "      <td>m</td>\n",
       "      <td>1750.0</td>\n",
       "      <td>2013</td>\n",
       "    </tr>\n",
       "  </tbody>\n",
       "</table>\n",
       "<p>1 rows × 24 columns</p>\n",
       "</div>"
      ],
      "text/plain": [
       "     Species Country.of.Origin Region  Variety Processing.Method  Aroma  \\\n",
       "366  Arabica          Colombia  huila  Caturra      Washed / Wet   7.58   \n",
       "\n",
       "     Flavor  Aftertaste  Acidity  Body  ...  Total.Cup.Points  Moisture  \\\n",
       "366    7.67        7.58     7.75  7.58  ...              83.5      0.11   \n",
       "\n",
       "     Category.One.Defects  Quakers  Color  Category.Two.Defects  \\\n",
       "366                     0      NaN  Green                     2   \n",
       "\n",
       "         Expiration  unit_of_measurement altitude_mean_meters  \\\n",
       "366  May 24th, 2014                    m               1750.0   \n",
       "\n",
       "     HarvestYear_Calc  \n",
       "366              2013  \n",
       "\n",
       "[1 rows x 24 columns]"
      ]
     },
     "execution_count": 30,
     "metadata": {},
     "output_type": "execute_result"
    }
   ],
   "source": [
    "df[df[\"Quakers\"].isnull()]"
   ]
  },
  {
   "attachments": {},
   "cell_type": "markdown",
   "metadata": {},
   "source": [
    "Como sólo tenemos un caso con un valor nulo y no podemos imputar ningún valor pues es una característica independiente a la región o al país, lo eliminaremos sin que afecte al desarrollo del análisis."
   ]
  },
  {
   "cell_type": "code",
   "execution_count": 31,
   "metadata": {},
   "outputs": [],
   "source": [
    "df = df[df[\"Quakers\"].notna()]"
   ]
  },
  {
   "attachments": {},
   "cell_type": "markdown",
   "metadata": {},
   "source": [
    "---"
   ]
  },
  {
   "attachments": {},
   "cell_type": "markdown",
   "metadata": {},
   "source": [
    "Volvemos a comprobar los valores nulos, para asegurar que no nos queda ninguno."
   ]
  },
  {
   "cell_type": "code",
   "execution_count": 32,
   "metadata": {},
   "outputs": [
    {
     "data": {
      "text/plain": [
       "Series([], dtype: float64)"
      ]
     },
     "execution_count": 32,
     "metadata": {},
     "output_type": "execute_result"
    }
   ],
   "source": [
    "# Null / Missing values\n",
    "df[df.columns[df.isnull().any()]].isnull().sum().sort_values(ascending=False)"
   ]
  },
  {
   "attachments": {},
   "cell_type": "markdown",
   "metadata": {},
   "source": []
  },
  {
   "attachments": {},
   "cell_type": "markdown",
   "metadata": {},
   "source": [
    "<h2 style=\"text-align: center;\">ANÁLISIS DE VARIABLES</h2>"
   ]
  },
  {
   "attachments": {},
   "cell_type": "markdown",
   "metadata": {},
   "source": [
    "<h4 style=\"text-align: center;\"><ins>1 - País de Origen</ins></h4>"
   ]
  },
  {
   "attachments": {},
   "cell_type": "markdown",
   "metadata": {},
   "source": [
    "Examinamos los valores únicos de la columna, por si fuera necesario realizar alguna codificación o traducción en sus valores."
   ]
  },
  {
   "cell_type": "code",
   "execution_count": 33,
   "metadata": {},
   "outputs": [
    {
     "data": {
      "text/plain": [
       "array(['Ethiopia', 'United States', 'United States (Hawaii)', 'Indonesia',\n",
       "       'China', 'Costa Rica', 'Mexico', 'Brazil', 'Uganda', 'Honduras',\n",
       "       'Taiwan', 'Kenya', 'Thailand', 'Colombia', 'Guatemala', 'Panama',\n",
       "       'Peru', 'Papua New Guinea', 'El Salvador',\n",
       "       'Tanzania, United Republic Of', 'Nicaragua', 'Japan', 'Ecuador',\n",
       "       'United States (Puerto Rico)', 'Haiti', 'Burundi', 'Vietnam',\n",
       "       'Philippines', 'Rwanda', 'Malawi', 'Laos', 'Zambia', 'Myanmar',\n",
       "       'Mauritius', 'Cote d?Ivoire', 'India'], dtype=object)"
      ]
     },
     "execution_count": 33,
     "metadata": {},
     "output_type": "execute_result"
    }
   ],
   "source": [
    "df[\"Country.of.Origin\"].unique()"
   ]
  },
  {
   "attachments": {},
   "cell_type": "markdown",
   "metadata": {},
   "source": [
    "Los valores son relativamente pocos y no es necesario realizar ningún cambio."
   ]
  },
  {
   "attachments": {},
   "cell_type": "markdown",
   "metadata": {},
   "source": [
    "<h4 style=\"text-align: center;\"><ins>2 - Especie</ins></h4>"
   ]
  },
  {
   "attachments": {},
   "cell_type": "markdown",
   "metadata": {},
   "source": [
    "Examinanos las especies presentes en el dataset."
   ]
  },
  {
   "cell_type": "code",
   "execution_count": 34,
   "metadata": {},
   "outputs": [
    {
     "data": {
      "text/plain": [
       "array(['Arabica', 'Robusta'], dtype=object)"
      ]
     },
     "execution_count": 34,
     "metadata": {},
     "output_type": "execute_result"
    }
   ],
   "source": [
    "df[\"Species\"].unique()"
   ]
  },
  {
   "attachments": {},
   "cell_type": "markdown",
   "metadata": {},
   "source": [
    "Solamente hay dos especies y ningún registro carece de esta información."
   ]
  },
  {
   "attachments": {},
   "cell_type": "markdown",
   "metadata": {},
   "source": [
    "<h4 style=\"text-align: center;\"><ins>3 - Variedad</ins></h4>"
   ]
  },
  {
   "attachments": {},
   "cell_type": "markdown",
   "metadata": {},
   "source": [
    "Examinamos los tipos de variedad presentes en el conjunto de datos."
   ]
  },
  {
   "cell_type": "code",
   "execution_count": 35,
   "metadata": {},
   "outputs": [
    {
     "data": {
      "text/plain": [
       "array(['Other', 'Catimor', 'Ethiopian Yirgacheffe', 'Caturra', 'Bourbon',\n",
       "       'SL14', 'Sumatra', 'SL34', 'Hawaiian Kona', 'Yellow Bourbon',\n",
       "       'SL28', 'Gesha', 'Catuai', 'Pacamara', 'Typica', 'Sumatra Lintong',\n",
       "       'Mundo Novo', 'Java', 'Peaberry', 'Pacas', 'Mandheling',\n",
       "       'Ruiru 11', 'Ethiopian Heirlooms', 'Moka Peaberry', 'Arusha',\n",
       "       'Sulawesi', 'Blue Mountain', 'Marigojipe', 'Pache Comun'],\n",
       "      dtype=object)"
      ]
     },
     "execution_count": 35,
     "metadata": {},
     "output_type": "execute_result"
    }
   ],
   "source": [
    "df[\"Variety\"].unique()"
   ]
  },
  {
   "attachments": {},
   "cell_type": "markdown",
   "metadata": {},
   "source": [
    "Aunque son bastantes, no existe ningún valor extraño y todo aquéllo que no está definido tiene el valor genérico \"Other\""
   ]
  },
  {
   "attachments": {},
   "cell_type": "markdown",
   "metadata": {},
   "source": [
    "<h4 style=\"text-align: center;\"><ins>4 - Altitud</ins></h4>"
   ]
  },
  {
   "attachments": {},
   "cell_type": "markdown",
   "metadata": {},
   "source": [
    "Analizamos los valores de la columna relativa a la altitud media del cultivo. Dado que es un valor numérico, además del número de valores que presenta realizaremos un análisis de sus valores estadísticos."
   ]
  },
  {
   "cell_type": "code",
   "execution_count": 36,
   "metadata": {},
   "outputs": [
    {
     "data": {
      "text/plain": [
       "count      1279.000000\n",
       "mean       1717.294785\n",
       "std        8084.817357\n",
       "min           1.000000\n",
       "25%        1050.000000\n",
       "50%        1310.640000\n",
       "75%        1600.000000\n",
       "max      190164.000000\n",
       "Name: altitude_mean_meters, dtype: float64"
      ]
     },
     "execution_count": 36,
     "metadata": {},
     "output_type": "execute_result"
    }
   ],
   "source": [
    "df[\"altitude_mean_meters\"].describe()"
   ]
  },
  {
   "attachments": {},
   "cell_type": "markdown",
   "metadata": {},
   "source": [
    "Tener tanta variedad de alturas medias va a suponer un problema a la hora de analizar los datos y en el momento de las predicciones, por lo que se hace necesario realizar agrupamientos de valores a fin de simplificar esta categoría.\n",
    "\n",
    "Además, podemos observar un valor máximo demasiado elevado que debemos tratar."
   ]
  },
  {
   "cell_type": "code",
   "execution_count": 53,
   "metadata": {},
   "outputs": [
    {
     "data": {
      "text/html": [
       "<div>\n",
       "<style scoped>\n",
       "    .dataframe tbody tr th:only-of-type {\n",
       "        vertical-align: middle;\n",
       "    }\n",
       "\n",
       "    .dataframe tbody tr th {\n",
       "        vertical-align: top;\n",
       "    }\n",
       "\n",
       "    .dataframe thead th {\n",
       "        text-align: right;\n",
       "    }\n",
       "</style>\n",
       "<table border=\"1\" class=\"dataframe\">\n",
       "  <thead>\n",
       "    <tr style=\"text-align: right;\">\n",
       "      <th></th>\n",
       "      <th>Species</th>\n",
       "      <th>Country.of.Origin</th>\n",
       "      <th>Region</th>\n",
       "      <th>Variety</th>\n",
       "      <th>Processing.Method</th>\n",
       "      <th>Aroma</th>\n",
       "      <th>Flavor</th>\n",
       "      <th>Aftertaste</th>\n",
       "      <th>Acidity</th>\n",
       "      <th>Body</th>\n",
       "      <th>...</th>\n",
       "      <th>Moisture</th>\n",
       "      <th>Category.One.Defects</th>\n",
       "      <th>Quakers</th>\n",
       "      <th>Color</th>\n",
       "      <th>Category.Two.Defects</th>\n",
       "      <th>Expiration</th>\n",
       "      <th>unit_of_measurement</th>\n",
       "      <th>altitude_mean_meters</th>\n",
       "      <th>HarvestYear_Calc</th>\n",
       "      <th>altitude_zscore</th>\n",
       "    </tr>\n",
       "  </thead>\n",
       "  <tbody>\n",
       "    <tr>\n",
       "      <th>83</th>\n",
       "      <td>Arabica</td>\n",
       "      <td>Guatemala</td>\n",
       "      <td>oriente</td>\n",
       "      <td>Bourbon</td>\n",
       "      <td>Other</td>\n",
       "      <td>8.00</td>\n",
       "      <td>7.92</td>\n",
       "      <td>7.75</td>\n",
       "      <td>8.00</td>\n",
       "      <td>7.92</td>\n",
       "      <td>...</td>\n",
       "      <td>0.10</td>\n",
       "      <td>0</td>\n",
       "      <td>2.0</td>\n",
       "      <td>Green</td>\n",
       "      <td>2</td>\n",
       "      <td>April 27th, 2017</td>\n",
       "      <td>m</td>\n",
       "      <td>4166.414642</td>\n",
       "      <td>2016</td>\n",
       "      <td>0.303047</td>\n",
       "    </tr>\n",
       "    <tr>\n",
       "      <th>215</th>\n",
       "      <td>Arabica</td>\n",
       "      <td>Guatemala</td>\n",
       "      <td>norte</td>\n",
       "      <td>Bourbon</td>\n",
       "      <td>Washed / Wet</td>\n",
       "      <td>7.58</td>\n",
       "      <td>7.83</td>\n",
       "      <td>7.58</td>\n",
       "      <td>7.83</td>\n",
       "      <td>7.83</td>\n",
       "      <td>...</td>\n",
       "      <td>0.10</td>\n",
       "      <td>0</td>\n",
       "      <td>0.0</td>\n",
       "      <td>Green</td>\n",
       "      <td>2</td>\n",
       "      <td>June 1st, 2017</td>\n",
       "      <td>m</td>\n",
       "      <td>3280.000000</td>\n",
       "      <td>2016</td>\n",
       "      <td>0.193364</td>\n",
       "    </tr>\n",
       "    <tr>\n",
       "      <th>234</th>\n",
       "      <td>Arabica</td>\n",
       "      <td>Guatemala</td>\n",
       "      <td>oriente</td>\n",
       "      <td>Bourbon</td>\n",
       "      <td>Washed / Wet</td>\n",
       "      <td>8.00</td>\n",
       "      <td>7.75</td>\n",
       "      <td>7.50</td>\n",
       "      <td>7.58</td>\n",
       "      <td>7.92</td>\n",
       "      <td>...</td>\n",
       "      <td>0.10</td>\n",
       "      <td>0</td>\n",
       "      <td>0.0</td>\n",
       "      <td>Green</td>\n",
       "      <td>4</td>\n",
       "      <td>April 27th, 2017</td>\n",
       "      <td>m</td>\n",
       "      <td>4166.414642</td>\n",
       "      <td>2016</td>\n",
       "      <td>0.303047</td>\n",
       "    </tr>\n",
       "    <tr>\n",
       "      <th>543</th>\n",
       "      <td>Arabica</td>\n",
       "      <td>Brazil</td>\n",
       "      <td>cerrado</td>\n",
       "      <td>Moka Peaberry</td>\n",
       "      <td>Semi-washed / Semi-pulped</td>\n",
       "      <td>7.08</td>\n",
       "      <td>7.50</td>\n",
       "      <td>7.50</td>\n",
       "      <td>7.83</td>\n",
       "      <td>7.75</td>\n",
       "      <td>...</td>\n",
       "      <td>0.11</td>\n",
       "      <td>0</td>\n",
       "      <td>0.0</td>\n",
       "      <td>Green</td>\n",
       "      <td>16</td>\n",
       "      <td>August 15th, 2015</td>\n",
       "      <td>m</td>\n",
       "      <td>11000.000000</td>\n",
       "      <td>2015</td>\n",
       "      <td>1.148614</td>\n",
       "    </tr>\n",
       "    <tr>\n",
       "      <th>628</th>\n",
       "      <td>Arabica</td>\n",
       "      <td>Colombia</td>\n",
       "      <td>52 narino (exact location: mattituy; municipal...</td>\n",
       "      <td>Other</td>\n",
       "      <td>Other</td>\n",
       "      <td>7.33</td>\n",
       "      <td>7.58</td>\n",
       "      <td>7.42</td>\n",
       "      <td>7.42</td>\n",
       "      <td>7.67</td>\n",
       "      <td>...</td>\n",
       "      <td>0.11</td>\n",
       "      <td>0</td>\n",
       "      <td>0.0</td>\n",
       "      <td>Green</td>\n",
       "      <td>0</td>\n",
       "      <td>November 15th, 2012</td>\n",
       "      <td>m</td>\n",
       "      <td>3850.000000</td>\n",
       "      <td>2011</td>\n",
       "      <td>0.263895</td>\n",
       "    </tr>\n",
       "    <tr>\n",
       "      <th>669</th>\n",
       "      <td>Arabica</td>\n",
       "      <td>Guatemala</td>\n",
       "      <td>oriente</td>\n",
       "      <td>Caturra</td>\n",
       "      <td>Natural / Dry</td>\n",
       "      <td>7.67</td>\n",
       "      <td>7.33</td>\n",
       "      <td>7.33</td>\n",
       "      <td>7.33</td>\n",
       "      <td>7.50</td>\n",
       "      <td>...</td>\n",
       "      <td>0.11</td>\n",
       "      <td>0</td>\n",
       "      <td>0.0</td>\n",
       "      <td>Green</td>\n",
       "      <td>5</td>\n",
       "      <td>March 26th, 2013</td>\n",
       "      <td>m</td>\n",
       "      <td>4166.414642</td>\n",
       "      <td>2012</td>\n",
       "      <td>0.303047</td>\n",
       "    </tr>\n",
       "    <tr>\n",
       "      <th>837</th>\n",
       "      <td>Arabica</td>\n",
       "      <td>Guatemala</td>\n",
       "      <td>norte</td>\n",
       "      <td>Bourbon</td>\n",
       "      <td>Washed / Wet</td>\n",
       "      <td>7.58</td>\n",
       "      <td>7.50</td>\n",
       "      <td>7.33</td>\n",
       "      <td>7.42</td>\n",
       "      <td>7.58</td>\n",
       "      <td>...</td>\n",
       "      <td>0.10</td>\n",
       "      <td>2</td>\n",
       "      <td>0.0</td>\n",
       "      <td>Green</td>\n",
       "      <td>6</td>\n",
       "      <td>August 2nd, 2017</td>\n",
       "      <td>m</td>\n",
       "      <td>3280.000000</td>\n",
       "      <td>2015</td>\n",
       "      <td>0.193364</td>\n",
       "    </tr>\n",
       "    <tr>\n",
       "      <th>840</th>\n",
       "      <td>Arabica</td>\n",
       "      <td>Myanmar</td>\n",
       "      <td>ywar ngan</td>\n",
       "      <td>Catuai</td>\n",
       "      <td>Washed / Wet</td>\n",
       "      <td>7.33</td>\n",
       "      <td>7.58</td>\n",
       "      <td>7.50</td>\n",
       "      <td>7.42</td>\n",
       "      <td>7.33</td>\n",
       "      <td>...</td>\n",
       "      <td>0.00</td>\n",
       "      <td>0</td>\n",
       "      <td>0.0</td>\n",
       "      <td>Green</td>\n",
       "      <td>2</td>\n",
       "      <td>July 16th, 2016</td>\n",
       "      <td>m</td>\n",
       "      <td>4001.000000</td>\n",
       "      <td>2015</td>\n",
       "      <td>0.282579</td>\n",
       "    </tr>\n",
       "    <tr>\n",
       "      <th>875</th>\n",
       "      <td>Arabica</td>\n",
       "      <td>Nicaragua</td>\n",
       "      <td>jinotega</td>\n",
       "      <td>Other</td>\n",
       "      <td>Other</td>\n",
       "      <td>7.58</td>\n",
       "      <td>7.50</td>\n",
       "      <td>7.25</td>\n",
       "      <td>7.25</td>\n",
       "      <td>7.50</td>\n",
       "      <td>...</td>\n",
       "      <td>0.10</td>\n",
       "      <td>0</td>\n",
       "      <td>0.0</td>\n",
       "      <td>Green</td>\n",
       "      <td>1</td>\n",
       "      <td>March 11th, 2017</td>\n",
       "      <td>m</td>\n",
       "      <td>10176.041667</td>\n",
       "      <td>UNKNOWN</td>\n",
       "      <td>1.046660</td>\n",
       "    </tr>\n",
       "    <tr>\n",
       "      <th>931</th>\n",
       "      <td>Arabica</td>\n",
       "      <td>Guatemala</td>\n",
       "      <td>oriente</td>\n",
       "      <td>Bourbon</td>\n",
       "      <td>Washed / Wet</td>\n",
       "      <td>7.33</td>\n",
       "      <td>7.50</td>\n",
       "      <td>7.33</td>\n",
       "      <td>7.42</td>\n",
       "      <td>7.17</td>\n",
       "      <td>...</td>\n",
       "      <td>0.11</td>\n",
       "      <td>0</td>\n",
       "      <td>0.0</td>\n",
       "      <td>Green</td>\n",
       "      <td>1</td>\n",
       "      <td>January 24th, 2013</td>\n",
       "      <td>m</td>\n",
       "      <td>4166.414642</td>\n",
       "      <td>2012</td>\n",
       "      <td>0.303047</td>\n",
       "    </tr>\n",
       "    <tr>\n",
       "      <th>1001</th>\n",
       "      <td>Arabica</td>\n",
       "      <td>Guatemala</td>\n",
       "      <td>norte</td>\n",
       "      <td>Bourbon</td>\n",
       "      <td>Washed / Wet</td>\n",
       "      <td>7.42</td>\n",
       "      <td>7.25</td>\n",
       "      <td>7.17</td>\n",
       "      <td>7.50</td>\n",
       "      <td>7.25</td>\n",
       "      <td>...</td>\n",
       "      <td>0.09</td>\n",
       "      <td>0</td>\n",
       "      <td>0.0</td>\n",
       "      <td>Green</td>\n",
       "      <td>8</td>\n",
       "      <td>August 2nd, 2017</td>\n",
       "      <td>m</td>\n",
       "      <td>3280.000000</td>\n",
       "      <td>2016</td>\n",
       "      <td>0.193364</td>\n",
       "    </tr>\n",
       "    <tr>\n",
       "      <th>1038</th>\n",
       "      <td>Arabica</td>\n",
       "      <td>Myanmar</td>\n",
       "      <td>ywar ngan</td>\n",
       "      <td>Catuai</td>\n",
       "      <td>Washed / Wet</td>\n",
       "      <td>6.92</td>\n",
       "      <td>7.50</td>\n",
       "      <td>7.00</td>\n",
       "      <td>7.58</td>\n",
       "      <td>7.50</td>\n",
       "      <td>...</td>\n",
       "      <td>0.00</td>\n",
       "      <td>0</td>\n",
       "      <td>0.0</td>\n",
       "      <td>Green</td>\n",
       "      <td>2</td>\n",
       "      <td>July 16th, 2016</td>\n",
       "      <td>m</td>\n",
       "      <td>3825.000000</td>\n",
       "      <td>2015</td>\n",
       "      <td>0.260801</td>\n",
       "    </tr>\n",
       "    <tr>\n",
       "      <th>1057</th>\n",
       "      <td>Arabica</td>\n",
       "      <td>Guatemala</td>\n",
       "      <td>oriente</td>\n",
       "      <td>Bourbon</td>\n",
       "      <td>Washed / Wet</td>\n",
       "      <td>7.00</td>\n",
       "      <td>7.33</td>\n",
       "      <td>7.50</td>\n",
       "      <td>7.33</td>\n",
       "      <td>7.00</td>\n",
       "      <td>...</td>\n",
       "      <td>0.11</td>\n",
       "      <td>0</td>\n",
       "      <td>0.0</td>\n",
       "      <td>Green</td>\n",
       "      <td>2</td>\n",
       "      <td>January 24th, 2013</td>\n",
       "      <td>m</td>\n",
       "      <td>4166.414642</td>\n",
       "      <td>2012</td>\n",
       "      <td>0.303047</td>\n",
       "    </tr>\n",
       "    <tr>\n",
       "      <th>1058</th>\n",
       "      <td>Arabica</td>\n",
       "      <td>Guatemala</td>\n",
       "      <td>oriente</td>\n",
       "      <td>Bourbon</td>\n",
       "      <td>Washed / Wet</td>\n",
       "      <td>7.00</td>\n",
       "      <td>7.50</td>\n",
       "      <td>7.33</td>\n",
       "      <td>7.17</td>\n",
       "      <td>7.17</td>\n",
       "      <td>...</td>\n",
       "      <td>0.11</td>\n",
       "      <td>0</td>\n",
       "      <td>0.0</td>\n",
       "      <td>Green</td>\n",
       "      <td>3</td>\n",
       "      <td>January 24th, 2013</td>\n",
       "      <td>m</td>\n",
       "      <td>4166.414642</td>\n",
       "      <td>2012</td>\n",
       "      <td>0.303047</td>\n",
       "    </tr>\n",
       "    <tr>\n",
       "      <th>1073</th>\n",
       "      <td>Arabica</td>\n",
       "      <td>Myanmar</td>\n",
       "      <td>pyin oo lwin</td>\n",
       "      <td>Other</td>\n",
       "      <td>Washed / Wet</td>\n",
       "      <td>7.17</td>\n",
       "      <td>7.33</td>\n",
       "      <td>7.17</td>\n",
       "      <td>7.42</td>\n",
       "      <td>7.25</td>\n",
       "      <td>...</td>\n",
       "      <td>0.00</td>\n",
       "      <td>0</td>\n",
       "      <td>0.0</td>\n",
       "      <td>Green</td>\n",
       "      <td>2</td>\n",
       "      <td>July 16th, 2016</td>\n",
       "      <td>m</td>\n",
       "      <td>3800.000000</td>\n",
       "      <td>2015</td>\n",
       "      <td>0.257708</td>\n",
       "    </tr>\n",
       "    <tr>\n",
       "      <th>1098</th>\n",
       "      <td>Arabica</td>\n",
       "      <td>Myanmar</td>\n",
       "      <td>ywar ngan</td>\n",
       "      <td>Catuai</td>\n",
       "      <td>Natural / Dry</td>\n",
       "      <td>7.42</td>\n",
       "      <td>7.00</td>\n",
       "      <td>7.08</td>\n",
       "      <td>7.00</td>\n",
       "      <td>7.17</td>\n",
       "      <td>...</td>\n",
       "      <td>0.00</td>\n",
       "      <td>0</td>\n",
       "      <td>0.0</td>\n",
       "      <td>Green</td>\n",
       "      <td>1</td>\n",
       "      <td>July 16th, 2016</td>\n",
       "      <td>m</td>\n",
       "      <td>4287.000000</td>\n",
       "      <td>2014</td>\n",
       "      <td>0.317968</td>\n",
       "    </tr>\n",
       "    <tr>\n",
       "      <th>1123</th>\n",
       "      <td>Arabica</td>\n",
       "      <td>Myanmar</td>\n",
       "      <td>doe kwin, pyin oo lwin</td>\n",
       "      <td>Other</td>\n",
       "      <td>Washed / Wet</td>\n",
       "      <td>7.17</td>\n",
       "      <td>7.33</td>\n",
       "      <td>7.00</td>\n",
       "      <td>7.42</td>\n",
       "      <td>7.17</td>\n",
       "      <td>...</td>\n",
       "      <td>0.00</td>\n",
       "      <td>0</td>\n",
       "      <td>0.0</td>\n",
       "      <td>Green</td>\n",
       "      <td>4</td>\n",
       "      <td>July 16th, 2016</td>\n",
       "      <td>m</td>\n",
       "      <td>3845.000000</td>\n",
       "      <td>2015</td>\n",
       "      <td>0.263276</td>\n",
       "    </tr>\n",
       "    <tr>\n",
       "      <th>1181</th>\n",
       "      <td>Arabica</td>\n",
       "      <td>Guatemala</td>\n",
       "      <td>oriente</td>\n",
       "      <td>Bourbon</td>\n",
       "      <td>Washed / Wet</td>\n",
       "      <td>7.17</td>\n",
       "      <td>6.50</td>\n",
       "      <td>6.33</td>\n",
       "      <td>7.25</td>\n",
       "      <td>7.58</td>\n",
       "      <td>...</td>\n",
       "      <td>0.11</td>\n",
       "      <td>0</td>\n",
       "      <td>0.0</td>\n",
       "      <td>Green</td>\n",
       "      <td>6</td>\n",
       "      <td>January 12th, 2013</td>\n",
       "      <td>m</td>\n",
       "      <td>4166.414642</td>\n",
       "      <td>2012</td>\n",
       "      <td>0.303047</td>\n",
       "    </tr>\n",
       "    <tr>\n",
       "      <th>1230</th>\n",
       "      <td>Arabica</td>\n",
       "      <td>Guatemala</td>\n",
       "      <td>oriente</td>\n",
       "      <td>Bourbon</td>\n",
       "      <td>Washed / Wet</td>\n",
       "      <td>7.17</td>\n",
       "      <td>6.08</td>\n",
       "      <td>6.17</td>\n",
       "      <td>7.25</td>\n",
       "      <td>7.33</td>\n",
       "      <td>...</td>\n",
       "      <td>0.11</td>\n",
       "      <td>0</td>\n",
       "      <td>0.0</td>\n",
       "      <td>Green</td>\n",
       "      <td>9</td>\n",
       "      <td>January 12th, 2013</td>\n",
       "      <td>m</td>\n",
       "      <td>4166.414642</td>\n",
       "      <td>2012</td>\n",
       "      <td>0.303047</td>\n",
       "    </tr>\n",
       "    <tr>\n",
       "      <th>1245</th>\n",
       "      <td>Arabica</td>\n",
       "      <td>Guatemala</td>\n",
       "      <td>oriente</td>\n",
       "      <td>Bourbon</td>\n",
       "      <td>Washed / Wet</td>\n",
       "      <td>7.17</td>\n",
       "      <td>6.17</td>\n",
       "      <td>6.17</td>\n",
       "      <td>7.08</td>\n",
       "      <td>7.33</td>\n",
       "      <td>...</td>\n",
       "      <td>0.11</td>\n",
       "      <td>0</td>\n",
       "      <td>0.0</td>\n",
       "      <td>Green</td>\n",
       "      <td>7</td>\n",
       "      <td>January 12th, 2013</td>\n",
       "      <td>m</td>\n",
       "      <td>4166.414642</td>\n",
       "      <td>2012</td>\n",
       "      <td>0.303047</td>\n",
       "    </tr>\n",
       "    <tr>\n",
       "      <th>1262</th>\n",
       "      <td>Arabica</td>\n",
       "      <td>Guatemala</td>\n",
       "      <td>oriente</td>\n",
       "      <td>Bourbon</td>\n",
       "      <td>Washed / Wet</td>\n",
       "      <td>6.42</td>\n",
       "      <td>6.50</td>\n",
       "      <td>6.50</td>\n",
       "      <td>7.33</td>\n",
       "      <td>6.33</td>\n",
       "      <td>...</td>\n",
       "      <td>0.12</td>\n",
       "      <td>0</td>\n",
       "      <td>0.0</td>\n",
       "      <td>Green</td>\n",
       "      <td>4</td>\n",
       "      <td>January 2nd, 2013</td>\n",
       "      <td>m</td>\n",
       "      <td>4166.414642</td>\n",
       "      <td>2012</td>\n",
       "      <td>0.303047</td>\n",
       "    </tr>\n",
       "    <tr>\n",
       "      <th>1265</th>\n",
       "      <td>Arabica</td>\n",
       "      <td>Guatemala</td>\n",
       "      <td>oriente</td>\n",
       "      <td>Bourbon</td>\n",
       "      <td>Washed / Wet</td>\n",
       "      <td>6.17</td>\n",
       "      <td>6.50</td>\n",
       "      <td>6.50</td>\n",
       "      <td>7.17</td>\n",
       "      <td>7.00</td>\n",
       "      <td>...</td>\n",
       "      <td>0.11</td>\n",
       "      <td>0</td>\n",
       "      <td>0.0</td>\n",
       "      <td>Green</td>\n",
       "      <td>5</td>\n",
       "      <td>January 2nd, 2013</td>\n",
       "      <td>m</td>\n",
       "      <td>4166.414642</td>\n",
       "      <td>2012</td>\n",
       "      <td>0.303047</td>\n",
       "    </tr>\n",
       "    <tr>\n",
       "      <th>1269</th>\n",
       "      <td>Arabica</td>\n",
       "      <td>Indonesia</td>\n",
       "      <td>indonesia</td>\n",
       "      <td>Other</td>\n",
       "      <td>Natural / Dry</td>\n",
       "      <td>7.33</td>\n",
       "      <td>7.00</td>\n",
       "      <td>6.50</td>\n",
       "      <td>6.08</td>\n",
       "      <td>7.58</td>\n",
       "      <td>...</td>\n",
       "      <td>0.12</td>\n",
       "      <td>4</td>\n",
       "      <td>0.0</td>\n",
       "      <td>Green</td>\n",
       "      <td>26</td>\n",
       "      <td>January 17th, 2013</td>\n",
       "      <td>m</td>\n",
       "      <td>3500.000000</td>\n",
       "      <td>2011</td>\n",
       "      <td>0.220587</td>\n",
       "    </tr>\n",
       "    <tr>\n",
       "      <th>1275</th>\n",
       "      <td>Arabica</td>\n",
       "      <td>Guatemala</td>\n",
       "      <td>oriente</td>\n",
       "      <td>Bourbon</td>\n",
       "      <td>Washed / Wet</td>\n",
       "      <td>6.67</td>\n",
       "      <td>6.50</td>\n",
       "      <td>6.33</td>\n",
       "      <td>7.00</td>\n",
       "      <td>7.17</td>\n",
       "      <td>...</td>\n",
       "      <td>0.12</td>\n",
       "      <td>0</td>\n",
       "      <td>0.0</td>\n",
       "      <td>Green</td>\n",
       "      <td>10</td>\n",
       "      <td>January 5th, 2013</td>\n",
       "      <td>m</td>\n",
       "      <td>4166.414642</td>\n",
       "      <td>2012</td>\n",
       "      <td>0.303047</td>\n",
       "    </tr>\n",
       "    <tr>\n",
       "      <th>1283</th>\n",
       "      <td>Arabica</td>\n",
       "      <td>Guatemala</td>\n",
       "      <td>oriente</td>\n",
       "      <td>Bourbon</td>\n",
       "      <td>Washed / Wet</td>\n",
       "      <td>6.75</td>\n",
       "      <td>6.50</td>\n",
       "      <td>6.17</td>\n",
       "      <td>7.00</td>\n",
       "      <td>7.25</td>\n",
       "      <td>...</td>\n",
       "      <td>0.11</td>\n",
       "      <td>0</td>\n",
       "      <td>0.0</td>\n",
       "      <td>Green</td>\n",
       "      <td>8</td>\n",
       "      <td>January 8th, 2013</td>\n",
       "      <td>m</td>\n",
       "      <td>4166.414642</td>\n",
       "      <td>2012</td>\n",
       "      <td>0.303047</td>\n",
       "    </tr>\n",
       "    <tr>\n",
       "      <th>1284</th>\n",
       "      <td>Arabica</td>\n",
       "      <td>Guatemala</td>\n",
       "      <td>oriente</td>\n",
       "      <td>Bourbon</td>\n",
       "      <td>Washed / Wet</td>\n",
       "      <td>6.75</td>\n",
       "      <td>6.67</td>\n",
       "      <td>6.17</td>\n",
       "      <td>7.17</td>\n",
       "      <td>7.00</td>\n",
       "      <td>...</td>\n",
       "      <td>0.11</td>\n",
       "      <td>0</td>\n",
       "      <td>0.0</td>\n",
       "      <td>Green</td>\n",
       "      <td>10</td>\n",
       "      <td>January 4th, 2013</td>\n",
       "      <td>m</td>\n",
       "      <td>4166.414642</td>\n",
       "      <td>2012</td>\n",
       "      <td>0.303047</td>\n",
       "    </tr>\n",
       "    <tr>\n",
       "      <th>1312</th>\n",
       "      <td>Robusta</td>\n",
       "      <td>India</td>\n",
       "      <td>chikmagalur karnataka indua</td>\n",
       "      <td>Other</td>\n",
       "      <td>Washed / Wet</td>\n",
       "      <td>8.00</td>\n",
       "      <td>7.75</td>\n",
       "      <td>7.92</td>\n",
       "      <td>8.00</td>\n",
       "      <td>7.92</td>\n",
       "      <td>...</td>\n",
       "      <td>0.00</td>\n",
       "      <td>0</td>\n",
       "      <td>0.0</td>\n",
       "      <td>Green</td>\n",
       "      <td>2</td>\n",
       "      <td>October 31st, 2018</td>\n",
       "      <td>m</td>\n",
       "      <td>3170.000000</td>\n",
       "      <td>2017</td>\n",
       "      <td>0.179753</td>\n",
       "    </tr>\n",
       "    <tr>\n",
       "      <th>1318</th>\n",
       "      <td>Robusta</td>\n",
       "      <td>India</td>\n",
       "      <td>chikmagalur karnataka india</td>\n",
       "      <td>Other</td>\n",
       "      <td>Washed / Wet</td>\n",
       "      <td>7.67</td>\n",
       "      <td>7.75</td>\n",
       "      <td>7.83</td>\n",
       "      <td>7.67</td>\n",
       "      <td>7.92</td>\n",
       "      <td>...</td>\n",
       "      <td>0.10</td>\n",
       "      <td>0</td>\n",
       "      <td>0.0</td>\n",
       "      <td>Bluish-Green</td>\n",
       "      <td>0</td>\n",
       "      <td>October 25th, 2018</td>\n",
       "      <td>m</td>\n",
       "      <td>3140.000000</td>\n",
       "      <td>2017</td>\n",
       "      <td>0.176041</td>\n",
       "    </tr>\n",
       "  </tbody>\n",
       "</table>\n",
       "<p>28 rows × 25 columns</p>\n",
       "</div>"
      ],
      "text/plain": [
       "      Species Country.of.Origin  \\\n",
       "83    Arabica         Guatemala   \n",
       "215   Arabica         Guatemala   \n",
       "234   Arabica         Guatemala   \n",
       "543   Arabica            Brazil   \n",
       "628   Arabica          Colombia   \n",
       "669   Arabica         Guatemala   \n",
       "837   Arabica         Guatemala   \n",
       "840   Arabica           Myanmar   \n",
       "875   Arabica         Nicaragua   \n",
       "931   Arabica         Guatemala   \n",
       "1001  Arabica         Guatemala   \n",
       "1038  Arabica           Myanmar   \n",
       "1057  Arabica         Guatemala   \n",
       "1058  Arabica         Guatemala   \n",
       "1073  Arabica           Myanmar   \n",
       "1098  Arabica           Myanmar   \n",
       "1123  Arabica           Myanmar   \n",
       "1181  Arabica         Guatemala   \n",
       "1230  Arabica         Guatemala   \n",
       "1245  Arabica         Guatemala   \n",
       "1262  Arabica         Guatemala   \n",
       "1265  Arabica         Guatemala   \n",
       "1269  Arabica         Indonesia   \n",
       "1275  Arabica         Guatemala   \n",
       "1283  Arabica         Guatemala   \n",
       "1284  Arabica         Guatemala   \n",
       "1312  Robusta             India   \n",
       "1318  Robusta             India   \n",
       "\n",
       "                                                 Region        Variety  \\\n",
       "83                                              oriente        Bourbon   \n",
       "215                                               norte        Bourbon   \n",
       "234                                             oriente        Bourbon   \n",
       "543                                             cerrado  Moka Peaberry   \n",
       "628   52 narino (exact location: mattituy; municipal...          Other   \n",
       "669                                             oriente        Caturra   \n",
       "837                                               norte        Bourbon   \n",
       "840                                           ywar ngan         Catuai   \n",
       "875                                            jinotega          Other   \n",
       "931                                             oriente        Bourbon   \n",
       "1001                                              norte        Bourbon   \n",
       "1038                                          ywar ngan         Catuai   \n",
       "1057                                            oriente        Bourbon   \n",
       "1058                                            oriente        Bourbon   \n",
       "1073                                       pyin oo lwin          Other   \n",
       "1098                                          ywar ngan         Catuai   \n",
       "1123                             doe kwin, pyin oo lwin          Other   \n",
       "1181                                            oriente        Bourbon   \n",
       "1230                                            oriente        Bourbon   \n",
       "1245                                            oriente        Bourbon   \n",
       "1262                                            oriente        Bourbon   \n",
       "1265                                            oriente        Bourbon   \n",
       "1269                                          indonesia          Other   \n",
       "1275                                            oriente        Bourbon   \n",
       "1283                                            oriente        Bourbon   \n",
       "1284                                            oriente        Bourbon   \n",
       "1312                        chikmagalur karnataka indua          Other   \n",
       "1318                        chikmagalur karnataka india          Other   \n",
       "\n",
       "              Processing.Method  Aroma  Flavor  Aftertaste  Acidity  Body  \\\n",
       "83                        Other   8.00    7.92        7.75     8.00  7.92   \n",
       "215                Washed / Wet   7.58    7.83        7.58     7.83  7.83   \n",
       "234                Washed / Wet   8.00    7.75        7.50     7.58  7.92   \n",
       "543   Semi-washed / Semi-pulped   7.08    7.50        7.50     7.83  7.75   \n",
       "628                       Other   7.33    7.58        7.42     7.42  7.67   \n",
       "669               Natural / Dry   7.67    7.33        7.33     7.33  7.50   \n",
       "837                Washed / Wet   7.58    7.50        7.33     7.42  7.58   \n",
       "840                Washed / Wet   7.33    7.58        7.50     7.42  7.33   \n",
       "875                       Other   7.58    7.50        7.25     7.25  7.50   \n",
       "931                Washed / Wet   7.33    7.50        7.33     7.42  7.17   \n",
       "1001               Washed / Wet   7.42    7.25        7.17     7.50  7.25   \n",
       "1038               Washed / Wet   6.92    7.50        7.00     7.58  7.50   \n",
       "1057               Washed / Wet   7.00    7.33        7.50     7.33  7.00   \n",
       "1058               Washed / Wet   7.00    7.50        7.33     7.17  7.17   \n",
       "1073               Washed / Wet   7.17    7.33        7.17     7.42  7.25   \n",
       "1098              Natural / Dry   7.42    7.00        7.08     7.00  7.17   \n",
       "1123               Washed / Wet   7.17    7.33        7.00     7.42  7.17   \n",
       "1181               Washed / Wet   7.17    6.50        6.33     7.25  7.58   \n",
       "1230               Washed / Wet   7.17    6.08        6.17     7.25  7.33   \n",
       "1245               Washed / Wet   7.17    6.17        6.17     7.08  7.33   \n",
       "1262               Washed / Wet   6.42    6.50        6.50     7.33  6.33   \n",
       "1265               Washed / Wet   6.17    6.50        6.50     7.17  7.00   \n",
       "1269              Natural / Dry   7.33    7.00        6.50     6.08  7.58   \n",
       "1275               Washed / Wet   6.67    6.50        6.33     7.00  7.17   \n",
       "1283               Washed / Wet   6.75    6.50        6.17     7.00  7.25   \n",
       "1284               Washed / Wet   6.75    6.67        6.17     7.17  7.00   \n",
       "1312               Washed / Wet   8.00    7.75        7.92     8.00  7.92   \n",
       "1318               Washed / Wet   7.67    7.75        7.83     7.67  7.92   \n",
       "\n",
       "      ...  Moisture  Category.One.Defects  Quakers         Color  \\\n",
       "83    ...      0.10                     0      2.0         Green   \n",
       "215   ...      0.10                     0      0.0         Green   \n",
       "234   ...      0.10                     0      0.0         Green   \n",
       "543   ...      0.11                     0      0.0         Green   \n",
       "628   ...      0.11                     0      0.0         Green   \n",
       "669   ...      0.11                     0      0.0         Green   \n",
       "837   ...      0.10                     2      0.0         Green   \n",
       "840   ...      0.00                     0      0.0         Green   \n",
       "875   ...      0.10                     0      0.0         Green   \n",
       "931   ...      0.11                     0      0.0         Green   \n",
       "1001  ...      0.09                     0      0.0         Green   \n",
       "1038  ...      0.00                     0      0.0         Green   \n",
       "1057  ...      0.11                     0      0.0         Green   \n",
       "1058  ...      0.11                     0      0.0         Green   \n",
       "1073  ...      0.00                     0      0.0         Green   \n",
       "1098  ...      0.00                     0      0.0         Green   \n",
       "1123  ...      0.00                     0      0.0         Green   \n",
       "1181  ...      0.11                     0      0.0         Green   \n",
       "1230  ...      0.11                     0      0.0         Green   \n",
       "1245  ...      0.11                     0      0.0         Green   \n",
       "1262  ...      0.12                     0      0.0         Green   \n",
       "1265  ...      0.11                     0      0.0         Green   \n",
       "1269  ...      0.12                     4      0.0         Green   \n",
       "1275  ...      0.12                     0      0.0         Green   \n",
       "1283  ...      0.11                     0      0.0         Green   \n",
       "1284  ...      0.11                     0      0.0         Green   \n",
       "1312  ...      0.00                     0      0.0         Green   \n",
       "1318  ...      0.10                     0      0.0  Bluish-Green   \n",
       "\n",
       "      Category.Two.Defects           Expiration  unit_of_measurement  \\\n",
       "83                       2     April 27th, 2017                    m   \n",
       "215                      2       June 1st, 2017                    m   \n",
       "234                      4     April 27th, 2017                    m   \n",
       "543                     16    August 15th, 2015                    m   \n",
       "628                      0  November 15th, 2012                    m   \n",
       "669                      5     March 26th, 2013                    m   \n",
       "837                      6     August 2nd, 2017                    m   \n",
       "840                      2      July 16th, 2016                    m   \n",
       "875                      1     March 11th, 2017                    m   \n",
       "931                      1   January 24th, 2013                    m   \n",
       "1001                     8     August 2nd, 2017                    m   \n",
       "1038                     2      July 16th, 2016                    m   \n",
       "1057                     2   January 24th, 2013                    m   \n",
       "1058                     3   January 24th, 2013                    m   \n",
       "1073                     2      July 16th, 2016                    m   \n",
       "1098                     1      July 16th, 2016                    m   \n",
       "1123                     4      July 16th, 2016                    m   \n",
       "1181                     6   January 12th, 2013                    m   \n",
       "1230                     9   January 12th, 2013                    m   \n",
       "1245                     7   January 12th, 2013                    m   \n",
       "1262                     4    January 2nd, 2013                    m   \n",
       "1265                     5    January 2nd, 2013                    m   \n",
       "1269                    26   January 17th, 2013                    m   \n",
       "1275                    10    January 5th, 2013                    m   \n",
       "1283                     8    January 8th, 2013                    m   \n",
       "1284                    10    January 4th, 2013                    m   \n",
       "1312                     2   October 31st, 2018                    m   \n",
       "1318                     0   October 25th, 2018                    m   \n",
       "\n",
       "      altitude_mean_meters HarvestYear_Calc  altitude_zscore  \n",
       "83             4166.414642             2016         0.303047  \n",
       "215            3280.000000             2016         0.193364  \n",
       "234            4166.414642             2016         0.303047  \n",
       "543           11000.000000             2015         1.148614  \n",
       "628            3850.000000             2011         0.263895  \n",
       "669            4166.414642             2012         0.303047  \n",
       "837            3280.000000             2015         0.193364  \n",
       "840            4001.000000             2015         0.282579  \n",
       "875           10176.041667          UNKNOWN         1.046660  \n",
       "931            4166.414642             2012         0.303047  \n",
       "1001           3280.000000             2016         0.193364  \n",
       "1038           3825.000000             2015         0.260801  \n",
       "1057           4166.414642             2012         0.303047  \n",
       "1058           4166.414642             2012         0.303047  \n",
       "1073           3800.000000             2015         0.257708  \n",
       "1098           4287.000000             2014         0.317968  \n",
       "1123           3845.000000             2015         0.263276  \n",
       "1181           4166.414642             2012         0.303047  \n",
       "1230           4166.414642             2012         0.303047  \n",
       "1245           4166.414642             2012         0.303047  \n",
       "1262           4166.414642             2012         0.303047  \n",
       "1265           4166.414642             2012         0.303047  \n",
       "1269           3500.000000             2011         0.220587  \n",
       "1275           4166.414642             2012         0.303047  \n",
       "1283           4166.414642             2012         0.303047  \n",
       "1284           4166.414642             2012         0.303047  \n",
       "1312           3170.000000             2017         0.179753  \n",
       "1318           3140.000000             2017         0.176041  \n",
       "\n",
       "[28 rows x 25 columns]"
      ]
     },
     "execution_count": 53,
     "metadata": {},
     "output_type": "execute_result"
    }
   ],
   "source": [
    "df[df[\"altitude_mean_meters\"]>3000]"
   ]
  },
  {
   "attachments": {},
   "cell_type": "markdown",
   "metadata": {},
   "source": [
    "Para localizar los valores outliers en la columna, usaremos el valor de su zscore o número de desviaciones estándar de la media. Aquéllos con un valor superior a 3 serán considerados outliers."
   ]
  },
  {
   "cell_type": "code",
   "execution_count": 49,
   "metadata": {},
   "outputs": [
    {
     "data": {
      "text/html": [
       "<div>\n",
       "<style scoped>\n",
       "    .dataframe tbody tr th:only-of-type {\n",
       "        vertical-align: middle;\n",
       "    }\n",
       "\n",
       "    .dataframe tbody tr th {\n",
       "        vertical-align: top;\n",
       "    }\n",
       "\n",
       "    .dataframe thead th {\n",
       "        text-align: right;\n",
       "    }\n",
       "</style>\n",
       "<table border=\"1\" class=\"dataframe\">\n",
       "  <thead>\n",
       "    <tr style=\"text-align: right;\">\n",
       "      <th></th>\n",
       "      <th>altitude_mean_meters</th>\n",
       "      <th>altitude_zscore</th>\n",
       "    </tr>\n",
       "  </thead>\n",
       "  <tbody>\n",
       "    <tr>\n",
       "      <th>896</th>\n",
       "      <td>190164.0</td>\n",
       "      <td>23.317833</td>\n",
       "    </tr>\n",
       "    <tr>\n",
       "      <th>1040</th>\n",
       "      <td>110000.0</td>\n",
       "      <td>13.398579</td>\n",
       "    </tr>\n",
       "    <tr>\n",
       "      <th>1144</th>\n",
       "      <td>190164.0</td>\n",
       "      <td>23.317833</td>\n",
       "    </tr>\n",
       "  </tbody>\n",
       "</table>\n",
       "</div>"
      ],
      "text/plain": [
       "      altitude_mean_meters  altitude_zscore\n",
       "896               190164.0        23.317833\n",
       "1040              110000.0        13.398579\n",
       "1144              190164.0        23.317833"
      ]
     },
     "execution_count": 49,
     "metadata": {},
     "output_type": "execute_result"
    }
   ],
   "source": [
    "df[\"altitude_zscore\"]=np.abs(stats.zscore(df[\"altitude_mean_meters\"]))\n",
    "df.loc[df[\"altitude_zscore\"]>2, [\"altitude_mean_meters\", \"altitude_zscore\"]]"
   ]
  },
  {
   "attachments": {},
   "cell_type": "markdown",
   "metadata": {},
   "source": [
    "Dado que sólo hemos encontrado tres casos, decidimos eliminarlos."
   ]
  },
  {
   "cell_type": "code",
   "execution_count": 51,
   "metadata": {},
   "outputs": [],
   "source": [
    "df = df[df[\"altitude_zscore\"]<3]"
   ]
  },
  {
   "cell_type": "code",
   "execution_count": 52,
   "metadata": {},
   "outputs": [
    {
     "data": {
      "text/plain": [
       "count     1276.000000\n",
       "mean      1337.062719\n",
       "std        686.904998\n",
       "min          1.000000\n",
       "25%       1050.000000\n",
       "50%       1310.640000\n",
       "75%       1600.000000\n",
       "max      11000.000000\n",
       "Name: altitude_mean_meters, dtype: float64"
      ]
     },
     "execution_count": 52,
     "metadata": {},
     "output_type": "execute_result"
    }
   ],
   "source": [
    "df[\"altitude_mean_meters\"].describe()"
   ]
  },
  {
   "attachments": {},
   "cell_type": "markdown",
   "metadata": {},
   "source": [
    "Seguimos teniendo demasiados valores, por"
   ]
  },
  {
   "attachments": {},
   "cell_type": "markdown",
   "metadata": {},
   "source": [
    "---"
   ]
  },
  {
   "attachments": {},
   "cell_type": "markdown",
   "metadata": {},
   "source": [
    "<h4 style=\"text-align: center;\"><ins>1 - País de Origen</ins></h4>"
   ]
  },
  {
   "cell_type": "code",
   "execution_count": null,
   "metadata": {},
   "outputs": [],
   "source": [
    "fig, ax = plt.subplots(figsize=(15, 10))\n",
    "sns.countplot(data=df, y=\"Country.of.Origin\", order= df[\"Country.of.Origin\"].value_counts().index, ax=ax)\n",
    "plt.show()"
   ]
  },
  {
   "attachments": {},
   "cell_type": "markdown",
   "metadata": {},
   "source": [
    "Los principales países productores de café presentes en el dataset son centroamericanos, con algunos africanos en posiciones centrales y los asiáticos con muy poca representación."
   ]
  },
  {
   "attachments": {},
   "cell_type": "markdown",
   "metadata": {},
   "source": [
    "<h4 style=\"text-align: center;\"><ins>2 - Especie</ins></h4>"
   ]
  },
  {
   "cell_type": "code",
   "execution_count": null,
   "metadata": {},
   "outputs": [],
   "source": [
    "fig, ax = plt.subplots(figsize=(15, 10))\n",
    "sns.countplot(data=df, y=\"Species\", order= df[\"Species\"].value_counts().index, ax=ax)\n",
    "plt.show()"
   ]
  },
  {
   "attachments": {},
   "cell_type": "markdown",
   "metadata": {},
   "source": [
    "El dataset está claramente poblado por más cantidad de registros de la especie \"Arabica\" que de la especie \"Robusta\".\n",
    "\n",
    "Esto debe ser tenido en cuenta en el momento de la realización de predicciones, pues un desequilibrio tan grande afectará negativamente y ha de ser evitado."
   ]
  },
  {
   "attachments": {},
   "cell_type": "markdown",
   "metadata": {},
   "source": [
    "<h4 style=\"text-align: center;\"><ins>3 - Variedad</ins></h4>"
   ]
  },
  {
   "cell_type": "code",
   "execution_count": null,
   "metadata": {},
   "outputs": [],
   "source": [
    "fig, ax = plt.subplots(figsize=(15, 10))\n",
    "sns.countplot(data=df, y=\"Variety\", order= df[\"Variety\"].value_counts().index, ax=ax)\n",
    "plt.show()"
   ]
  },
  {
   "attachments": {},
   "cell_type": "markdown",
   "metadata": {},
   "source": [
    "La presencia de tantos registros sin un valor específico de la variedad de café cultivada nos afectará negativamente a la hora de predecir qué variedad es mejor, por lo que lo mejor sería no tener en cuenta este atributo en su momento, aunque vamos a mantenerlo durante el análisis."
   ]
  },
  {
   "attachments": {},
   "cell_type": "markdown",
   "metadata": {},
   "source": [
    "<h4 style=\"text-align: center;\"><ins>4 - Altitud</ins></h4>"
   ]
  },
  {
   "cell_type": "code",
   "execution_count": null,
   "metadata": {},
   "outputs": [
    {
     "data": {
      "text/plain": [
       "min         1.0\n",
       "max    190164.0\n",
       "Name: altitude_mean_meters, dtype: float64"
      ]
     },
     "execution_count": 47,
     "metadata": {},
     "output_type": "execute_result"
    }
   ],
   "source": [
    "df[\"altitude_mean_meters\"].agg(['min', 'max'])"
   ]
  },
  {
   "cell_type": "code",
   "execution_count": null,
   "metadata": {},
   "outputs": [
    {
     "data": {
      "image/png": "[encoded data removed]",
      "text/plain": [
       "<Figure size 1500x1000 with 1 Axes>"
      ]
     },
     "metadata": {},
     "output_type": "display_data"
    }
   ],
   "source": [
    "fig, ax = plt.subplots(figsize=(15, 10))\n",
    "sns.countplot(data=df, y=\"altitude_mean_meters\", order= df[\"altitude_mean_meters\"].value_counts().index, ax=ax)\n",
    "plt.show()"
   ]
  },
  {
   "attachments": {},
   "cell_type": "markdown",
   "metadata": {},
   "source": []
  },
  {
   "cell_type": "code",
   "execution_count": null,
   "metadata": {},
   "outputs": [
    {
     "data": {
      "text/plain": [
       "Index(['Species', 'Country.of.Origin', 'Region', 'Variety',\n",
       "       'Processing.Method', 'Aroma', 'Flavor', 'Aftertaste', 'Acidity', 'Body',\n",
       "       'Balance', 'Uniformity', 'Clean.Cup', 'Sweetness', 'Total.Cup.Points',\n",
       "       'Moisture', 'Category.One.Defects', 'Quakers', 'Color',\n",
       "       'Category.Two.Defects', 'Expiration', 'unit_of_measurement',\n",
       "       'altitude_mean_meters', 'HarvestYear_Calc'],\n",
       "      dtype='object')"
      ]
     },
     "execution_count": 38,
     "metadata": {},
     "output_type": "execute_result"
    }
   ],
   "source": [
    "<h4 style=\"text-align: center;\"><ins>2 - Especie</ins></h4>\n",
    "\n",
    "df.columns"
   ]
  },
  {
   "attachments": {},
   "cell_type": "markdown",
   "metadata": {},
   "source": [
    "#### Checking values for VARIETY"
   ]
  },
  {
   "cell_type": "code",
   "execution_count": null,
   "metadata": {},
   "outputs": [
    {
     "data": {
      "text/plain": [
       "array(['Other', 'Catimor', 'Ethiopian Yirgacheffe', 'Caturra', 'Bourbon',\n",
       "       'SL14', 'Sumatra', 'SL34', 'Hawaiian Kona', 'Yellow Bourbon',\n",
       "       'SL28', 'Gesha', 'Catuai', 'Pacamara', 'Typica', 'Sumatra Lintong',\n",
       "       'Mundo Novo', 'Java', 'Peaberry', 'Pacas', 'Mandheling',\n",
       "       'Ruiru 11', 'Ethiopian Heirlooms', 'Moka Peaberry', 'Arusha',\n",
       "       'Sulawesi', 'Blue Mountain', 'Marigojipe', 'Pache Comun'],\n",
       "      dtype=object)"
      ]
     },
     "execution_count": 34,
     "metadata": {},
     "output_type": "execute_result"
    }
   ],
   "source": [
    "df[\"Variety\"].unique()"
   ]
  },
  {
   "attachments": {},
   "cell_type": "markdown",
   "metadata": {},
   "source": [
    "There are multiple and different values for unknown varieties or missing values. We will standarize it and assign the value \"UNKNOWN\" for all of them.\n",
    "\n",
    "Also, we will replace the '+' symbols as well as 'and' or 'y' words with commas to correctly separate the coffee varieties.\n",
    "\n",
    "To finish, we will write all the words in capital letters."
   ]
  },
  {
   "cell_type": "code",
   "execution_count": null,
   "metadata": {},
   "outputs": [
    {
     "name": "stderr",
     "output_type": "stream",
     "text": [
      "C:\\Users\\Sistemas\\AppData\\Local\\Temp\\ipykernel_4984\\3628808133.py:2: FutureWarning: The default value of regex will change from True to False in a future version.\n",
      "  df.loc[df[\"Variety\"].str.contains(' \\+ '), 'Variety'] = df[\"Variety\"].str.replace(' + ',',')\n",
      "C:\\Users\\Sistemas\\AppData\\Local\\Temp\\ipykernel_4984\\3628808133.py:3: FutureWarning: The default value of regex will change from True to False in a future version. In addition, single character regular expressions will *not* be treated as literal strings when regex=True.\n",
      "  df.loc[df[\"Variety\"].str.contains('\\+'), 'Variety'] = df[\"Variety\"].str.replace('+',',')\n"
     ]
    }
   ],
   "source": [
    "df[\"Variety\"][(df[\"Variety\"]=='unknown') | (df[\"Variety\"]=='unknow')] = \"UNKNOWN\"\n",
    "df.loc[df[\"Variety\"].str.contains(' \\+ '), 'Variety'] = df[\"Variety\"].str.replace(' + ',',')\n",
    "df.loc[df[\"Variety\"].str.contains('\\+'), 'Variety'] = df[\"Variety\"].str.replace('+',',')\n",
    "df.loc[df[\"Variety\"].str.contains(' and '), 'Variety'] = df[\"Variety\"].str.replace(' and ',',')\n",
    "df.loc[df[\"Variety\"].str.contains(' Y '), 'Variety'] = df[\"Variety\"].str.replace(' Y ',',')\n",
    "df.loc[df[\"Variety\"].str.contains(' & '), 'Variety'] = df[\"Variety\"].str.replace(' & ',',')\n",
    "df[\"Variety\"] = df[\"Variety\"].str.upper()\n"
   ]
  },
  {
   "attachments": {},
   "cell_type": "markdown",
   "metadata": {},
   "source": [
    "#### Checking values for PROCESSING METHOD"
   ]
  },
  {
   "cell_type": "code",
   "execution_count": null,
   "metadata": {},
   "outputs": [
    {
     "ename": "KeyError",
     "evalue": "'Processing Method'",
     "output_type": "error",
     "traceback": [
      "\u001b[1;31m---------------------------------------------------------------------------\u001b[0m",
      "\u001b[1;31mKeyError\u001b[0m                                  Traceback (most recent call last)",
      "File \u001b[1;32mc:\\Users\\Sistemas\\AppData\\Local\\Programs\\Python\\Python311\\Lib\\site-packages\\pandas\\core\\indexes\\base.py:3802\u001b[0m, in \u001b[0;36mIndex.get_loc\u001b[1;34m(self, key, method, tolerance)\u001b[0m\n\u001b[0;32m   3801\u001b[0m \u001b[39mtry\u001b[39;00m:\n\u001b[1;32m-> 3802\u001b[0m     \u001b[39mreturn\u001b[39;00m \u001b[39mself\u001b[39;49m\u001b[39m.\u001b[39;49m_engine\u001b[39m.\u001b[39;49mget_loc(casted_key)\n\u001b[0;32m   3803\u001b[0m \u001b[39mexcept\u001b[39;00m \u001b[39mKeyError\u001b[39;00m \u001b[39mas\u001b[39;00m err:\n",
      "File \u001b[1;32mc:\\Users\\Sistemas\\AppData\\Local\\Programs\\Python\\Python311\\Lib\\site-packages\\pandas\\_libs\\index.pyx:138\u001b[0m, in \u001b[0;36mpandas._libs.index.IndexEngine.get_loc\u001b[1;34m()\u001b[0m\n",
      "File \u001b[1;32mc:\\Users\\Sistemas\\AppData\\Local\\Programs\\Python\\Python311\\Lib\\site-packages\\pandas\\_libs\\index.pyx:165\u001b[0m, in \u001b[0;36mpandas._libs.index.IndexEngine.get_loc\u001b[1;34m()\u001b[0m\n",
      "File \u001b[1;32mpandas\\_libs\\hashtable_class_helper.pxi:5745\u001b[0m, in \u001b[0;36mpandas._libs.hashtable.PyObjectHashTable.get_item\u001b[1;34m()\u001b[0m\n",
      "File \u001b[1;32mpandas\\_libs\\hashtable_class_helper.pxi:5753\u001b[0m, in \u001b[0;36mpandas._libs.hashtable.PyObjectHashTable.get_item\u001b[1;34m()\u001b[0m\n",
      "\u001b[1;31mKeyError\u001b[0m: 'Processing Method'",
      "\nThe above exception was the direct cause of the following exception:\n",
      "\u001b[1;31mKeyError\u001b[0m                                  Traceback (most recent call last)",
      "Cell \u001b[1;32mIn[36], line 1\u001b[0m\n\u001b[1;32m----> 1\u001b[0m df[\u001b[39m\"\u001b[39;49m\u001b[39mProcessing Method\u001b[39;49m\u001b[39m\"\u001b[39;49m]\u001b[39m.\u001b[39munique()\n",
      "File \u001b[1;32mc:\\Users\\Sistemas\\AppData\\Local\\Programs\\Python\\Python311\\Lib\\site-packages\\pandas\\core\\frame.py:3807\u001b[0m, in \u001b[0;36mDataFrame.__getitem__\u001b[1;34m(self, key)\u001b[0m\n\u001b[0;32m   3805\u001b[0m \u001b[39mif\u001b[39;00m \u001b[39mself\u001b[39m\u001b[39m.\u001b[39mcolumns\u001b[39m.\u001b[39mnlevels \u001b[39m>\u001b[39m \u001b[39m1\u001b[39m:\n\u001b[0;32m   3806\u001b[0m     \u001b[39mreturn\u001b[39;00m \u001b[39mself\u001b[39m\u001b[39m.\u001b[39m_getitem_multilevel(key)\n\u001b[1;32m-> 3807\u001b[0m indexer \u001b[39m=\u001b[39m \u001b[39mself\u001b[39;49m\u001b[39m.\u001b[39;49mcolumns\u001b[39m.\u001b[39;49mget_loc(key)\n\u001b[0;32m   3808\u001b[0m \u001b[39mif\u001b[39;00m is_integer(indexer):\n\u001b[0;32m   3809\u001b[0m     indexer \u001b[39m=\u001b[39m [indexer]\n",
      "File \u001b[1;32mc:\\Users\\Sistemas\\AppData\\Local\\Programs\\Python\\Python311\\Lib\\site-packages\\pandas\\core\\indexes\\base.py:3804\u001b[0m, in \u001b[0;36mIndex.get_loc\u001b[1;34m(self, key, method, tolerance)\u001b[0m\n\u001b[0;32m   3802\u001b[0m     \u001b[39mreturn\u001b[39;00m \u001b[39mself\u001b[39m\u001b[39m.\u001b[39m_engine\u001b[39m.\u001b[39mget_loc(casted_key)\n\u001b[0;32m   3803\u001b[0m \u001b[39mexcept\u001b[39;00m \u001b[39mKeyError\u001b[39;00m \u001b[39mas\u001b[39;00m err:\n\u001b[1;32m-> 3804\u001b[0m     \u001b[39mraise\u001b[39;00m \u001b[39mKeyError\u001b[39;00m(key) \u001b[39mfrom\u001b[39;00m \u001b[39merr\u001b[39;00m\n\u001b[0;32m   3805\u001b[0m \u001b[39mexcept\u001b[39;00m \u001b[39mTypeError\u001b[39;00m:\n\u001b[0;32m   3806\u001b[0m     \u001b[39m# If we have a listlike key, _check_indexing_error will raise\u001b[39;00m\n\u001b[0;32m   3807\u001b[0m     \u001b[39m#  InvalidIndexError. Otherwise we fall through and re-raise\u001b[39;00m\n\u001b[0;32m   3808\u001b[0m     \u001b[39m#  the TypeError.\u001b[39;00m\n\u001b[0;32m   3809\u001b[0m     \u001b[39mself\u001b[39m\u001b[39m.\u001b[39m_check_indexing_error(key)\n",
      "\u001b[1;31mKeyError\u001b[0m: 'Processing Method'"
     ]
    }
   ],
   "source": [
    "df[\"Processing Method\"].unique()"
   ]
  },
  {
   "attachments": {},
   "cell_type": "markdown",
   "metadata": {},
   "source": [
    "We replace the method in spanish for the translated one, which is \"Semi Washed\" and set all values to capital letters"
   ]
  },
  {
   "cell_type": "code",
   "execution_count": null,
   "metadata": {},
   "outputs": [],
   "source": [
    "df[\"Processing Method\"][(df[\"Processing Method\"]=='SEMI-LAVADO')] = 'Semi Washed'\n",
    "df[\"Processing Method\"] = df[\"Processing Method\"].str.upper()"
   ]
  }
 ],
 "metadata": {
  "kernelspec": {
   "display_name": "Python 3",
   "language": "python",
   "name": "python3"
  },
  "language_info": {
   "codemirror_mode": {
    "name": "ipython",
    "version": 3
   },
   "file_extension": ".py",
   "mimetype": "text/x-python",
   "name": "python",
   "nbconvert_exporter": "python",
   "pygments_lexer": "ipython3",
   "version": "3.11.2"
  },
  "orig_nbformat": 4
 },
 "nbformat": 4,
 "nbformat_minor": 2
}
